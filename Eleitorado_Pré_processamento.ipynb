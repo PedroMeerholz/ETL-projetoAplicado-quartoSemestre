{
  "cells": [
    {
      "cell_type": "markdown",
      "metadata": {
        "id": "LQ5sSXbqw2zR"
      },
      "source": [
        "# Bibliotecas"
      ]
    },
    {
      "cell_type": "code",
      "execution_count": 1,
      "metadata": {
        "id": "XI5fVrOQuFXC"
      },
      "outputs": [],
      "source": [
        "import pandas as pd\n",
        "import numpy as np\n",
        "\n",
        "import os  \n",
        "os.makedirs('/content/csv/', exist_ok=True)   "
      ]
    },
    {
      "cell_type": "markdown",
      "metadata": {
        "id": "F7UoeEFuxXxs"
      },
      "source": [
        "# Dataset"
      ]
    },
    {
      "cell_type": "code",
      "execution_count": 2,
      "metadata": {
        "colab": {
          "base_uri": "https://localhost:8080/",
          "height": 404
        },
        "id": "GFwGhyw_xRJ6",
        "outputId": "5b55ed30-3405-4390-9979-a7d0c3431a67"
      },
      "outputs": [
        {
          "output_type": "execute_result",
          "data": {
            "text/plain": [
              "   DT_GERACAO HH_GERACAO  ANO_ELEICAO SG_UF  CD_MUNICIPIO NM_MUNICIPIO  \\\n",
              "0  11/07/2022   22:32:34         2022    PE         24430      IPOJUCA   \n",
              "1  11/07/2022   22:32:34         2022    PE         24430      IPOJUCA   \n",
              "2  11/07/2022   22:32:34         2022    PE         24430      IPOJUCA   \n",
              "3  11/07/2022   22:32:34         2022    PE         24430      IPOJUCA   \n",
              "4  11/07/2022   22:32:34         2022    PE         24430      IPOJUCA   \n",
              "\n",
              "   CD_MUN_SIT_BIOMETRICA DS_MUN_SIT_BIOMETRICA  NR_ZONA  CD_GENERO  ...  \\\n",
              "0                      1            Biométrico       16          4  ...   \n",
              "1                      1            Biométrico       16          4  ...   \n",
              "2                      1            Biométrico       16          4  ...   \n",
              "3                      1            Biométrico       16          4  ...   \n",
              "4                      1            Biométrico       16          4  ...   \n",
              "\n",
              "  CD_ESTADO_CIVIL  DS_ESTADO_CIVIL CD_FAIXA_ETARIA  \\\n",
              "0               1         SOLTEIRO            4549   \n",
              "1               1         SOLTEIRO            4549   \n",
              "2               1         SOLTEIRO            4549   \n",
              "3               1         SOLTEIRO            4549   \n",
              "4               1         SOLTEIRO            4549   \n",
              "\n",
              "                  DS_FAIXA_ETARIA CD_GRAU_ESCOLARIDADE  \\\n",
              "0  45 a 49 anos                                      2   \n",
              "1  45 a 49 anos                                      3   \n",
              "2  45 a 49 anos                                      4   \n",
              "3  45 a 49 anos                                      5   \n",
              "4  45 a 49 anos                                      6   \n",
              "\n",
              "            DS_GRAU_ESCOLARIDADE QT_ELEITORES_PERFIL  QT_ELEITORES_BIOMETRIA  \\\n",
              "0                   LÊ E ESCREVE                 342                     338   \n",
              "1  ENSINO FUNDAMENTAL INCOMPLETO                 753                     744   \n",
              "2    ENSINO FUNDAMENTAL COMPLETO                 138                     136   \n",
              "3        ENSINO MÉDIO INCOMPLETO                 150                     145   \n",
              "4          ENSINO MÉDIO COMPLETO                 558                     552   \n",
              "\n",
              "   QT_ELEITORES_DEFICIENCIA  QT_ELEITORES_INC_NM_SOCIAL  \n",
              "0                         1                           0  \n",
              "1                         3                           0  \n",
              "2                         0                           0  \n",
              "3                         1                           0  \n",
              "4                         0                           0  \n",
              "\n",
              "[5 rows x 21 columns]"
            ],
            "text/html": [
              "\n",
              "  <div id=\"df-6b80bb39-2af5-4f4e-b9c3-88b40c26bd50\">\n",
              "    <div class=\"colab-df-container\">\n",
              "      <div>\n",
              "<style scoped>\n",
              "    .dataframe tbody tr th:only-of-type {\n",
              "        vertical-align: middle;\n",
              "    }\n",
              "\n",
              "    .dataframe tbody tr th {\n",
              "        vertical-align: top;\n",
              "    }\n",
              "\n",
              "    .dataframe thead th {\n",
              "        text-align: right;\n",
              "    }\n",
              "</style>\n",
              "<table border=\"1\" class=\"dataframe\">\n",
              "  <thead>\n",
              "    <tr style=\"text-align: right;\">\n",
              "      <th></th>\n",
              "      <th>DT_GERACAO</th>\n",
              "      <th>HH_GERACAO</th>\n",
              "      <th>ANO_ELEICAO</th>\n",
              "      <th>SG_UF</th>\n",
              "      <th>CD_MUNICIPIO</th>\n",
              "      <th>NM_MUNICIPIO</th>\n",
              "      <th>CD_MUN_SIT_BIOMETRICA</th>\n",
              "      <th>DS_MUN_SIT_BIOMETRICA</th>\n",
              "      <th>NR_ZONA</th>\n",
              "      <th>CD_GENERO</th>\n",
              "      <th>...</th>\n",
              "      <th>CD_ESTADO_CIVIL</th>\n",
              "      <th>DS_ESTADO_CIVIL</th>\n",
              "      <th>CD_FAIXA_ETARIA</th>\n",
              "      <th>DS_FAIXA_ETARIA</th>\n",
              "      <th>CD_GRAU_ESCOLARIDADE</th>\n",
              "      <th>DS_GRAU_ESCOLARIDADE</th>\n",
              "      <th>QT_ELEITORES_PERFIL</th>\n",
              "      <th>QT_ELEITORES_BIOMETRIA</th>\n",
              "      <th>QT_ELEITORES_DEFICIENCIA</th>\n",
              "      <th>QT_ELEITORES_INC_NM_SOCIAL</th>\n",
              "    </tr>\n",
              "  </thead>\n",
              "  <tbody>\n",
              "    <tr>\n",
              "      <th>0</th>\n",
              "      <td>11/07/2022</td>\n",
              "      <td>22:32:34</td>\n",
              "      <td>2022</td>\n",
              "      <td>PE</td>\n",
              "      <td>24430</td>\n",
              "      <td>IPOJUCA</td>\n",
              "      <td>1</td>\n",
              "      <td>Biométrico</td>\n",
              "      <td>16</td>\n",
              "      <td>4</td>\n",
              "      <td>...</td>\n",
              "      <td>1</td>\n",
              "      <td>SOLTEIRO</td>\n",
              "      <td>4549</td>\n",
              "      <td>45 a 49 anos</td>\n",
              "      <td>2</td>\n",
              "      <td>LÊ E ESCREVE</td>\n",
              "      <td>342</td>\n",
              "      <td>338</td>\n",
              "      <td>1</td>\n",
              "      <td>0</td>\n",
              "    </tr>\n",
              "    <tr>\n",
              "      <th>1</th>\n",
              "      <td>11/07/2022</td>\n",
              "      <td>22:32:34</td>\n",
              "      <td>2022</td>\n",
              "      <td>PE</td>\n",
              "      <td>24430</td>\n",
              "      <td>IPOJUCA</td>\n",
              "      <td>1</td>\n",
              "      <td>Biométrico</td>\n",
              "      <td>16</td>\n",
              "      <td>4</td>\n",
              "      <td>...</td>\n",
              "      <td>1</td>\n",
              "      <td>SOLTEIRO</td>\n",
              "      <td>4549</td>\n",
              "      <td>45 a 49 anos</td>\n",
              "      <td>3</td>\n",
              "      <td>ENSINO FUNDAMENTAL INCOMPLETO</td>\n",
              "      <td>753</td>\n",
              "      <td>744</td>\n",
              "      <td>3</td>\n",
              "      <td>0</td>\n",
              "    </tr>\n",
              "    <tr>\n",
              "      <th>2</th>\n",
              "      <td>11/07/2022</td>\n",
              "      <td>22:32:34</td>\n",
              "      <td>2022</td>\n",
              "      <td>PE</td>\n",
              "      <td>24430</td>\n",
              "      <td>IPOJUCA</td>\n",
              "      <td>1</td>\n",
              "      <td>Biométrico</td>\n",
              "      <td>16</td>\n",
              "      <td>4</td>\n",
              "      <td>...</td>\n",
              "      <td>1</td>\n",
              "      <td>SOLTEIRO</td>\n",
              "      <td>4549</td>\n",
              "      <td>45 a 49 anos</td>\n",
              "      <td>4</td>\n",
              "      <td>ENSINO FUNDAMENTAL COMPLETO</td>\n",
              "      <td>138</td>\n",
              "      <td>136</td>\n",
              "      <td>0</td>\n",
              "      <td>0</td>\n",
              "    </tr>\n",
              "    <tr>\n",
              "      <th>3</th>\n",
              "      <td>11/07/2022</td>\n",
              "      <td>22:32:34</td>\n",
              "      <td>2022</td>\n",
              "      <td>PE</td>\n",
              "      <td>24430</td>\n",
              "      <td>IPOJUCA</td>\n",
              "      <td>1</td>\n",
              "      <td>Biométrico</td>\n",
              "      <td>16</td>\n",
              "      <td>4</td>\n",
              "      <td>...</td>\n",
              "      <td>1</td>\n",
              "      <td>SOLTEIRO</td>\n",
              "      <td>4549</td>\n",
              "      <td>45 a 49 anos</td>\n",
              "      <td>5</td>\n",
              "      <td>ENSINO MÉDIO INCOMPLETO</td>\n",
              "      <td>150</td>\n",
              "      <td>145</td>\n",
              "      <td>1</td>\n",
              "      <td>0</td>\n",
              "    </tr>\n",
              "    <tr>\n",
              "      <th>4</th>\n",
              "      <td>11/07/2022</td>\n",
              "      <td>22:32:34</td>\n",
              "      <td>2022</td>\n",
              "      <td>PE</td>\n",
              "      <td>24430</td>\n",
              "      <td>IPOJUCA</td>\n",
              "      <td>1</td>\n",
              "      <td>Biométrico</td>\n",
              "      <td>16</td>\n",
              "      <td>4</td>\n",
              "      <td>...</td>\n",
              "      <td>1</td>\n",
              "      <td>SOLTEIRO</td>\n",
              "      <td>4549</td>\n",
              "      <td>45 a 49 anos</td>\n",
              "      <td>6</td>\n",
              "      <td>ENSINO MÉDIO COMPLETO</td>\n",
              "      <td>558</td>\n",
              "      <td>552</td>\n",
              "      <td>0</td>\n",
              "      <td>0</td>\n",
              "    </tr>\n",
              "  </tbody>\n",
              "</table>\n",
              "<p>5 rows × 21 columns</p>\n",
              "</div>\n",
              "      <button class=\"colab-df-convert\" onclick=\"convertToInteractive('df-6b80bb39-2af5-4f4e-b9c3-88b40c26bd50')\"\n",
              "              title=\"Convert this dataframe to an interactive table.\"\n",
              "              style=\"display:none;\">\n",
              "        \n",
              "  <svg xmlns=\"http://www.w3.org/2000/svg\" height=\"24px\"viewBox=\"0 0 24 24\"\n",
              "       width=\"24px\">\n",
              "    <path d=\"M0 0h24v24H0V0z\" fill=\"none\"/>\n",
              "    <path d=\"M18.56 5.44l.94 2.06.94-2.06 2.06-.94-2.06-.94-.94-2.06-.94 2.06-2.06.94zm-11 1L8.5 8.5l.94-2.06 2.06-.94-2.06-.94L8.5 2.5l-.94 2.06-2.06.94zm10 10l.94 2.06.94-2.06 2.06-.94-2.06-.94-.94-2.06-.94 2.06-2.06.94z\"/><path d=\"M17.41 7.96l-1.37-1.37c-.4-.4-.92-.59-1.43-.59-.52 0-1.04.2-1.43.59L10.3 9.45l-7.72 7.72c-.78.78-.78 2.05 0 2.83L4 21.41c.39.39.9.59 1.41.59.51 0 1.02-.2 1.41-.59l7.78-7.78 2.81-2.81c.8-.78.8-2.07 0-2.86zM5.41 20L4 18.59l7.72-7.72 1.47 1.35L5.41 20z\"/>\n",
              "  </svg>\n",
              "      </button>\n",
              "      \n",
              "  <style>\n",
              "    .colab-df-container {\n",
              "      display:flex;\n",
              "      flex-wrap:wrap;\n",
              "      gap: 12px;\n",
              "    }\n",
              "\n",
              "    .colab-df-convert {\n",
              "      background-color: #E8F0FE;\n",
              "      border: none;\n",
              "      border-radius: 50%;\n",
              "      cursor: pointer;\n",
              "      display: none;\n",
              "      fill: #1967D2;\n",
              "      height: 32px;\n",
              "      padding: 0 0 0 0;\n",
              "      width: 32px;\n",
              "    }\n",
              "\n",
              "    .colab-df-convert:hover {\n",
              "      background-color: #E2EBFA;\n",
              "      box-shadow: 0px 1px 2px rgba(60, 64, 67, 0.3), 0px 1px 3px 1px rgba(60, 64, 67, 0.15);\n",
              "      fill: #174EA6;\n",
              "    }\n",
              "\n",
              "    [theme=dark] .colab-df-convert {\n",
              "      background-color: #3B4455;\n",
              "      fill: #D2E3FC;\n",
              "    }\n",
              "\n",
              "    [theme=dark] .colab-df-convert:hover {\n",
              "      background-color: #434B5C;\n",
              "      box-shadow: 0px 1px 3px 1px rgba(0, 0, 0, 0.15);\n",
              "      filter: drop-shadow(0px 1px 2px rgba(0, 0, 0, 0.3));\n",
              "      fill: #FFFFFF;\n",
              "    }\n",
              "  </style>\n",
              "\n",
              "      <script>\n",
              "        const buttonEl =\n",
              "          document.querySelector('#df-6b80bb39-2af5-4f4e-b9c3-88b40c26bd50 button.colab-df-convert');\n",
              "        buttonEl.style.display =\n",
              "          google.colab.kernel.accessAllowed ? 'block' : 'none';\n",
              "\n",
              "        async function convertToInteractive(key) {\n",
              "          const element = document.querySelector('#df-6b80bb39-2af5-4f4e-b9c3-88b40c26bd50');\n",
              "          const dataTable =\n",
              "            await google.colab.kernel.invokeFunction('convertToInteractive',\n",
              "                                                     [key], {});\n",
              "          if (!dataTable) return;\n",
              "\n",
              "          const docLinkHtml = 'Like what you see? Visit the ' +\n",
              "            '<a target=\"_blank\" href=https://colab.research.google.com/notebooks/data_table.ipynb>data table notebook</a>'\n",
              "            + ' to learn more about interactive tables.';\n",
              "          element.innerHTML = '';\n",
              "          dataTable['output_type'] = 'display_data';\n",
              "          await google.colab.output.renderOutput(dataTable, element);\n",
              "          const docLink = document.createElement('div');\n",
              "          docLink.innerHTML = docLinkHtml;\n",
              "          element.appendChild(docLink);\n",
              "        }\n",
              "      </script>\n",
              "    </div>\n",
              "  </div>\n",
              "  "
            ]
          },
          "metadata": {},
          "execution_count": 2
        }
      ],
      "source": [
        "eleitorado = pd.read_csv('/content/drive/MyDrive/Graduação/4° Semestre/PI III/Datasets/Eleitorado/perfil_eleitorado_2022.csv', sep=';', encoding='latin 1')\n",
        "eleitorado.head()"
      ]
    },
    {
      "cell_type": "code",
      "execution_count": 3,
      "metadata": {
        "colab": {
          "base_uri": "https://localhost:8080/"
        },
        "id": "4n4dLB3mGftr",
        "outputId": "9b61ce13-0d5d-4f43-cf8e-9283f4b2c939"
      },
      "outputs": [
        {
          "output_type": "execute_result",
          "data": {
            "text/plain": [
              "(4362480, 21)"
            ]
          },
          "metadata": {},
          "execution_count": 3
        }
      ],
      "source": [
        "eleitorado.shape"
      ]
    },
    {
      "cell_type": "markdown",
      "metadata": {
        "id": "5gDqLTO1zLNa"
      },
      "source": [
        "# Exploração de dados"
      ]
    },
    {
      "cell_type": "markdown",
      "metadata": {
        "id": "hwmgKb_1JD8d"
      },
      "source": [
        "## Valores por coluna"
      ]
    },
    {
      "cell_type": "code",
      "execution_count": 4,
      "metadata": {
        "colab": {
          "base_uri": "https://localhost:8080/"
        },
        "id": "FYZZlmyNzM2F",
        "outputId": "3a2808c1-11ed-4fce-e1e4-86492b48c19f"
      },
      "outputs": [
        {
          "output_type": "execute_result",
          "data": {
            "text/plain": [
              "11/07/2022    4362480\n",
              "Name: DT_GERACAO, dtype: int64"
            ]
          },
          "metadata": {},
          "execution_count": 4
        }
      ],
      "source": [
        "eleitorado['DT_GERACAO'].value_counts()"
      ]
    },
    {
      "cell_type": "code",
      "execution_count": 5,
      "metadata": {
        "colab": {
          "base_uri": "https://localhost:8080/"
        },
        "id": "GlAL-2kmzRRE",
        "outputId": "0a1b019a-8aed-4391-8ea9-b139f6d91898"
      },
      "outputs": [
        {
          "output_type": "execute_result",
          "data": {
            "text/plain": [
              "22:32:34    4362480\n",
              "Name: HH_GERACAO, dtype: int64"
            ]
          },
          "metadata": {},
          "execution_count": 5
        }
      ],
      "source": [
        "eleitorado['HH_GERACAO'].value_counts()"
      ]
    },
    {
      "cell_type": "code",
      "execution_count": 6,
      "metadata": {
        "colab": {
          "base_uri": "https://localhost:8080/"
        },
        "id": "kWE2mjXJzX6K",
        "outputId": "36d59559-b871-4648-abb3-2dedc535ad6c"
      },
      "outputs": [
        {
          "output_type": "execute_result",
          "data": {
            "text/plain": [
              "2022    4362480\n",
              "Name: ANO_ELEICAO, dtype: int64"
            ]
          },
          "metadata": {},
          "execution_count": 6
        }
      ],
      "source": [
        "eleitorado['ANO_ELEICAO'].value_counts()"
      ]
    },
    {
      "cell_type": "code",
      "execution_count": 7,
      "metadata": {
        "colab": {
          "base_uri": "https://localhost:8080/"
        },
        "id": "u8aQSbGWzcZa",
        "outputId": "c96e5396-179e-4c40-958c-4754cb23a5f5"
      },
      "outputs": [
        {
          "output_type": "execute_result",
          "data": {
            "text/plain": [
              "SP    648813\n",
              "MG    614368\n",
              "RS    323981\n",
              "BA    320610\n",
              "PR    290415\n",
              "RJ    201993\n",
              "SC    201819\n",
              "GO    173632\n",
              "CE    162691\n",
              "PE    162647\n",
              "MA    143722\n",
              "PB    142102\n",
              "PI    129566\n",
              "PA    124118\n",
              "RN    106730\n",
              "MT     94728\n",
              "TO     74733\n",
              "AL     70946\n",
              "ES     69940\n",
              "MS     67657\n",
              "SE     51133\n",
              "AM     51053\n",
              "RO     40067\n",
              "ZZ     36910\n",
              "DF     19891\n",
              "AC     16081\n",
              "AP     11396\n",
              "RR     10738\n",
              "Name: SG_UF, dtype: int64"
            ]
          },
          "metadata": {},
          "execution_count": 7
        }
      ],
      "source": [
        "eleitorado['SG_UF'].value_counts()"
      ]
    },
    {
      "cell_type": "code",
      "execution_count": 8,
      "metadata": {
        "colab": {
          "base_uri": "https://localhost:8080/"
        },
        "id": "ZloWG-p3zfYX",
        "outputId": "f2f7a778-4c02-4518-dafd-611e5b5a5421"
      },
      "outputs": [
        {
          "output_type": "execute_result",
          "data": {
            "text/plain": [
              "71072    69222\n",
              "60011    62048\n",
              "41238    21436\n",
              "13897    20284\n",
              "97012    19891\n",
              "         ...  \n",
              "99384        1\n",
              "99198        1\n",
              "99252        1\n",
              "99350        1\n",
              "99147        1\n",
              "Name: CD_MUNICIPIO, Length: 5751, dtype: int64"
            ]
          },
          "metadata": {},
          "execution_count": 8
        }
      ],
      "source": [
        "eleitorado['CD_MUNICIPIO'].value_counts()"
      ]
    },
    {
      "cell_type": "code",
      "execution_count": 9,
      "metadata": {
        "colab": {
          "base_uri": "https://localhost:8080/"
        },
        "id": "QRJFaF-QC_Zg",
        "outputId": "663fb152-22f3-4ef4-b653-1c011431e5bb"
      },
      "outputs": [
        {
          "output_type": "execute_result",
          "data": {
            "text/plain": [
              "SÃO PAULO         69222\n",
              "RIO DE JANEIRO    62048\n",
              "BELO HORIZONTE    21436\n",
              "FORTALEZA         20284\n",
              "BRASÍLIA          19891\n",
              "                  ...  \n",
              "BAMAKO                1\n",
              "CASTRIES              1\n",
              "SAINT JOHNS           1\n",
              "ABUJA                 1\n",
              "VATICANO              1\n",
              "Name: NM_MUNICIPIO, Length: 5466, dtype: int64"
            ]
          },
          "metadata": {},
          "execution_count": 9
        }
      ],
      "source": [
        "eleitorado['NM_MUNICIPIO'].value_counts()"
      ]
    },
    {
      "cell_type": "code",
      "execution_count": 10,
      "metadata": {
        "colab": {
          "base_uri": "https://localhost:8080/"
        },
        "id": "7_oV5QE7DNs0",
        "outputId": "f2cbf714-a13b-4a2f-fb66-316c14f98c92"
      },
      "outputs": [
        {
          "output_type": "execute_result",
          "data": {
            "text/plain": [
              "1    3250983\n",
              "2    1033158\n",
              "0      78339\n",
              "Name: CD_MUN_SIT_BIOMETRICA, dtype: int64"
            ]
          },
          "metadata": {},
          "execution_count": 10
        }
      ],
      "source": [
        "eleitorado['CD_MUN_SIT_BIOMETRICA'].value_counts()"
      ]
    },
    {
      "cell_type": "code",
      "execution_count": 11,
      "metadata": {
        "colab": {
          "base_uri": "https://localhost:8080/"
        },
        "id": "LWlkiLx1DPv-",
        "outputId": "e2e8d4bf-7028-4a14-ba45-795e6af9c593"
      },
      "outputs": [
        {
          "output_type": "execute_result",
          "data": {
            "text/plain": [
              "Biométrico       3250983\n",
              "Híbrido          1033158\n",
              "Sem biometria      78339\n",
              "Name: DS_MUN_SIT_BIOMETRICA, dtype: int64"
            ]
          },
          "metadata": {},
          "execution_count": 11
        }
      ],
      "source": [
        "eleitorado['DS_MUN_SIT_BIOMETRICA'].value_counts()"
      ]
    },
    {
      "cell_type": "code",
      "execution_count": 12,
      "metadata": {
        "colab": {
          "base_uri": "https://localhost:8080/"
        },
        "id": "4FaQqRukJZHV",
        "outputId": "97e3f246-8168-4617-ddcd-4529d353efca"
      },
      "outputs": [
        {
          "output_type": "execute_result",
          "data": {
            "text/plain": [
              "1      71168\n",
              "8      47962\n",
              "4      43394\n",
              "11     43159\n",
              "9      42194\n",
              "       ...  \n",
              "360      997\n",
              "391      986\n",
              "292      975\n",
              "309      822\n",
              "308      820\n",
              "Name: NR_ZONA, Length: 421, dtype: int64"
            ]
          },
          "metadata": {},
          "execution_count": 12
        }
      ],
      "source": [
        "eleitorado['NR_ZONA'].value_counts()"
      ]
    },
    {
      "cell_type": "code",
      "execution_count": 13,
      "metadata": {
        "colab": {
          "base_uri": "https://localhost:8080/"
        },
        "id": "8lBSyJIfJabH",
        "outputId": "edbb99c0-d363-4f27-a166-b1feb428f523"
      },
      "outputs": [
        {
          "output_type": "execute_result",
          "data": {
            "text/plain": [
              "4    2296524\n",
              "2    2045270\n",
              "0      20686\n",
              "Name: CD_GENERO, dtype: int64"
            ]
          },
          "metadata": {},
          "execution_count": 13
        }
      ],
      "source": [
        "eleitorado['CD_GENERO'].value_counts()"
      ]
    },
    {
      "cell_type": "code",
      "execution_count": 14,
      "metadata": {
        "colab": {
          "base_uri": "https://localhost:8080/"
        },
        "id": "J-CcgMqAJd4y",
        "outputId": "ca65675f-8b2f-4be8-9fc3-28e138dd33ea"
      },
      "outputs": [
        {
          "output_type": "execute_result",
          "data": {
            "text/plain": [
              "FEMININO         2296524\n",
              "MASCULINO        2045270\n",
              "NÃO INFORMADO      20686\n",
              "Name: DS_GENERO, dtype: int64"
            ]
          },
          "metadata": {},
          "execution_count": 14
        }
      ],
      "source": [
        "eleitorado['DS_GENERO'].value_counts()"
      ]
    },
    {
      "cell_type": "code",
      "execution_count": 15,
      "metadata": {
        "colab": {
          "base_uri": "https://localhost:8080/"
        },
        "id": "Kh14BoolJeWJ",
        "outputId": "ac94a625-0c0f-4afc-dc25-494a3ea8fc26"
      },
      "outputs": [
        {
          "output_type": "execute_result",
          "data": {
            "text/plain": [
              "1    1434310\n",
              "3    1254845\n",
              "9     657281\n",
              "5     576570\n",
              "7     407713\n",
              "0      31761\n",
              "Name: CD_ESTADO_CIVIL, dtype: int64"
            ]
          },
          "metadata": {},
          "execution_count": 15
        }
      ],
      "source": [
        "eleitorado['CD_ESTADO_CIVIL'].value_counts()"
      ]
    },
    {
      "cell_type": "code",
      "execution_count": 16,
      "metadata": {
        "colab": {
          "base_uri": "https://localhost:8080/"
        },
        "id": "OaMMD0XZJey-",
        "outputId": "06d08551-f87b-47f0-bd90-b481787c0417"
      },
      "outputs": [
        {
          "output_type": "execute_result",
          "data": {
            "text/plain": [
              "SOLTEIRO                  1434310\n",
              "CASADO                    1254845\n",
              "DIVORCIADO                 657281\n",
              "VIÚVO                      576570\n",
              "SEPARADO JUDICIALMENTE     407713\n",
              "NÃO INFORMADO               31761\n",
              "Name: DS_ESTADO_CIVIL, dtype: int64"
            ]
          },
          "metadata": {},
          "execution_count": 16
        }
      ],
      "source": [
        "eleitorado['DS_ESTADO_CIVIL'].value_counts()"
      ]
    },
    {
      "cell_type": "code",
      "execution_count": 17,
      "metadata": {
        "colab": {
          "base_uri": "https://localhost:8080/"
        },
        "id": "yGvjjr6AJfEx",
        "outputId": "a5cd16b4-83ba-46fb-d70e-37bdd425515f"
      },
      "outputs": [
        {
          "output_type": "execute_result",
          "data": {
            "text/plain": [
              " 5559    361283\n",
              " 6064    357045\n",
              " 5054    343393\n",
              " 6569    338710\n",
              " 4549    325148\n",
              " 4044    305263\n",
              " 7074    303796\n",
              " 3539    271987\n",
              " 7579    256956\n",
              " 3034    233324\n",
              " 8084    209143\n",
              " 2529    193905\n",
              " 8589    158714\n",
              " 2124    138953\n",
              " 9094    113441\n",
              " 2000     81827\n",
              " 1900     77386\n",
              " 9599     75627\n",
              " 1800     70978\n",
              " 1700     55011\n",
              " 9999     45327\n",
              " 1600     43329\n",
              "-3         1934\n",
              "Name: CD_FAIXA_ETARIA, dtype: int64"
            ]
          },
          "metadata": {},
          "execution_count": 17
        }
      ],
      "source": [
        "eleitorado['CD_FAIXA_ETARIA'].value_counts()"
      ]
    },
    {
      "cell_type": "code",
      "execution_count": 18,
      "metadata": {
        "colab": {
          "base_uri": "https://localhost:8080/"
        },
        "id": "_XUnFk7HJfZ2",
        "outputId": "43095b52-08d7-4dec-e160-abaf0245863c"
      },
      "outputs": [
        {
          "output_type": "execute_result",
          "data": {
            "text/plain": [
              "55 a 59 anos                      361283\n",
              "60 a 64 anos                      357045\n",
              "50 a 54 anos                      343393\n",
              "65 a 69 anos                      338710\n",
              "45 a 49 anos                      325148\n",
              "40 a 44 anos                      305263\n",
              "70 a 74 anos                      303796\n",
              "35 a 39 anos                      271987\n",
              "75 a 79 anos                      256956\n",
              "30 a 34 anos                      233324\n",
              "80 a 84 anos                      209143\n",
              "25 a 29 anos                      193905\n",
              "85 a 89 anos                      158714\n",
              "21 a 24 anos                      138953\n",
              "90 a 94 anos                      113441\n",
              "20 anos                            81827\n",
              "19 anos                            77386\n",
              "95 a 99 anos                       75627\n",
              "18 anos                            70978\n",
              "17 anos                            55011\n",
              "100 anos ou mais                   45327\n",
              "16 anos                            43329\n",
              "Inválido                            1934\n",
              "Name: DS_FAIXA_ETARIA, dtype: int64"
            ]
          },
          "metadata": {},
          "execution_count": 18
        }
      ],
      "source": [
        "eleitorado['DS_FAIXA_ETARIA'].value_counts()"
      ]
    },
    {
      "cell_type": "code",
      "execution_count": 19,
      "metadata": {
        "colab": {
          "base_uri": "https://localhost:8080/"
        },
        "id": "mf4ANFSgJfmA",
        "outputId": "29cbc4fe-3656-4c27-c8ff-4b2581bb9877"
      },
      "outputs": [
        {
          "output_type": "execute_result",
          "data": {
            "text/plain": [
              "3    734753\n",
              "6    634711\n",
              "2    592284\n",
              "4    540904\n",
              "1    508282\n",
              "5    503920\n",
              "8    473782\n",
              "7    358359\n",
              "0     15485\n",
              "Name: CD_GRAU_ESCOLARIDADE, dtype: int64"
            ]
          },
          "metadata": {},
          "execution_count": 19
        }
      ],
      "source": [
        "eleitorado['CD_GRAU_ESCOLARIDADE'].value_counts()"
      ]
    },
    {
      "cell_type": "code",
      "execution_count": 20,
      "metadata": {
        "colab": {
          "base_uri": "https://localhost:8080/"
        },
        "id": "HLadXKf9Jfz3",
        "outputId": "aaab5dd9-ee02-44e7-df18-0a610f0a9686"
      },
      "outputs": [
        {
          "output_type": "execute_result",
          "data": {
            "text/plain": [
              "ENSINO FUNDAMENTAL INCOMPLETO    734753\n",
              "ENSINO MÉDIO COMPLETO            634711\n",
              "LÊ E ESCREVE                     592284\n",
              "ENSINO FUNDAMENTAL COMPLETO      540904\n",
              "ANALFABETO                       508282\n",
              "ENSINO MÉDIO INCOMPLETO          503920\n",
              "SUPERIOR COMPLETO                473782\n",
              "SUPERIOR INCOMPLETO              358359\n",
              "NÃO INFORMADO                     15485\n",
              "Name: DS_GRAU_ESCOLARIDADE, dtype: int64"
            ]
          },
          "metadata": {},
          "execution_count": 20
        }
      ],
      "source": [
        "eleitorado['DS_GRAU_ESCOLARIDADE'].value_counts()"
      ]
    },
    {
      "cell_type": "code",
      "execution_count": 21,
      "metadata": {
        "colab": {
          "base_uri": "https://localhost:8080/"
        },
        "id": "Ag2_YOcSJgEn",
        "outputId": "7fa73126-6a3a-4f63-91f6-d15d1f64fa78"
      },
      "outputs": [
        {
          "output_type": "execute_result",
          "data": {
            "text/plain": [
              "1       1022814\n",
              "2        494916\n",
              "3        317318\n",
              "4        229112\n",
              "5        177518\n",
              "         ...   \n",
              "3778          1\n",
              "2454          1\n",
              "2789          1\n",
              "4265          1\n",
              "2819          1\n",
              "Name: QT_ELEITORES_PERFIL, Length: 3121, dtype: int64"
            ]
          },
          "metadata": {},
          "execution_count": 21
        }
      ],
      "source": [
        "eleitorado['QT_ELEITORES_PERFIL'].value_counts()"
      ]
    },
    {
      "cell_type": "code",
      "execution_count": 22,
      "metadata": {
        "colab": {
          "base_uri": "https://localhost:8080/"
        },
        "id": "t8d05CToJgSO",
        "outputId": "0cb636ef-e40e-4235-8bae-23c1f4b15b8b"
      },
      "outputs": [
        {
          "output_type": "execute_result",
          "data": {
            "text/plain": [
              "1       892465\n",
              "0       608288\n",
              "2       440756\n",
              "3       283061\n",
              "4       204921\n",
              "         ...  \n",
              "2912         1\n",
              "2547         1\n",
              "2292         1\n",
              "2285         1\n",
              "2314         1\n",
              "Name: QT_ELEITORES_BIOMETRIA, Length: 2808, dtype: int64"
            ]
          },
          "metadata": {},
          "execution_count": 22
        }
      ],
      "source": [
        "eleitorado['QT_ELEITORES_BIOMETRIA'].value_counts()"
      ]
    },
    {
      "cell_type": "code",
      "execution_count": 23,
      "metadata": {
        "colab": {
          "base_uri": "https://localhost:8080/"
        },
        "id": "7U50chgoJgmK",
        "outputId": "d3b7b3d8-a59d-440c-d0dc-2414fddb7e27"
      },
      "outputs": [
        {
          "output_type": "execute_result",
          "data": {
            "text/plain": [
              "0      3787591\n",
              "1       357700\n",
              "2        98536\n",
              "3        43896\n",
              "4        23905\n",
              "        ...   \n",
              "146          1\n",
              "171          1\n",
              "239          1\n",
              "253          1\n",
              "127          1\n",
              "Name: QT_ELEITORES_DEFICIENCIA, Length: 169, dtype: int64"
            ]
          },
          "metadata": {},
          "execution_count": 23
        }
      ],
      "source": [
        "eleitorado['QT_ELEITORES_DEFICIENCIA'].value_counts()"
      ]
    },
    {
      "cell_type": "code",
      "execution_count": 24,
      "metadata": {
        "colab": {
          "base_uri": "https://localhost:8080/"
        },
        "id": "gNNA77OrLd8x",
        "outputId": "32d28ecb-04ca-4bdb-badb-a2fdde91b46d"
      },
      "outputs": [
        {
          "output_type": "execute_result",
          "data": {
            "text/plain": [
              "0     4331754\n",
              "1       25785\n",
              "2        3616\n",
              "3         893\n",
              "4         296\n",
              "5          89\n",
              "6          27\n",
              "7          12\n",
              "8           3\n",
              "9           3\n",
              "12          2\n",
              "Name: QT_ELEITORES_INC_NM_SOCIAL, dtype: int64"
            ]
          },
          "metadata": {},
          "execution_count": 24
        }
      ],
      "source": [
        "eleitorado['QT_ELEITORES_INC_NM_SOCIAL'].value_counts()"
      ]
    },
    {
      "cell_type": "markdown",
      "metadata": {
        "id": "5LxKKEGxNN04"
      },
      "source": [
        "## Valores faltantes por coluna\n",
        "O script abaixo verifica somente valores NaN. Será necessário verificar o [dicionário de dados](https://drive.google.com/file/d/1CVEJmTwDLaGktWEMSipLT6ygwHelZIOf/view?usp=sharing) para consultar qual valor foi usado para representar valores ausentes em cada coluna."
      ]
    },
    {
      "cell_type": "code",
      "execution_count": 25,
      "metadata": {
        "id": "eVTePwNZRkGP"
      },
      "outputs": [],
      "source": [
        "colunas = eleitorado.columns.values\n",
        "colunas = colunas.tolist()\n",
        "valores_ausentes = []\n",
        "for col in colunas:\n",
        "  n_ausentes = eleitorado[col].isnull().sum()\n",
        "  valores_ausentes.append(n_ausentes)"
      ]
    },
    {
      "cell_type": "code",
      "execution_count": 26,
      "metadata": {
        "colab": {
          "base_uri": "https://localhost:8080/"
        },
        "id": "W2gbBkCkZ54B",
        "outputId": "3732d0db-88c3-4927-ebc2-ae8eb903ec87"
      },
      "outputs": [
        {
          "output_type": "stream",
          "name": "stdout",
          "text": [
            "21\n",
            "21\n"
          ]
        }
      ],
      "source": [
        "print(len(colunas))\n",
        "print(len(valores_ausentes))"
      ]
    },
    {
      "cell_type": "code",
      "execution_count": 27,
      "metadata": {
        "colab": {
          "base_uri": "https://localhost:8080/"
        },
        "id": "TYjDlhrmRbgd",
        "outputId": "e6b37e65-132b-4a6c-c8bd-be38a4118fc0"
      },
      "outputs": [
        {
          "output_type": "stream",
          "name": "stdout",
          "text": [
            "Coluna\t\t\t\t\tValores Ausentes\n",
            "DT_GERACAO\t\t\t\t0\n",
            "HH_GERACAO\t\t\t\t0\n",
            "ANO_ELEICAO\t\t\t\t0\n",
            "SG_UF\t\t\t\t\t0\n",
            "CD_MUNICIPIO\t\t\t\t0\n",
            "NM_MUNICIPIO\t\t\t\t0\n",
            "CD_MUN_SIT_BIOMETRICA\t\t\t0\n",
            "DS_MUN_SIT_BIOMETRICA\t\t\t0\n",
            "NR_ZONA\t\t\t\t\t0\n",
            "CD_GENERO\t\t\t\t0\n",
            "DS_GENERO\t\t\t\t0\n",
            "CD_ESTADO_CIVIL\t\t\t\t0\n",
            "DS_ESTADO_CIVIL\t\t\t\t0\n",
            "CD_FAIXA_ETARIA\t\t\t\t0\n",
            "DS_FAIXA_ETARIA\t\t\t\t0\n",
            "CD_GRAU_ESCOLARIDADE\t\t\t0\n",
            "DS_GRAU_ESCOLARIDADE\t\t\t0\n",
            "QT_ELEITORES_PERFIL\t\t\t0\n",
            "QT_ELEITORES_BIOMETRIA\t\t\t0\n",
            "QT_ELEITORES_DEFICIENCIA\t\t0\n",
            "QT_ELEITORES_INC_NM_SOCIAL\t\t0\n"
          ]
        }
      ],
      "source": [
        "cont = 0\n",
        "print('Coluna\\t\\t\\t\\t\\tValores Ausentes')\n",
        "for coluna in colunas:\n",
        "  if len(coluna) <= 7:\n",
        "    print(f'{coluna}\\t\\t\\t\\t\\t{valores_ausentes[cont]}')\n",
        "  elif len(coluna) >= 19 and len(coluna) <= 22:\n",
        "    print(f'{coluna}\\t\\t\\t{valores_ausentes[cont]}')\n",
        "  elif len(coluna) >= 24 and len(colunas) <= 26:\n",
        "    print(f'{coluna}\\t\\t{valores_ausentes[cont]}')\n",
        "  else:\n",
        "    print(f'{coluna}\\t\\t\\t\\t{valores_ausentes[cont]}')\n",
        "  cont = cont + 1"
      ]
    },
    {
      "cell_type": "markdown",
      "metadata": {
        "id": "eNzLT9jRu6Qq"
      },
      "source": [
        "# Pré-processamento de Dados"
      ]
    },
    {
      "cell_type": "markdown",
      "metadata": {
        "id": "O4SRXBbdJ57Z"
      },
      "source": [
        "## Separação das colunas por tipo de dado"
      ]
    },
    {
      "cell_type": "code",
      "execution_count": 28,
      "metadata": {
        "id": "D8SB-DVqu8l0"
      },
      "outputs": [],
      "source": [
        "colunas_de_data_e_hora = ['DT_GERACAO', 'HH_GERACAO', 'ANO_ELEICAO']\n",
        "colunas_de_codigo = ['CD_MUNICIPIO', 'CD_MUN_SIT_BIOMETRICA', 'CD_GENERO', \n",
        "                    'CD_ESTADO_CIVIL', 'CD_FAIXA_ETARIA', 'CD_GRAU_ESCOLARIDADE']\n",
        "colunas_de_texto = ['SG_UF', 'NM_MUNICIPIO', 'DS_MUN_SIT_BIOMETRICA', \n",
        "                    'DS_GENERO', 'DS_ESTADO_CIVIL', 'DS_FAIXA_ETARIA', \n",
        "                    'DS_GRAU_ESCOLARIDADE']\n",
        "colunas_numericas = ['NR_ZONA', 'QT_ELEITORES_PERFIL', 'QT_ELEITORES_BIOMETRIA',\n",
        "                     'QT_ELEITORES_DEFICIENCIA', 'QT_ELEITORES_INC_NM_SOCIAL']"
      ]
    },
    {
      "cell_type": "markdown",
      "metadata": {
        "id": "-s7Z1AXeKAg9"
      },
      "source": [
        "## Removendo as colunas de código e de data e hora"
      ]
    },
    {
      "cell_type": "code",
      "execution_count": 29,
      "metadata": {
        "id": "SaLpFpCRwWyV"
      },
      "outputs": [],
      "source": [
        "eleitorado.drop(colunas_de_data_e_hora, axis=1, inplace=True)\n",
        "eleitorado.drop(colunas_de_codigo, axis=1, inplace=True)"
      ]
    },
    {
      "cell_type": "code",
      "execution_count": 30,
      "metadata": {
        "colab": {
          "base_uri": "https://localhost:8080/",
          "height": 206
        },
        "id": "y5COySt2w1b1",
        "outputId": "cc8217cb-ea2b-4754-d47f-7a37ebfae0c8"
      },
      "outputs": [
        {
          "output_type": "execute_result",
          "data": {
            "text/plain": [
              "  SG_UF NM_MUNICIPIO DS_MUN_SIT_BIOMETRICA  NR_ZONA DS_GENERO DS_ESTADO_CIVIL  \\\n",
              "0    PE      IPOJUCA            Biométrico       16  FEMININO        SOLTEIRO   \n",
              "1    PE      IPOJUCA            Biométrico       16  FEMININO        SOLTEIRO   \n",
              "2    PE      IPOJUCA            Biométrico       16  FEMININO        SOLTEIRO   \n",
              "3    PE      IPOJUCA            Biométrico       16  FEMININO        SOLTEIRO   \n",
              "4    PE      IPOJUCA            Biométrico       16  FEMININO        SOLTEIRO   \n",
              "\n",
              "                  DS_FAIXA_ETARIA           DS_GRAU_ESCOLARIDADE  \\\n",
              "0  45 a 49 anos                                     LÊ E ESCREVE   \n",
              "1  45 a 49 anos                    ENSINO FUNDAMENTAL INCOMPLETO   \n",
              "2  45 a 49 anos                      ENSINO FUNDAMENTAL COMPLETO   \n",
              "3  45 a 49 anos                          ENSINO MÉDIO INCOMPLETO   \n",
              "4  45 a 49 anos                            ENSINO MÉDIO COMPLETO   \n",
              "\n",
              "   QT_ELEITORES_PERFIL  QT_ELEITORES_BIOMETRIA  QT_ELEITORES_DEFICIENCIA  \\\n",
              "0                  342                     338                         1   \n",
              "1                  753                     744                         3   \n",
              "2                  138                     136                         0   \n",
              "3                  150                     145                         1   \n",
              "4                  558                     552                         0   \n",
              "\n",
              "   QT_ELEITORES_INC_NM_SOCIAL  \n",
              "0                           0  \n",
              "1                           0  \n",
              "2                           0  \n",
              "3                           0  \n",
              "4                           0  "
            ],
            "text/html": [
              "\n",
              "  <div id=\"df-dd733684-a292-44c4-909c-d1515c581504\">\n",
              "    <div class=\"colab-df-container\">\n",
              "      <div>\n",
              "<style scoped>\n",
              "    .dataframe tbody tr th:only-of-type {\n",
              "        vertical-align: middle;\n",
              "    }\n",
              "\n",
              "    .dataframe tbody tr th {\n",
              "        vertical-align: top;\n",
              "    }\n",
              "\n",
              "    .dataframe thead th {\n",
              "        text-align: right;\n",
              "    }\n",
              "</style>\n",
              "<table border=\"1\" class=\"dataframe\">\n",
              "  <thead>\n",
              "    <tr style=\"text-align: right;\">\n",
              "      <th></th>\n",
              "      <th>SG_UF</th>\n",
              "      <th>NM_MUNICIPIO</th>\n",
              "      <th>DS_MUN_SIT_BIOMETRICA</th>\n",
              "      <th>NR_ZONA</th>\n",
              "      <th>DS_GENERO</th>\n",
              "      <th>DS_ESTADO_CIVIL</th>\n",
              "      <th>DS_FAIXA_ETARIA</th>\n",
              "      <th>DS_GRAU_ESCOLARIDADE</th>\n",
              "      <th>QT_ELEITORES_PERFIL</th>\n",
              "      <th>QT_ELEITORES_BIOMETRIA</th>\n",
              "      <th>QT_ELEITORES_DEFICIENCIA</th>\n",
              "      <th>QT_ELEITORES_INC_NM_SOCIAL</th>\n",
              "    </tr>\n",
              "  </thead>\n",
              "  <tbody>\n",
              "    <tr>\n",
              "      <th>0</th>\n",
              "      <td>PE</td>\n",
              "      <td>IPOJUCA</td>\n",
              "      <td>Biométrico</td>\n",
              "      <td>16</td>\n",
              "      <td>FEMININO</td>\n",
              "      <td>SOLTEIRO</td>\n",
              "      <td>45 a 49 anos</td>\n",
              "      <td>LÊ E ESCREVE</td>\n",
              "      <td>342</td>\n",
              "      <td>338</td>\n",
              "      <td>1</td>\n",
              "      <td>0</td>\n",
              "    </tr>\n",
              "    <tr>\n",
              "      <th>1</th>\n",
              "      <td>PE</td>\n",
              "      <td>IPOJUCA</td>\n",
              "      <td>Biométrico</td>\n",
              "      <td>16</td>\n",
              "      <td>FEMININO</td>\n",
              "      <td>SOLTEIRO</td>\n",
              "      <td>45 a 49 anos</td>\n",
              "      <td>ENSINO FUNDAMENTAL INCOMPLETO</td>\n",
              "      <td>753</td>\n",
              "      <td>744</td>\n",
              "      <td>3</td>\n",
              "      <td>0</td>\n",
              "    </tr>\n",
              "    <tr>\n",
              "      <th>2</th>\n",
              "      <td>PE</td>\n",
              "      <td>IPOJUCA</td>\n",
              "      <td>Biométrico</td>\n",
              "      <td>16</td>\n",
              "      <td>FEMININO</td>\n",
              "      <td>SOLTEIRO</td>\n",
              "      <td>45 a 49 anos</td>\n",
              "      <td>ENSINO FUNDAMENTAL COMPLETO</td>\n",
              "      <td>138</td>\n",
              "      <td>136</td>\n",
              "      <td>0</td>\n",
              "      <td>0</td>\n",
              "    </tr>\n",
              "    <tr>\n",
              "      <th>3</th>\n",
              "      <td>PE</td>\n",
              "      <td>IPOJUCA</td>\n",
              "      <td>Biométrico</td>\n",
              "      <td>16</td>\n",
              "      <td>FEMININO</td>\n",
              "      <td>SOLTEIRO</td>\n",
              "      <td>45 a 49 anos</td>\n",
              "      <td>ENSINO MÉDIO INCOMPLETO</td>\n",
              "      <td>150</td>\n",
              "      <td>145</td>\n",
              "      <td>1</td>\n",
              "      <td>0</td>\n",
              "    </tr>\n",
              "    <tr>\n",
              "      <th>4</th>\n",
              "      <td>PE</td>\n",
              "      <td>IPOJUCA</td>\n",
              "      <td>Biométrico</td>\n",
              "      <td>16</td>\n",
              "      <td>FEMININO</td>\n",
              "      <td>SOLTEIRO</td>\n",
              "      <td>45 a 49 anos</td>\n",
              "      <td>ENSINO MÉDIO COMPLETO</td>\n",
              "      <td>558</td>\n",
              "      <td>552</td>\n",
              "      <td>0</td>\n",
              "      <td>0</td>\n",
              "    </tr>\n",
              "  </tbody>\n",
              "</table>\n",
              "</div>\n",
              "      <button class=\"colab-df-convert\" onclick=\"convertToInteractive('df-dd733684-a292-44c4-909c-d1515c581504')\"\n",
              "              title=\"Convert this dataframe to an interactive table.\"\n",
              "              style=\"display:none;\">\n",
              "        \n",
              "  <svg xmlns=\"http://www.w3.org/2000/svg\" height=\"24px\"viewBox=\"0 0 24 24\"\n",
              "       width=\"24px\">\n",
              "    <path d=\"M0 0h24v24H0V0z\" fill=\"none\"/>\n",
              "    <path d=\"M18.56 5.44l.94 2.06.94-2.06 2.06-.94-2.06-.94-.94-2.06-.94 2.06-2.06.94zm-11 1L8.5 8.5l.94-2.06 2.06-.94-2.06-.94L8.5 2.5l-.94 2.06-2.06.94zm10 10l.94 2.06.94-2.06 2.06-.94-2.06-.94-.94-2.06-.94 2.06-2.06.94z\"/><path d=\"M17.41 7.96l-1.37-1.37c-.4-.4-.92-.59-1.43-.59-.52 0-1.04.2-1.43.59L10.3 9.45l-7.72 7.72c-.78.78-.78 2.05 0 2.83L4 21.41c.39.39.9.59 1.41.59.51 0 1.02-.2 1.41-.59l7.78-7.78 2.81-2.81c.8-.78.8-2.07 0-2.86zM5.41 20L4 18.59l7.72-7.72 1.47 1.35L5.41 20z\"/>\n",
              "  </svg>\n",
              "      </button>\n",
              "      \n",
              "  <style>\n",
              "    .colab-df-container {\n",
              "      display:flex;\n",
              "      flex-wrap:wrap;\n",
              "      gap: 12px;\n",
              "    }\n",
              "\n",
              "    .colab-df-convert {\n",
              "      background-color: #E8F0FE;\n",
              "      border: none;\n",
              "      border-radius: 50%;\n",
              "      cursor: pointer;\n",
              "      display: none;\n",
              "      fill: #1967D2;\n",
              "      height: 32px;\n",
              "      padding: 0 0 0 0;\n",
              "      width: 32px;\n",
              "    }\n",
              "\n",
              "    .colab-df-convert:hover {\n",
              "      background-color: #E2EBFA;\n",
              "      box-shadow: 0px 1px 2px rgba(60, 64, 67, 0.3), 0px 1px 3px 1px rgba(60, 64, 67, 0.15);\n",
              "      fill: #174EA6;\n",
              "    }\n",
              "\n",
              "    [theme=dark] .colab-df-convert {\n",
              "      background-color: #3B4455;\n",
              "      fill: #D2E3FC;\n",
              "    }\n",
              "\n",
              "    [theme=dark] .colab-df-convert:hover {\n",
              "      background-color: #434B5C;\n",
              "      box-shadow: 0px 1px 3px 1px rgba(0, 0, 0, 0.15);\n",
              "      filter: drop-shadow(0px 1px 2px rgba(0, 0, 0, 0.3));\n",
              "      fill: #FFFFFF;\n",
              "    }\n",
              "  </style>\n",
              "\n",
              "      <script>\n",
              "        const buttonEl =\n",
              "          document.querySelector('#df-dd733684-a292-44c4-909c-d1515c581504 button.colab-df-convert');\n",
              "        buttonEl.style.display =\n",
              "          google.colab.kernel.accessAllowed ? 'block' : 'none';\n",
              "\n",
              "        async function convertToInteractive(key) {\n",
              "          const element = document.querySelector('#df-dd733684-a292-44c4-909c-d1515c581504');\n",
              "          const dataTable =\n",
              "            await google.colab.kernel.invokeFunction('convertToInteractive',\n",
              "                                                     [key], {});\n",
              "          if (!dataTable) return;\n",
              "\n",
              "          const docLinkHtml = 'Like what you see? Visit the ' +\n",
              "            '<a target=\"_blank\" href=https://colab.research.google.com/notebooks/data_table.ipynb>data table notebook</a>'\n",
              "            + ' to learn more about interactive tables.';\n",
              "          element.innerHTML = '';\n",
              "          dataTable['output_type'] = 'display_data';\n",
              "          await google.colab.output.renderOutput(dataTable, element);\n",
              "          const docLink = document.createElement('div');\n",
              "          docLink.innerHTML = docLinkHtml;\n",
              "          element.appendChild(docLink);\n",
              "        }\n",
              "      </script>\n",
              "    </div>\n",
              "  </div>\n",
              "  "
            ]
          },
          "metadata": {},
          "execution_count": 30
        }
      ],
      "source": [
        "eleitorado.head()"
      ]
    },
    {
      "cell_type": "markdown",
      "metadata": {
        "id": "f5PF8n0pKFOZ"
      },
      "source": [
        "## Alterando as siglas dos estados pelos seus respectivos nomes "
      ]
    },
    {
      "cell_type": "code",
      "execution_count": 31,
      "metadata": {
        "id": "9xS2NvTKxUEy"
      },
      "outputs": [],
      "source": [
        "eleitorado['SG_UF'] = eleitorado['SG_UF'].map({\n",
        "    'AC': 'ACRE',\n",
        "    'AL': 'ALAGOAS',\n",
        "    'AP': 'AMAPÁ',\n",
        "    'AM': 'AMAZONAS',\n",
        "    'BA': 'BAHIA',\n",
        "    'CE': 'CEARÁ',\n",
        "    'ES': 'ESPÍRITO SANTO',\n",
        "    'GO': 'GOIÁS',\n",
        "    'MA': 'MARANHÃO',\n",
        "    'MT': 'MATO GROSSO',\n",
        "    'MS': 'MATO GROSSO DO SUL',\n",
        "    'MG': 'MINAS GERAIS',\n",
        "    'PA': 'PARÁ',\n",
        "    'PB': 'PARAÍBA',\n",
        "    'PR': 'PARANÁ',\n",
        "    'PE': 'PERNAMBUCO',\n",
        "    'PI': 'PIAUÍ',\n",
        "    'RJ': 'RIO DE JANEIRO',\n",
        "    'RN': 'RIO GRANDE DO NORTE',\n",
        "    'RS': 'RIO GRANDE DO SUL',\n",
        "    'RO': 'RONDÔNIA',\n",
        "    'RR': 'RORAIMA',\n",
        "    'SC': 'SANTA CATARINA',\n",
        "    'SP': 'SÃO PAULO',\n",
        "    'SE': 'SERGIPE',\n",
        "    'TO': 'TOCANTINS',\n",
        "    'DF': 'DISTRITO FEDERAL',\n",
        "    'ZZ': 'EXTERIOR'\n",
        "})"
      ]
    },
    {
      "cell_type": "code",
      "execution_count": 32,
      "metadata": {
        "colab": {
          "base_uri": "https://localhost:8080/"
        },
        "id": "PS7R2m6q-su9",
        "outputId": "b3841fdd-2d6c-4618-f7a8-9bfa5bc9c2be"
      },
      "outputs": [
        {
          "output_type": "execute_result",
          "data": {
            "text/plain": [
              "SÃO PAULO              648813\n",
              "MINAS GERAIS           614368\n",
              "RIO GRANDE DO SUL      323981\n",
              "BAHIA                  320610\n",
              "PARANÁ                 290415\n",
              "RIO DE JANEIRO         201993\n",
              "SANTA CATARINA         201819\n",
              "GOIÁS                  173632\n",
              "CEARÁ                  162691\n",
              "PERNAMBUCO             162647\n",
              "MARANHÃO               143722\n",
              "PARAÍBA                142102\n",
              "PIAUÍ                  129566\n",
              "PARÁ                   124118\n",
              "RIO GRANDE DO NORTE    106730\n",
              "MATO GROSSO             94728\n",
              "TOCANTINS               74733\n",
              "ALAGOAS                 70946\n",
              "ESPÍRITO SANTO          69940\n",
              "MATO GROSSO DO SUL      67657\n",
              "SERGIPE                 51133\n",
              "AMAZONAS                51053\n",
              "RONDÔNIA                40067\n",
              "EXTERIOR                36910\n",
              "DISTRITO FEDERAL        19891\n",
              "ACRE                    16081\n",
              "AMAPÁ                   11396\n",
              "RORAIMA                 10738\n",
              "Name: SG_UF, dtype: int64"
            ]
          },
          "metadata": {},
          "execution_count": 32
        }
      ],
      "source": [
        "eleitorado['SG_UF'].value_counts()"
      ]
    },
    {
      "cell_type": "code",
      "source": [
        "eleitorado['SG_UF'].isnull().sum()"
      ],
      "metadata": {
        "colab": {
          "base_uri": "https://localhost:8080/"
        },
        "id": "aE08YZU5x7k5",
        "outputId": "0367eb4c-9303-4f9a-ff35-29149745811d"
      },
      "execution_count": 33,
      "outputs": [
        {
          "output_type": "execute_result",
          "data": {
            "text/plain": [
              "0"
            ]
          },
          "metadata": {},
          "execution_count": 33
        }
      ]
    },
    {
      "cell_type": "markdown",
      "metadata": {
        "id": "Lgkqvv-8FO93"
      },
      "source": [
        "## Alterando os valores da coluna DS_MUN_SIT_BIOMETRICA para uppercase"
      ]
    },
    {
      "cell_type": "code",
      "execution_count": 34,
      "metadata": {
        "id": "9W4T46eIFTpy"
      },
      "outputs": [],
      "source": [
        "eleitorado['DS_MUN_SIT_BIOMETRICA'] = eleitorado['DS_MUN_SIT_BIOMETRICA'].map({\n",
        "    'Biométrico': 'BIOMÉTRICO',\n",
        "    'Híbrido': 'HÍBRIDO',\n",
        "    'Sem Biometria': 'SEM BIOMETRIA'\n",
        "})"
      ]
    },
    {
      "cell_type": "markdown",
      "metadata": {
        "id": "Y_NnWbWUKTPG"
      },
      "source": [
        "## Removendo a coluna NR_ZONA"
      ]
    },
    {
      "cell_type": "code",
      "execution_count": 35,
      "metadata": {
        "colab": {
          "base_uri": "https://localhost:8080/",
          "height": 206
        },
        "id": "C3Ul2f-M6nas",
        "outputId": "dfa4bb4a-661a-4668-bd6b-de7b2b459c2d"
      },
      "outputs": [
        {
          "output_type": "execute_result",
          "data": {
            "text/plain": [
              "        SG_UF NM_MUNICIPIO DS_MUN_SIT_BIOMETRICA DS_GENERO DS_ESTADO_CIVIL  \\\n",
              "0  PERNAMBUCO      IPOJUCA            BIOMÉTRICO  FEMININO        SOLTEIRO   \n",
              "1  PERNAMBUCO      IPOJUCA            BIOMÉTRICO  FEMININO        SOLTEIRO   \n",
              "2  PERNAMBUCO      IPOJUCA            BIOMÉTRICO  FEMININO        SOLTEIRO   \n",
              "3  PERNAMBUCO      IPOJUCA            BIOMÉTRICO  FEMININO        SOLTEIRO   \n",
              "4  PERNAMBUCO      IPOJUCA            BIOMÉTRICO  FEMININO        SOLTEIRO   \n",
              "\n",
              "                  DS_FAIXA_ETARIA           DS_GRAU_ESCOLARIDADE  \\\n",
              "0  45 a 49 anos                                     LÊ E ESCREVE   \n",
              "1  45 a 49 anos                    ENSINO FUNDAMENTAL INCOMPLETO   \n",
              "2  45 a 49 anos                      ENSINO FUNDAMENTAL COMPLETO   \n",
              "3  45 a 49 anos                          ENSINO MÉDIO INCOMPLETO   \n",
              "4  45 a 49 anos                            ENSINO MÉDIO COMPLETO   \n",
              "\n",
              "   QT_ELEITORES_PERFIL  QT_ELEITORES_BIOMETRIA  QT_ELEITORES_DEFICIENCIA  \\\n",
              "0                  342                     338                         1   \n",
              "1                  753                     744                         3   \n",
              "2                  138                     136                         0   \n",
              "3                  150                     145                         1   \n",
              "4                  558                     552                         0   \n",
              "\n",
              "   QT_ELEITORES_INC_NM_SOCIAL  \n",
              "0                           0  \n",
              "1                           0  \n",
              "2                           0  \n",
              "3                           0  \n",
              "4                           0  "
            ],
            "text/html": [
              "\n",
              "  <div id=\"df-3aa6a84b-6eb1-43c1-b6d3-f6b9f311c47b\">\n",
              "    <div class=\"colab-df-container\">\n",
              "      <div>\n",
              "<style scoped>\n",
              "    .dataframe tbody tr th:only-of-type {\n",
              "        vertical-align: middle;\n",
              "    }\n",
              "\n",
              "    .dataframe tbody tr th {\n",
              "        vertical-align: top;\n",
              "    }\n",
              "\n",
              "    .dataframe thead th {\n",
              "        text-align: right;\n",
              "    }\n",
              "</style>\n",
              "<table border=\"1\" class=\"dataframe\">\n",
              "  <thead>\n",
              "    <tr style=\"text-align: right;\">\n",
              "      <th></th>\n",
              "      <th>SG_UF</th>\n",
              "      <th>NM_MUNICIPIO</th>\n",
              "      <th>DS_MUN_SIT_BIOMETRICA</th>\n",
              "      <th>DS_GENERO</th>\n",
              "      <th>DS_ESTADO_CIVIL</th>\n",
              "      <th>DS_FAIXA_ETARIA</th>\n",
              "      <th>DS_GRAU_ESCOLARIDADE</th>\n",
              "      <th>QT_ELEITORES_PERFIL</th>\n",
              "      <th>QT_ELEITORES_BIOMETRIA</th>\n",
              "      <th>QT_ELEITORES_DEFICIENCIA</th>\n",
              "      <th>QT_ELEITORES_INC_NM_SOCIAL</th>\n",
              "    </tr>\n",
              "  </thead>\n",
              "  <tbody>\n",
              "    <tr>\n",
              "      <th>0</th>\n",
              "      <td>PERNAMBUCO</td>\n",
              "      <td>IPOJUCA</td>\n",
              "      <td>BIOMÉTRICO</td>\n",
              "      <td>FEMININO</td>\n",
              "      <td>SOLTEIRO</td>\n",
              "      <td>45 a 49 anos</td>\n",
              "      <td>LÊ E ESCREVE</td>\n",
              "      <td>342</td>\n",
              "      <td>338</td>\n",
              "      <td>1</td>\n",
              "      <td>0</td>\n",
              "    </tr>\n",
              "    <tr>\n",
              "      <th>1</th>\n",
              "      <td>PERNAMBUCO</td>\n",
              "      <td>IPOJUCA</td>\n",
              "      <td>BIOMÉTRICO</td>\n",
              "      <td>FEMININO</td>\n",
              "      <td>SOLTEIRO</td>\n",
              "      <td>45 a 49 anos</td>\n",
              "      <td>ENSINO FUNDAMENTAL INCOMPLETO</td>\n",
              "      <td>753</td>\n",
              "      <td>744</td>\n",
              "      <td>3</td>\n",
              "      <td>0</td>\n",
              "    </tr>\n",
              "    <tr>\n",
              "      <th>2</th>\n",
              "      <td>PERNAMBUCO</td>\n",
              "      <td>IPOJUCA</td>\n",
              "      <td>BIOMÉTRICO</td>\n",
              "      <td>FEMININO</td>\n",
              "      <td>SOLTEIRO</td>\n",
              "      <td>45 a 49 anos</td>\n",
              "      <td>ENSINO FUNDAMENTAL COMPLETO</td>\n",
              "      <td>138</td>\n",
              "      <td>136</td>\n",
              "      <td>0</td>\n",
              "      <td>0</td>\n",
              "    </tr>\n",
              "    <tr>\n",
              "      <th>3</th>\n",
              "      <td>PERNAMBUCO</td>\n",
              "      <td>IPOJUCA</td>\n",
              "      <td>BIOMÉTRICO</td>\n",
              "      <td>FEMININO</td>\n",
              "      <td>SOLTEIRO</td>\n",
              "      <td>45 a 49 anos</td>\n",
              "      <td>ENSINO MÉDIO INCOMPLETO</td>\n",
              "      <td>150</td>\n",
              "      <td>145</td>\n",
              "      <td>1</td>\n",
              "      <td>0</td>\n",
              "    </tr>\n",
              "    <tr>\n",
              "      <th>4</th>\n",
              "      <td>PERNAMBUCO</td>\n",
              "      <td>IPOJUCA</td>\n",
              "      <td>BIOMÉTRICO</td>\n",
              "      <td>FEMININO</td>\n",
              "      <td>SOLTEIRO</td>\n",
              "      <td>45 a 49 anos</td>\n",
              "      <td>ENSINO MÉDIO COMPLETO</td>\n",
              "      <td>558</td>\n",
              "      <td>552</td>\n",
              "      <td>0</td>\n",
              "      <td>0</td>\n",
              "    </tr>\n",
              "  </tbody>\n",
              "</table>\n",
              "</div>\n",
              "      <button class=\"colab-df-convert\" onclick=\"convertToInteractive('df-3aa6a84b-6eb1-43c1-b6d3-f6b9f311c47b')\"\n",
              "              title=\"Convert this dataframe to an interactive table.\"\n",
              "              style=\"display:none;\">\n",
              "        \n",
              "  <svg xmlns=\"http://www.w3.org/2000/svg\" height=\"24px\"viewBox=\"0 0 24 24\"\n",
              "       width=\"24px\">\n",
              "    <path d=\"M0 0h24v24H0V0z\" fill=\"none\"/>\n",
              "    <path d=\"M18.56 5.44l.94 2.06.94-2.06 2.06-.94-2.06-.94-.94-2.06-.94 2.06-2.06.94zm-11 1L8.5 8.5l.94-2.06 2.06-.94-2.06-.94L8.5 2.5l-.94 2.06-2.06.94zm10 10l.94 2.06.94-2.06 2.06-.94-2.06-.94-.94-2.06-.94 2.06-2.06.94z\"/><path d=\"M17.41 7.96l-1.37-1.37c-.4-.4-.92-.59-1.43-.59-.52 0-1.04.2-1.43.59L10.3 9.45l-7.72 7.72c-.78.78-.78 2.05 0 2.83L4 21.41c.39.39.9.59 1.41.59.51 0 1.02-.2 1.41-.59l7.78-7.78 2.81-2.81c.8-.78.8-2.07 0-2.86zM5.41 20L4 18.59l7.72-7.72 1.47 1.35L5.41 20z\"/>\n",
              "  </svg>\n",
              "      </button>\n",
              "      \n",
              "  <style>\n",
              "    .colab-df-container {\n",
              "      display:flex;\n",
              "      flex-wrap:wrap;\n",
              "      gap: 12px;\n",
              "    }\n",
              "\n",
              "    .colab-df-convert {\n",
              "      background-color: #E8F0FE;\n",
              "      border: none;\n",
              "      border-radius: 50%;\n",
              "      cursor: pointer;\n",
              "      display: none;\n",
              "      fill: #1967D2;\n",
              "      height: 32px;\n",
              "      padding: 0 0 0 0;\n",
              "      width: 32px;\n",
              "    }\n",
              "\n",
              "    .colab-df-convert:hover {\n",
              "      background-color: #E2EBFA;\n",
              "      box-shadow: 0px 1px 2px rgba(60, 64, 67, 0.3), 0px 1px 3px 1px rgba(60, 64, 67, 0.15);\n",
              "      fill: #174EA6;\n",
              "    }\n",
              "\n",
              "    [theme=dark] .colab-df-convert {\n",
              "      background-color: #3B4455;\n",
              "      fill: #D2E3FC;\n",
              "    }\n",
              "\n",
              "    [theme=dark] .colab-df-convert:hover {\n",
              "      background-color: #434B5C;\n",
              "      box-shadow: 0px 1px 3px 1px rgba(0, 0, 0, 0.15);\n",
              "      filter: drop-shadow(0px 1px 2px rgba(0, 0, 0, 0.3));\n",
              "      fill: #FFFFFF;\n",
              "    }\n",
              "  </style>\n",
              "\n",
              "      <script>\n",
              "        const buttonEl =\n",
              "          document.querySelector('#df-3aa6a84b-6eb1-43c1-b6d3-f6b9f311c47b button.colab-df-convert');\n",
              "        buttonEl.style.display =\n",
              "          google.colab.kernel.accessAllowed ? 'block' : 'none';\n",
              "\n",
              "        async function convertToInteractive(key) {\n",
              "          const element = document.querySelector('#df-3aa6a84b-6eb1-43c1-b6d3-f6b9f311c47b');\n",
              "          const dataTable =\n",
              "            await google.colab.kernel.invokeFunction('convertToInteractive',\n",
              "                                                     [key], {});\n",
              "          if (!dataTable) return;\n",
              "\n",
              "          const docLinkHtml = 'Like what you see? Visit the ' +\n",
              "            '<a target=\"_blank\" href=https://colab.research.google.com/notebooks/data_table.ipynb>data table notebook</a>'\n",
              "            + ' to learn more about interactive tables.';\n",
              "          element.innerHTML = '';\n",
              "          dataTable['output_type'] = 'display_data';\n",
              "          await google.colab.output.renderOutput(dataTable, element);\n",
              "          const docLink = document.createElement('div');\n",
              "          docLink.innerHTML = docLinkHtml;\n",
              "          element.appendChild(docLink);\n",
              "        }\n",
              "      </script>\n",
              "    </div>\n",
              "  </div>\n",
              "  "
            ]
          },
          "metadata": {},
          "execution_count": 35
        }
      ],
      "source": [
        "eleitorado.drop('NR_ZONA', axis=1, inplace=True)\n",
        "eleitorado.head()"
      ]
    },
    {
      "cell_type": "markdown",
      "source": [
        "## Removendo espaços após o texto da coluna de Faixa Etária"
      ],
      "metadata": {
        "id": "PKhcUd8r061s"
      }
    },
    {
      "cell_type": "code",
      "source": [
        "eleitorado['DS_FAIXA_ETARIA'].value_counts().index"
      ],
      "metadata": {
        "id": "xqkshzn687jp",
        "colab": {
          "base_uri": "https://localhost:8080/"
        },
        "outputId": "64498b34-cab1-42c7-da10-7d63a1aa119b"
      },
      "execution_count": 36,
      "outputs": [
        {
          "output_type": "execute_result",
          "data": {
            "text/plain": [
              "Index(['55 a 59 anos                  ', '60 a 64 anos                  ',\n",
              "       '50 a 54 anos                  ', '65 a 69 anos                  ',\n",
              "       '45 a 49 anos                  ', '40 a 44 anos                  ',\n",
              "       '70 a 74 anos                  ', '35 a 39 anos                  ',\n",
              "       '75 a 79 anos                  ', '30 a 34 anos                  ',\n",
              "       '80 a 84 anos                  ', '25 a 29 anos                  ',\n",
              "       '85 a 89 anos                  ', '21 a 24 anos                  ',\n",
              "       '90 a 94 anos                  ', '20 anos                       ',\n",
              "       '19 anos                       ', '95 a 99 anos                  ',\n",
              "       '18 anos                       ', '17 anos                       ',\n",
              "       '100 anos ou mais              ', '16 anos                       ',\n",
              "       'Inválido                      '],\n",
              "      dtype='object')"
            ]
          },
          "metadata": {},
          "execution_count": 36
        }
      ]
    },
    {
      "cell_type": "code",
      "source": [
        "nova_faixa_etaria = []\n",
        "for e in eleitorado['DS_FAIXA_ETARIA']:\n",
        "  nova_faixa_etaria.append(e.strip())\n",
        "\n",
        "eleitorado['DS_FAIXA_ETARIA'] = nova_faixa_etaria"
      ],
      "metadata": {
        "id": "1YzBXvgm06IT"
      },
      "execution_count": 37,
      "outputs": []
    },
    {
      "cell_type": "code",
      "source": [
        "eleitorado['DS_FAIXA_ETARIA'].value_counts().index"
      ],
      "metadata": {
        "colab": {
          "base_uri": "https://localhost:8080/"
        },
        "id": "k9huMxkR1Q4Y",
        "outputId": "f50394eb-477c-42c3-a09e-8951093d4113"
      },
      "execution_count": 38,
      "outputs": [
        {
          "output_type": "execute_result",
          "data": {
            "text/plain": [
              "Index(['55 a 59 anos', '60 a 64 anos', '50 a 54 anos', '65 a 69 anos',\n",
              "       '45 a 49 anos', '40 a 44 anos', '70 a 74 anos', '35 a 39 anos',\n",
              "       '75 a 79 anos', '30 a 34 anos', '80 a 84 anos', '25 a 29 anos',\n",
              "       '85 a 89 anos', '21 a 24 anos', '90 a 94 anos', '20 anos', '19 anos',\n",
              "       '95 a 99 anos', '18 anos', '17 anos', '100 anos ou mais', '16 anos',\n",
              "       'Inválido'],\n",
              "      dtype='object')"
            ]
          },
          "metadata": {},
          "execution_count": 38
        }
      ]
    },
    {
      "cell_type": "markdown",
      "source": [
        "## Removendo valores inválidos da coluna de Faixa Etária"
      ],
      "metadata": {
        "id": "mKULMV4F572p"
      }
    },
    {
      "cell_type": "code",
      "source": [
        "index_invalidos = eleitorado[eleitorado['DS_FAIXA_ETARIA'] == 'Inválido'].index\n",
        "eleitorado.drop(index_invalidos, axis=0, inplace=True)"
      ],
      "metadata": {
        "id": "X16Za_Jl6A1r"
      },
      "execution_count": 39,
      "outputs": []
    },
    {
      "cell_type": "markdown",
      "source": [
        "## Removendo a coluna MUN_SIT_BIOMETRICA"
      ],
      "metadata": {
        "id": "n9Xi1uu0Hzqo"
      }
    },
    {
      "cell_type": "code",
      "source": [
        "eleitorado.head()"
      ],
      "metadata": {
        "colab": {
          "base_uri": "https://localhost:8080/",
          "height": 206
        },
        "id": "ICXPl8pOH9Nk",
        "outputId": "571ef5c7-58db-44d7-9ecf-769a103dccaf"
      },
      "execution_count": 40,
      "outputs": [
        {
          "output_type": "execute_result",
          "data": {
            "text/plain": [
              "        SG_UF NM_MUNICIPIO DS_MUN_SIT_BIOMETRICA DS_GENERO DS_ESTADO_CIVIL  \\\n",
              "0  PERNAMBUCO      IPOJUCA            BIOMÉTRICO  FEMININO        SOLTEIRO   \n",
              "1  PERNAMBUCO      IPOJUCA            BIOMÉTRICO  FEMININO        SOLTEIRO   \n",
              "2  PERNAMBUCO      IPOJUCA            BIOMÉTRICO  FEMININO        SOLTEIRO   \n",
              "3  PERNAMBUCO      IPOJUCA            BIOMÉTRICO  FEMININO        SOLTEIRO   \n",
              "4  PERNAMBUCO      IPOJUCA            BIOMÉTRICO  FEMININO        SOLTEIRO   \n",
              "\n",
              "  DS_FAIXA_ETARIA           DS_GRAU_ESCOLARIDADE  QT_ELEITORES_PERFIL  \\\n",
              "0    45 a 49 anos                   LÊ E ESCREVE                  342   \n",
              "1    45 a 49 anos  ENSINO FUNDAMENTAL INCOMPLETO                  753   \n",
              "2    45 a 49 anos    ENSINO FUNDAMENTAL COMPLETO                  138   \n",
              "3    45 a 49 anos        ENSINO MÉDIO INCOMPLETO                  150   \n",
              "4    45 a 49 anos          ENSINO MÉDIO COMPLETO                  558   \n",
              "\n",
              "   QT_ELEITORES_BIOMETRIA  QT_ELEITORES_DEFICIENCIA  \\\n",
              "0                     338                         1   \n",
              "1                     744                         3   \n",
              "2                     136                         0   \n",
              "3                     145                         1   \n",
              "4                     552                         0   \n",
              "\n",
              "   QT_ELEITORES_INC_NM_SOCIAL  \n",
              "0                           0  \n",
              "1                           0  \n",
              "2                           0  \n",
              "3                           0  \n",
              "4                           0  "
            ],
            "text/html": [
              "\n",
              "  <div id=\"df-5d863518-b5d0-49e2-a685-99dfa8a8b76c\">\n",
              "    <div class=\"colab-df-container\">\n",
              "      <div>\n",
              "<style scoped>\n",
              "    .dataframe tbody tr th:only-of-type {\n",
              "        vertical-align: middle;\n",
              "    }\n",
              "\n",
              "    .dataframe tbody tr th {\n",
              "        vertical-align: top;\n",
              "    }\n",
              "\n",
              "    .dataframe thead th {\n",
              "        text-align: right;\n",
              "    }\n",
              "</style>\n",
              "<table border=\"1\" class=\"dataframe\">\n",
              "  <thead>\n",
              "    <tr style=\"text-align: right;\">\n",
              "      <th></th>\n",
              "      <th>SG_UF</th>\n",
              "      <th>NM_MUNICIPIO</th>\n",
              "      <th>DS_MUN_SIT_BIOMETRICA</th>\n",
              "      <th>DS_GENERO</th>\n",
              "      <th>DS_ESTADO_CIVIL</th>\n",
              "      <th>DS_FAIXA_ETARIA</th>\n",
              "      <th>DS_GRAU_ESCOLARIDADE</th>\n",
              "      <th>QT_ELEITORES_PERFIL</th>\n",
              "      <th>QT_ELEITORES_BIOMETRIA</th>\n",
              "      <th>QT_ELEITORES_DEFICIENCIA</th>\n",
              "      <th>QT_ELEITORES_INC_NM_SOCIAL</th>\n",
              "    </tr>\n",
              "  </thead>\n",
              "  <tbody>\n",
              "    <tr>\n",
              "      <th>0</th>\n",
              "      <td>PERNAMBUCO</td>\n",
              "      <td>IPOJUCA</td>\n",
              "      <td>BIOMÉTRICO</td>\n",
              "      <td>FEMININO</td>\n",
              "      <td>SOLTEIRO</td>\n",
              "      <td>45 a 49 anos</td>\n",
              "      <td>LÊ E ESCREVE</td>\n",
              "      <td>342</td>\n",
              "      <td>338</td>\n",
              "      <td>1</td>\n",
              "      <td>0</td>\n",
              "    </tr>\n",
              "    <tr>\n",
              "      <th>1</th>\n",
              "      <td>PERNAMBUCO</td>\n",
              "      <td>IPOJUCA</td>\n",
              "      <td>BIOMÉTRICO</td>\n",
              "      <td>FEMININO</td>\n",
              "      <td>SOLTEIRO</td>\n",
              "      <td>45 a 49 anos</td>\n",
              "      <td>ENSINO FUNDAMENTAL INCOMPLETO</td>\n",
              "      <td>753</td>\n",
              "      <td>744</td>\n",
              "      <td>3</td>\n",
              "      <td>0</td>\n",
              "    </tr>\n",
              "    <tr>\n",
              "      <th>2</th>\n",
              "      <td>PERNAMBUCO</td>\n",
              "      <td>IPOJUCA</td>\n",
              "      <td>BIOMÉTRICO</td>\n",
              "      <td>FEMININO</td>\n",
              "      <td>SOLTEIRO</td>\n",
              "      <td>45 a 49 anos</td>\n",
              "      <td>ENSINO FUNDAMENTAL COMPLETO</td>\n",
              "      <td>138</td>\n",
              "      <td>136</td>\n",
              "      <td>0</td>\n",
              "      <td>0</td>\n",
              "    </tr>\n",
              "    <tr>\n",
              "      <th>3</th>\n",
              "      <td>PERNAMBUCO</td>\n",
              "      <td>IPOJUCA</td>\n",
              "      <td>BIOMÉTRICO</td>\n",
              "      <td>FEMININO</td>\n",
              "      <td>SOLTEIRO</td>\n",
              "      <td>45 a 49 anos</td>\n",
              "      <td>ENSINO MÉDIO INCOMPLETO</td>\n",
              "      <td>150</td>\n",
              "      <td>145</td>\n",
              "      <td>1</td>\n",
              "      <td>0</td>\n",
              "    </tr>\n",
              "    <tr>\n",
              "      <th>4</th>\n",
              "      <td>PERNAMBUCO</td>\n",
              "      <td>IPOJUCA</td>\n",
              "      <td>BIOMÉTRICO</td>\n",
              "      <td>FEMININO</td>\n",
              "      <td>SOLTEIRO</td>\n",
              "      <td>45 a 49 anos</td>\n",
              "      <td>ENSINO MÉDIO COMPLETO</td>\n",
              "      <td>558</td>\n",
              "      <td>552</td>\n",
              "      <td>0</td>\n",
              "      <td>0</td>\n",
              "    </tr>\n",
              "  </tbody>\n",
              "</table>\n",
              "</div>\n",
              "      <button class=\"colab-df-convert\" onclick=\"convertToInteractive('df-5d863518-b5d0-49e2-a685-99dfa8a8b76c')\"\n",
              "              title=\"Convert this dataframe to an interactive table.\"\n",
              "              style=\"display:none;\">\n",
              "        \n",
              "  <svg xmlns=\"http://www.w3.org/2000/svg\" height=\"24px\"viewBox=\"0 0 24 24\"\n",
              "       width=\"24px\">\n",
              "    <path d=\"M0 0h24v24H0V0z\" fill=\"none\"/>\n",
              "    <path d=\"M18.56 5.44l.94 2.06.94-2.06 2.06-.94-2.06-.94-.94-2.06-.94 2.06-2.06.94zm-11 1L8.5 8.5l.94-2.06 2.06-.94-2.06-.94L8.5 2.5l-.94 2.06-2.06.94zm10 10l.94 2.06.94-2.06 2.06-.94-2.06-.94-.94-2.06-.94 2.06-2.06.94z\"/><path d=\"M17.41 7.96l-1.37-1.37c-.4-.4-.92-.59-1.43-.59-.52 0-1.04.2-1.43.59L10.3 9.45l-7.72 7.72c-.78.78-.78 2.05 0 2.83L4 21.41c.39.39.9.59 1.41.59.51 0 1.02-.2 1.41-.59l7.78-7.78 2.81-2.81c.8-.78.8-2.07 0-2.86zM5.41 20L4 18.59l7.72-7.72 1.47 1.35L5.41 20z\"/>\n",
              "  </svg>\n",
              "      </button>\n",
              "      \n",
              "  <style>\n",
              "    .colab-df-container {\n",
              "      display:flex;\n",
              "      flex-wrap:wrap;\n",
              "      gap: 12px;\n",
              "    }\n",
              "\n",
              "    .colab-df-convert {\n",
              "      background-color: #E8F0FE;\n",
              "      border: none;\n",
              "      border-radius: 50%;\n",
              "      cursor: pointer;\n",
              "      display: none;\n",
              "      fill: #1967D2;\n",
              "      height: 32px;\n",
              "      padding: 0 0 0 0;\n",
              "      width: 32px;\n",
              "    }\n",
              "\n",
              "    .colab-df-convert:hover {\n",
              "      background-color: #E2EBFA;\n",
              "      box-shadow: 0px 1px 2px rgba(60, 64, 67, 0.3), 0px 1px 3px 1px rgba(60, 64, 67, 0.15);\n",
              "      fill: #174EA6;\n",
              "    }\n",
              "\n",
              "    [theme=dark] .colab-df-convert {\n",
              "      background-color: #3B4455;\n",
              "      fill: #D2E3FC;\n",
              "    }\n",
              "\n",
              "    [theme=dark] .colab-df-convert:hover {\n",
              "      background-color: #434B5C;\n",
              "      box-shadow: 0px 1px 3px 1px rgba(0, 0, 0, 0.15);\n",
              "      filter: drop-shadow(0px 1px 2px rgba(0, 0, 0, 0.3));\n",
              "      fill: #FFFFFF;\n",
              "    }\n",
              "  </style>\n",
              "\n",
              "      <script>\n",
              "        const buttonEl =\n",
              "          document.querySelector('#df-5d863518-b5d0-49e2-a685-99dfa8a8b76c button.colab-df-convert');\n",
              "        buttonEl.style.display =\n",
              "          google.colab.kernel.accessAllowed ? 'block' : 'none';\n",
              "\n",
              "        async function convertToInteractive(key) {\n",
              "          const element = document.querySelector('#df-5d863518-b5d0-49e2-a685-99dfa8a8b76c');\n",
              "          const dataTable =\n",
              "            await google.colab.kernel.invokeFunction('convertToInteractive',\n",
              "                                                     [key], {});\n",
              "          if (!dataTable) return;\n",
              "\n",
              "          const docLinkHtml = 'Like what you see? Visit the ' +\n",
              "            '<a target=\"_blank\" href=https://colab.research.google.com/notebooks/data_table.ipynb>data table notebook</a>'\n",
              "            + ' to learn more about interactive tables.';\n",
              "          element.innerHTML = '';\n",
              "          dataTable['output_type'] = 'display_data';\n",
              "          await google.colab.output.renderOutput(dataTable, element);\n",
              "          const docLink = document.createElement('div');\n",
              "          docLink.innerHTML = docLinkHtml;\n",
              "          element.appendChild(docLink);\n",
              "        }\n",
              "      </script>\n",
              "    </div>\n",
              "  </div>\n",
              "  "
            ]
          },
          "metadata": {},
          "execution_count": 40
        }
      ]
    },
    {
      "cell_type": "code",
      "source": [
        "eleitorado.drop('DS_MUN_SIT_BIOMETRICA', axis=1, inplace=True)"
      ],
      "metadata": {
        "id": "hOJ12GMoKYKl"
      },
      "execution_count": 41,
      "outputs": []
    },
    {
      "cell_type": "markdown",
      "metadata": {
        "id": "tyIqiagH1AzI"
      },
      "source": [
        "## Separando um novo DataFrame somente para o eleitorado que não está no Brasil"
      ]
    },
    {
      "cell_type": "code",
      "execution_count": 42,
      "metadata": {
        "id": "CWrQ2vQN1Am2"
      },
      "outputs": [],
      "source": [
        "eleitorado_no_exterior = eleitorado[eleitorado['SG_UF'] == 'EXTERIOR'].copy()"
      ]
    },
    {
      "cell_type": "code",
      "execution_count": 43,
      "metadata": {
        "id": "qptdW1Wo1wWM"
      },
      "outputs": [],
      "source": [
        "eleitorado_no_exterior.drop('SG_UF', axis=1, inplace=True)"
      ]
    },
    {
      "cell_type": "code",
      "execution_count": 44,
      "metadata": {
        "colab": {
          "base_uri": "https://localhost:8080/",
          "height": 206
        },
        "id": "Qm_Zo6Kt1dMM",
        "outputId": "2f5fad12-0240-4d91-a82b-4a47dc004d21"
      },
      "outputs": [
        {
          "output_type": "execute_result",
          "data": {
            "text/plain": [
              "        NM_MUNICIPIO  DS_GENERO DS_ESTADO_CIVIL DS_FAIXA_ETARIA  \\\n",
              "3548541    BARCELONA  MASCULINO      DIVORCIADO    60 a 64 anos   \n",
              "3548542    BARCELONA  MASCULINO      DIVORCIADO    60 a 64 anos   \n",
              "3548543    BARCELONA  MASCULINO      DIVORCIADO    65 a 69 anos   \n",
              "3548544    BARCELONA  MASCULINO      DIVORCIADO    65 a 69 anos   \n",
              "3548545    BARCELONA  MASCULINO      DIVORCIADO    65 a 69 anos   \n",
              "\n",
              "                DS_GRAU_ESCOLARIDADE  QT_ELEITORES_PERFIL  \\\n",
              "3548541          SUPERIOR INCOMPLETO                    1   \n",
              "3548542            SUPERIOR COMPLETO                    6   \n",
              "3548543  ENSINO FUNDAMENTAL COMPLETO                    2   \n",
              "3548544        ENSINO MÉDIO COMPLETO                    3   \n",
              "3548545          SUPERIOR INCOMPLETO                    1   \n",
              "\n",
              "         QT_ELEITORES_BIOMETRIA  QT_ELEITORES_DEFICIENCIA  \\\n",
              "3548541                       0                         0   \n",
              "3548542                       0                         0   \n",
              "3548543                       0                         0   \n",
              "3548544                       1                         0   \n",
              "3548545                       0                         0   \n",
              "\n",
              "         QT_ELEITORES_INC_NM_SOCIAL  \n",
              "3548541                           0  \n",
              "3548542                           0  \n",
              "3548543                           0  \n",
              "3548544                           0  \n",
              "3548545                           0  "
            ],
            "text/html": [
              "\n",
              "  <div id=\"df-74973ddc-efed-4ad3-bd41-9aeec8ad665c\">\n",
              "    <div class=\"colab-df-container\">\n",
              "      <div>\n",
              "<style scoped>\n",
              "    .dataframe tbody tr th:only-of-type {\n",
              "        vertical-align: middle;\n",
              "    }\n",
              "\n",
              "    .dataframe tbody tr th {\n",
              "        vertical-align: top;\n",
              "    }\n",
              "\n",
              "    .dataframe thead th {\n",
              "        text-align: right;\n",
              "    }\n",
              "</style>\n",
              "<table border=\"1\" class=\"dataframe\">\n",
              "  <thead>\n",
              "    <tr style=\"text-align: right;\">\n",
              "      <th></th>\n",
              "      <th>NM_MUNICIPIO</th>\n",
              "      <th>DS_GENERO</th>\n",
              "      <th>DS_ESTADO_CIVIL</th>\n",
              "      <th>DS_FAIXA_ETARIA</th>\n",
              "      <th>DS_GRAU_ESCOLARIDADE</th>\n",
              "      <th>QT_ELEITORES_PERFIL</th>\n",
              "      <th>QT_ELEITORES_BIOMETRIA</th>\n",
              "      <th>QT_ELEITORES_DEFICIENCIA</th>\n",
              "      <th>QT_ELEITORES_INC_NM_SOCIAL</th>\n",
              "    </tr>\n",
              "  </thead>\n",
              "  <tbody>\n",
              "    <tr>\n",
              "      <th>3548541</th>\n",
              "      <td>BARCELONA</td>\n",
              "      <td>MASCULINO</td>\n",
              "      <td>DIVORCIADO</td>\n",
              "      <td>60 a 64 anos</td>\n",
              "      <td>SUPERIOR INCOMPLETO</td>\n",
              "      <td>1</td>\n",
              "      <td>0</td>\n",
              "      <td>0</td>\n",
              "      <td>0</td>\n",
              "    </tr>\n",
              "    <tr>\n",
              "      <th>3548542</th>\n",
              "      <td>BARCELONA</td>\n",
              "      <td>MASCULINO</td>\n",
              "      <td>DIVORCIADO</td>\n",
              "      <td>60 a 64 anos</td>\n",
              "      <td>SUPERIOR COMPLETO</td>\n",
              "      <td>6</td>\n",
              "      <td>0</td>\n",
              "      <td>0</td>\n",
              "      <td>0</td>\n",
              "    </tr>\n",
              "    <tr>\n",
              "      <th>3548543</th>\n",
              "      <td>BARCELONA</td>\n",
              "      <td>MASCULINO</td>\n",
              "      <td>DIVORCIADO</td>\n",
              "      <td>65 a 69 anos</td>\n",
              "      <td>ENSINO FUNDAMENTAL COMPLETO</td>\n",
              "      <td>2</td>\n",
              "      <td>0</td>\n",
              "      <td>0</td>\n",
              "      <td>0</td>\n",
              "    </tr>\n",
              "    <tr>\n",
              "      <th>3548544</th>\n",
              "      <td>BARCELONA</td>\n",
              "      <td>MASCULINO</td>\n",
              "      <td>DIVORCIADO</td>\n",
              "      <td>65 a 69 anos</td>\n",
              "      <td>ENSINO MÉDIO COMPLETO</td>\n",
              "      <td>3</td>\n",
              "      <td>1</td>\n",
              "      <td>0</td>\n",
              "      <td>0</td>\n",
              "    </tr>\n",
              "    <tr>\n",
              "      <th>3548545</th>\n",
              "      <td>BARCELONA</td>\n",
              "      <td>MASCULINO</td>\n",
              "      <td>DIVORCIADO</td>\n",
              "      <td>65 a 69 anos</td>\n",
              "      <td>SUPERIOR INCOMPLETO</td>\n",
              "      <td>1</td>\n",
              "      <td>0</td>\n",
              "      <td>0</td>\n",
              "      <td>0</td>\n",
              "    </tr>\n",
              "  </tbody>\n",
              "</table>\n",
              "</div>\n",
              "      <button class=\"colab-df-convert\" onclick=\"convertToInteractive('df-74973ddc-efed-4ad3-bd41-9aeec8ad665c')\"\n",
              "              title=\"Convert this dataframe to an interactive table.\"\n",
              "              style=\"display:none;\">\n",
              "        \n",
              "  <svg xmlns=\"http://www.w3.org/2000/svg\" height=\"24px\"viewBox=\"0 0 24 24\"\n",
              "       width=\"24px\">\n",
              "    <path d=\"M0 0h24v24H0V0z\" fill=\"none\"/>\n",
              "    <path d=\"M18.56 5.44l.94 2.06.94-2.06 2.06-.94-2.06-.94-.94-2.06-.94 2.06-2.06.94zm-11 1L8.5 8.5l.94-2.06 2.06-.94-2.06-.94L8.5 2.5l-.94 2.06-2.06.94zm10 10l.94 2.06.94-2.06 2.06-.94-2.06-.94-.94-2.06-.94 2.06-2.06.94z\"/><path d=\"M17.41 7.96l-1.37-1.37c-.4-.4-.92-.59-1.43-.59-.52 0-1.04.2-1.43.59L10.3 9.45l-7.72 7.72c-.78.78-.78 2.05 0 2.83L4 21.41c.39.39.9.59 1.41.59.51 0 1.02-.2 1.41-.59l7.78-7.78 2.81-2.81c.8-.78.8-2.07 0-2.86zM5.41 20L4 18.59l7.72-7.72 1.47 1.35L5.41 20z\"/>\n",
              "  </svg>\n",
              "      </button>\n",
              "      \n",
              "  <style>\n",
              "    .colab-df-container {\n",
              "      display:flex;\n",
              "      flex-wrap:wrap;\n",
              "      gap: 12px;\n",
              "    }\n",
              "\n",
              "    .colab-df-convert {\n",
              "      background-color: #E8F0FE;\n",
              "      border: none;\n",
              "      border-radius: 50%;\n",
              "      cursor: pointer;\n",
              "      display: none;\n",
              "      fill: #1967D2;\n",
              "      height: 32px;\n",
              "      padding: 0 0 0 0;\n",
              "      width: 32px;\n",
              "    }\n",
              "\n",
              "    .colab-df-convert:hover {\n",
              "      background-color: #E2EBFA;\n",
              "      box-shadow: 0px 1px 2px rgba(60, 64, 67, 0.3), 0px 1px 3px 1px rgba(60, 64, 67, 0.15);\n",
              "      fill: #174EA6;\n",
              "    }\n",
              "\n",
              "    [theme=dark] .colab-df-convert {\n",
              "      background-color: #3B4455;\n",
              "      fill: #D2E3FC;\n",
              "    }\n",
              "\n",
              "    [theme=dark] .colab-df-convert:hover {\n",
              "      background-color: #434B5C;\n",
              "      box-shadow: 0px 1px 3px 1px rgba(0, 0, 0, 0.15);\n",
              "      filter: drop-shadow(0px 1px 2px rgba(0, 0, 0, 0.3));\n",
              "      fill: #FFFFFF;\n",
              "    }\n",
              "  </style>\n",
              "\n",
              "      <script>\n",
              "        const buttonEl =\n",
              "          document.querySelector('#df-74973ddc-efed-4ad3-bd41-9aeec8ad665c button.colab-df-convert');\n",
              "        buttonEl.style.display =\n",
              "          google.colab.kernel.accessAllowed ? 'block' : 'none';\n",
              "\n",
              "        async function convertToInteractive(key) {\n",
              "          const element = document.querySelector('#df-74973ddc-efed-4ad3-bd41-9aeec8ad665c');\n",
              "          const dataTable =\n",
              "            await google.colab.kernel.invokeFunction('convertToInteractive',\n",
              "                                                     [key], {});\n",
              "          if (!dataTable) return;\n",
              "\n",
              "          const docLinkHtml = 'Like what you see? Visit the ' +\n",
              "            '<a target=\"_blank\" href=https://colab.research.google.com/notebooks/data_table.ipynb>data table notebook</a>'\n",
              "            + ' to learn more about interactive tables.';\n",
              "          element.innerHTML = '';\n",
              "          dataTable['output_type'] = 'display_data';\n",
              "          await google.colab.output.renderOutput(dataTable, element);\n",
              "          const docLink = document.createElement('div');\n",
              "          docLink.innerHTML = docLinkHtml;\n",
              "          element.appendChild(docLink);\n",
              "        }\n",
              "      </script>\n",
              "    </div>\n",
              "  </div>\n",
              "  "
            ]
          },
          "metadata": {},
          "execution_count": 44
        }
      ],
      "source": [
        "eleitorado_no_exterior.head()"
      ]
    },
    {
      "cell_type": "code",
      "source": [
        "eleitorado_no_exterior.shape"
      ],
      "metadata": {
        "colab": {
          "base_uri": "https://localhost:8080/"
        },
        "id": "fltQZ9lx0Cys",
        "outputId": "455ffed5-76a4-44ad-c44a-7049c8fabe4f"
      },
      "execution_count": 45,
      "outputs": [
        {
          "output_type": "execute_result",
          "data": {
            "text/plain": [
              "(36907, 9)"
            ]
          },
          "metadata": {},
          "execution_count": 45
        }
      ]
    },
    {
      "cell_type": "code",
      "source": [
        "eleitorado_no_exterior.drop('QT_ELEITORES_BIOMETRIA', axis=1, inplace=True)"
      ],
      "metadata": {
        "id": "STyEw5OMBZ7z"
      },
      "execution_count": 46,
      "outputs": []
    },
    {
      "cell_type": "code",
      "source": [
        "eleitorado_no_exterior['DS_FAIXA_ETARIA'].value_counts().index"
      ],
      "metadata": {
        "colab": {
          "base_uri": "https://localhost:8080/"
        },
        "id": "MIdcRhkCzyvH",
        "outputId": "95e9acbd-4659-4b84-a74a-a4f15db6d0c3"
      },
      "execution_count": 47,
      "outputs": [
        {
          "output_type": "execute_result",
          "data": {
            "text/plain": [
              "Index(['45 a 49 anos', '40 a 44 anos', '50 a 54 anos', '55 a 59 anos',\n",
              "       '35 a 39 anos', '60 a 64 anos', '30 a 34 anos', '65 a 69 anos',\n",
              "       '25 a 29 anos', '70 a 74 anos', '75 a 79 anos', '21 a 24 anos',\n",
              "       '80 a 84 anos', '20 anos', '19 anos', '85 a 89 anos', '18 anos',\n",
              "       '90 a 94 anos', '17 anos', '16 anos', '95 a 99 anos',\n",
              "       '100 anos ou mais'],\n",
              "      dtype='object')"
            ]
          },
          "metadata": {},
          "execution_count": 47
        }
      ]
    },
    {
      "cell_type": "markdown",
      "metadata": {
        "id": "UoHLmIKc02-6"
      },
      "source": [
        "## Separando um novo DataFrame somente com as capitais dos estados brasileiros"
      ]
    },
    {
      "cell_type": "code",
      "execution_count": 48,
      "metadata": {
        "id": "i1LSY25L8J0K"
      },
      "outputs": [],
      "source": [
        "dados_capitais_brasileiras = eleitorado[((eleitorado['SG_UF'] == 'Acre') & (eleitorado['NM_MUNICIPIO'] == 'RIO BRANCO')) | \n",
        "          ((eleitorado['SG_UF'] == 'ALAGOAS') & (eleitorado['NM_MUNICIPIO'] == 'MACEIÓ')) | \n",
        "          ((eleitorado['SG_UF'] == 'AMAPÁ') & (eleitorado['NM_MUNICIPIO'] == 'MACAPÁ')) |\n",
        "          ((eleitorado['SG_UF'] == 'AMAZONAS') & (eleitorado['NM_MUNICIPIO'] == 'MANAUS')) |\n",
        "          ((eleitorado['SG_UF'] == 'BAHIA') & (eleitorado['NM_MUNICIPIO'] == 'SALVADOR')) |\n",
        "          ((eleitorado['SG_UF'] == 'CEARÁ') & (eleitorado['NM_MUNICIPIO'] == 'FORTALEZA')) |\n",
        "          ((eleitorado['SG_UF'] == 'ESPÍRITO SANTO') & (eleitorado['NM_MUNICIPIO'] == 'VITÓRIA')) |\n",
        "          ((eleitorado['SG_UF'] == 'GOIÁS') & (eleitorado['NM_MUNICIPIO'] == 'GOIÂNIA')) |\n",
        "          ((eleitorado['SG_UF'] == 'MARANHÃO') & (eleitorado['NM_MUNICIPIO'] == 'SÃO LUÍS')) |\n",
        "          ((eleitorado['SG_UF'] == 'MATO GROSSO') & (eleitorado['NM_MUNICIPIO'] == 'CUIABÁ')) |\n",
        "          ((eleitorado['SG_UF'] == 'MATO GROSSO DO SUL') & (eleitorado['NM_MUNICIPIO'] == 'CAMPO GRANDE')) |\n",
        "          ((eleitorado['SG_UF'] == 'MINAS GERAIS') & (eleitorado['NM_MUNICIPIO'] == 'BELO HORIZONTE')) |\n",
        "          ((eleitorado['SG_UF'] == 'PARÁ') & (eleitorado['NM_MUNICIPIO'] == 'BELÉM')) |\n",
        "          ((eleitorado['SG_UF'] == 'PARAÍBA') & (eleitorado['NM_MUNICIPIO'] == 'JOÃO PESSOA')) |\n",
        "          ((eleitorado['SG_UF'] == 'PARANÁ') & (eleitorado['NM_MUNICIPIO'] == 'CURITIBA')) |\n",
        "          ((eleitorado['SG_UF'] == 'PERNAMBUCO') & (eleitorado['NM_MUNICIPIO'] == 'RECIFE')) |\n",
        "          ((eleitorado['SG_UF'] == 'PIAUÍ') & (eleitorado['NM_MUNICIPIO'] == 'TERESINA')) |\n",
        "          ((eleitorado['SG_UF'] == 'RIO DE JANEIRO') & (eleitorado['NM_MUNICIPIO'] == 'RIO DE JANEIRO')) |\n",
        "          ((eleitorado['SG_UF'] == 'RIO GRANDE DO NORTE') & (eleitorado['NM_MUNICIPIO'] == 'NATAL')) |\n",
        "          ((eleitorado['SG_UF'] == 'RIO GRANDE DO SUL') & (eleitorado['NM_MUNICIPIO'] == 'PORTO ALEGRE')) |\n",
        "          ((eleitorado['SG_UF'] == 'RONDÔNIA') & (eleitorado['NM_MUNICIPIO'] == 'PORTO VELHO')) |\n",
        "          ((eleitorado['SG_UF'] == 'RORAIMA') & (eleitorado['NM_MUNICIPIO'] == 'BOA VISTA')) |\n",
        "          ((eleitorado['SG_UF'] == 'SANTA CATARINA') & (eleitorado['NM_MUNICIPIO'] == 'FLORIANÓPOLIS')) |\n",
        "          ((eleitorado['SG_UF'] == 'SÃO PAULO') & (eleitorado['NM_MUNICIPIO'] == 'SÃO PAULO')) |\n",
        "          ((eleitorado['SG_UF'] == 'SERGIPE') & (eleitorado['NM_MUNICIPIO'] == 'ARACAJU')) |\n",
        "          ((eleitorado['SG_UF'] == 'TOCANTINS') & (eleitorado['NM_MUNICIPIO'] == 'PALMAS')) |\n",
        "          ((eleitorado['SG_UF'] == 'DISTRITO FEDERAL') & (eleitorado['NM_MUNICIPIO'] == 'BRASÍLIA'))].copy()"
      ]
    },
    {
      "cell_type": "code",
      "execution_count": 49,
      "metadata": {
        "colab": {
          "base_uri": "https://localhost:8080/",
          "height": 0
        },
        "id": "07XZFp2wEaWS",
        "outputId": "41a069e9-270d-4c55-bc28-09eaf0f5fb1d"
      },
      "outputs": [
        {
          "output_type": "execute_result",
          "data": {
            "text/plain": [
              "     SG_UF NM_MUNICIPIO DS_GENERO         DS_ESTADO_CIVIL DS_FAIXA_ETARIA  \\\n",
              "183  PIAUÍ     TERESINA  FEMININO  SEPARADO JUDICIALMENTE    60 a 64 anos   \n",
              "184  PIAUÍ     TERESINA  FEMININO  SEPARADO JUDICIALMENTE    65 a 69 anos   \n",
              "185  PIAUÍ     TERESINA  FEMININO  SEPARADO JUDICIALMENTE    65 a 69 anos   \n",
              "186  PIAUÍ     TERESINA  FEMININO  SEPARADO JUDICIALMENTE    65 a 69 anos   \n",
              "187  PIAUÍ     TERESINA  FEMININO  SEPARADO JUDICIALMENTE    65 a 69 anos   \n",
              "\n",
              "              DS_GRAU_ESCOLARIDADE  QT_ELEITORES_PERFIL  \\\n",
              "183              SUPERIOR COMPLETO                   10   \n",
              "184                     ANALFABETO                   11   \n",
              "185                   LÊ E ESCREVE                   28   \n",
              "186  ENSINO FUNDAMENTAL INCOMPLETO                   47   \n",
              "187    ENSINO FUNDAMENTAL COMPLETO                   12   \n",
              "\n",
              "     QT_ELEITORES_BIOMETRIA  QT_ELEITORES_DEFICIENCIA  \\\n",
              "183                      10                         0   \n",
              "184                      11                         1   \n",
              "185                      28                         1   \n",
              "186                      47                         1   \n",
              "187                      12                         1   \n",
              "\n",
              "     QT_ELEITORES_INC_NM_SOCIAL  \n",
              "183                           0  \n",
              "184                           0  \n",
              "185                           0  \n",
              "186                           0  \n",
              "187                           0  "
            ],
            "text/html": [
              "\n",
              "  <div id=\"df-0d7000e6-cfd2-4749-b319-5ba084fccd9c\">\n",
              "    <div class=\"colab-df-container\">\n",
              "      <div>\n",
              "<style scoped>\n",
              "    .dataframe tbody tr th:only-of-type {\n",
              "        vertical-align: middle;\n",
              "    }\n",
              "\n",
              "    .dataframe tbody tr th {\n",
              "        vertical-align: top;\n",
              "    }\n",
              "\n",
              "    .dataframe thead th {\n",
              "        text-align: right;\n",
              "    }\n",
              "</style>\n",
              "<table border=\"1\" class=\"dataframe\">\n",
              "  <thead>\n",
              "    <tr style=\"text-align: right;\">\n",
              "      <th></th>\n",
              "      <th>SG_UF</th>\n",
              "      <th>NM_MUNICIPIO</th>\n",
              "      <th>DS_GENERO</th>\n",
              "      <th>DS_ESTADO_CIVIL</th>\n",
              "      <th>DS_FAIXA_ETARIA</th>\n",
              "      <th>DS_GRAU_ESCOLARIDADE</th>\n",
              "      <th>QT_ELEITORES_PERFIL</th>\n",
              "      <th>QT_ELEITORES_BIOMETRIA</th>\n",
              "      <th>QT_ELEITORES_DEFICIENCIA</th>\n",
              "      <th>QT_ELEITORES_INC_NM_SOCIAL</th>\n",
              "    </tr>\n",
              "  </thead>\n",
              "  <tbody>\n",
              "    <tr>\n",
              "      <th>183</th>\n",
              "      <td>PIAUÍ</td>\n",
              "      <td>TERESINA</td>\n",
              "      <td>FEMININO</td>\n",
              "      <td>SEPARADO JUDICIALMENTE</td>\n",
              "      <td>60 a 64 anos</td>\n",
              "      <td>SUPERIOR COMPLETO</td>\n",
              "      <td>10</td>\n",
              "      <td>10</td>\n",
              "      <td>0</td>\n",
              "      <td>0</td>\n",
              "    </tr>\n",
              "    <tr>\n",
              "      <th>184</th>\n",
              "      <td>PIAUÍ</td>\n",
              "      <td>TERESINA</td>\n",
              "      <td>FEMININO</td>\n",
              "      <td>SEPARADO JUDICIALMENTE</td>\n",
              "      <td>65 a 69 anos</td>\n",
              "      <td>ANALFABETO</td>\n",
              "      <td>11</td>\n",
              "      <td>11</td>\n",
              "      <td>1</td>\n",
              "      <td>0</td>\n",
              "    </tr>\n",
              "    <tr>\n",
              "      <th>185</th>\n",
              "      <td>PIAUÍ</td>\n",
              "      <td>TERESINA</td>\n",
              "      <td>FEMININO</td>\n",
              "      <td>SEPARADO JUDICIALMENTE</td>\n",
              "      <td>65 a 69 anos</td>\n",
              "      <td>LÊ E ESCREVE</td>\n",
              "      <td>28</td>\n",
              "      <td>28</td>\n",
              "      <td>1</td>\n",
              "      <td>0</td>\n",
              "    </tr>\n",
              "    <tr>\n",
              "      <th>186</th>\n",
              "      <td>PIAUÍ</td>\n",
              "      <td>TERESINA</td>\n",
              "      <td>FEMININO</td>\n",
              "      <td>SEPARADO JUDICIALMENTE</td>\n",
              "      <td>65 a 69 anos</td>\n",
              "      <td>ENSINO FUNDAMENTAL INCOMPLETO</td>\n",
              "      <td>47</td>\n",
              "      <td>47</td>\n",
              "      <td>1</td>\n",
              "      <td>0</td>\n",
              "    </tr>\n",
              "    <tr>\n",
              "      <th>187</th>\n",
              "      <td>PIAUÍ</td>\n",
              "      <td>TERESINA</td>\n",
              "      <td>FEMININO</td>\n",
              "      <td>SEPARADO JUDICIALMENTE</td>\n",
              "      <td>65 a 69 anos</td>\n",
              "      <td>ENSINO FUNDAMENTAL COMPLETO</td>\n",
              "      <td>12</td>\n",
              "      <td>12</td>\n",
              "      <td>1</td>\n",
              "      <td>0</td>\n",
              "    </tr>\n",
              "  </tbody>\n",
              "</table>\n",
              "</div>\n",
              "      <button class=\"colab-df-convert\" onclick=\"convertToInteractive('df-0d7000e6-cfd2-4749-b319-5ba084fccd9c')\"\n",
              "              title=\"Convert this dataframe to an interactive table.\"\n",
              "              style=\"display:none;\">\n",
              "        \n",
              "  <svg xmlns=\"http://www.w3.org/2000/svg\" height=\"24px\"viewBox=\"0 0 24 24\"\n",
              "       width=\"24px\">\n",
              "    <path d=\"M0 0h24v24H0V0z\" fill=\"none\"/>\n",
              "    <path d=\"M18.56 5.44l.94 2.06.94-2.06 2.06-.94-2.06-.94-.94-2.06-.94 2.06-2.06.94zm-11 1L8.5 8.5l.94-2.06 2.06-.94-2.06-.94L8.5 2.5l-.94 2.06-2.06.94zm10 10l.94 2.06.94-2.06 2.06-.94-2.06-.94-.94-2.06-.94 2.06-2.06.94z\"/><path d=\"M17.41 7.96l-1.37-1.37c-.4-.4-.92-.59-1.43-.59-.52 0-1.04.2-1.43.59L10.3 9.45l-7.72 7.72c-.78.78-.78 2.05 0 2.83L4 21.41c.39.39.9.59 1.41.59.51 0 1.02-.2 1.41-.59l7.78-7.78 2.81-2.81c.8-.78.8-2.07 0-2.86zM5.41 20L4 18.59l7.72-7.72 1.47 1.35L5.41 20z\"/>\n",
              "  </svg>\n",
              "      </button>\n",
              "      \n",
              "  <style>\n",
              "    .colab-df-container {\n",
              "      display:flex;\n",
              "      flex-wrap:wrap;\n",
              "      gap: 12px;\n",
              "    }\n",
              "\n",
              "    .colab-df-convert {\n",
              "      background-color: #E8F0FE;\n",
              "      border: none;\n",
              "      border-radius: 50%;\n",
              "      cursor: pointer;\n",
              "      display: none;\n",
              "      fill: #1967D2;\n",
              "      height: 32px;\n",
              "      padding: 0 0 0 0;\n",
              "      width: 32px;\n",
              "    }\n",
              "\n",
              "    .colab-df-convert:hover {\n",
              "      background-color: #E2EBFA;\n",
              "      box-shadow: 0px 1px 2px rgba(60, 64, 67, 0.3), 0px 1px 3px 1px rgba(60, 64, 67, 0.15);\n",
              "      fill: #174EA6;\n",
              "    }\n",
              "\n",
              "    [theme=dark] .colab-df-convert {\n",
              "      background-color: #3B4455;\n",
              "      fill: #D2E3FC;\n",
              "    }\n",
              "\n",
              "    [theme=dark] .colab-df-convert:hover {\n",
              "      background-color: #434B5C;\n",
              "      box-shadow: 0px 1px 3px 1px rgba(0, 0, 0, 0.15);\n",
              "      filter: drop-shadow(0px 1px 2px rgba(0, 0, 0, 0.3));\n",
              "      fill: #FFFFFF;\n",
              "    }\n",
              "  </style>\n",
              "\n",
              "      <script>\n",
              "        const buttonEl =\n",
              "          document.querySelector('#df-0d7000e6-cfd2-4749-b319-5ba084fccd9c button.colab-df-convert');\n",
              "        buttonEl.style.display =\n",
              "          google.colab.kernel.accessAllowed ? 'block' : 'none';\n",
              "\n",
              "        async function convertToInteractive(key) {\n",
              "          const element = document.querySelector('#df-0d7000e6-cfd2-4749-b319-5ba084fccd9c');\n",
              "          const dataTable =\n",
              "            await google.colab.kernel.invokeFunction('convertToInteractive',\n",
              "                                                     [key], {});\n",
              "          if (!dataTable) return;\n",
              "\n",
              "          const docLinkHtml = 'Like what you see? Visit the ' +\n",
              "            '<a target=\"_blank\" href=https://colab.research.google.com/notebooks/data_table.ipynb>data table notebook</a>'\n",
              "            + ' to learn more about interactive tables.';\n",
              "          element.innerHTML = '';\n",
              "          dataTable['output_type'] = 'display_data';\n",
              "          await google.colab.output.renderOutput(dataTable, element);\n",
              "          const docLink = document.createElement('div');\n",
              "          docLink.innerHTML = docLinkHtml;\n",
              "          element.appendChild(docLink);\n",
              "        }\n",
              "      </script>\n",
              "    </div>\n",
              "  </div>\n",
              "  "
            ]
          },
          "metadata": {},
          "execution_count": 49
        }
      ],
      "source": [
        "dados_capitais_brasileiras.head()"
      ]
    },
    {
      "cell_type": "code",
      "source": [
        "dados_capitais_brasileiras.drop('NM_MUNICIPIO', axis=1, inplace=True)"
      ],
      "metadata": {
        "id": "q7o5BZQnM_yx"
      },
      "execution_count": 50,
      "outputs": []
    },
    {
      "cell_type": "markdown",
      "source": [
        "## Removendo a coluna NM_MUNICIPIO do DataFrame geral de eleitores"
      ],
      "metadata": {
        "id": "DcMo2yZENV-e"
      }
    },
    {
      "cell_type": "code",
      "source": [
        "eleitorado.drop('NM_MUNICIPIO', axis=1, inplace=True)"
      ],
      "metadata": {
        "id": "j7lV4gLMNc-6"
      },
      "execution_count": 51,
      "outputs": []
    },
    {
      "cell_type": "markdown",
      "metadata": {
        "id": "uowyUVpO_W28"
      },
      "source": [
        "## Renomeando as colunas dos DataFrames"
      ]
    },
    {
      "cell_type": "code",
      "execution_count": 52,
      "metadata": {
        "colab": {
          "base_uri": "https://localhost:8080/",
          "height": 206
        },
        "id": "PFNfZfXh_zod",
        "outputId": "c6e081c1-e9c2-42ac-f984-dbcd5ba5f682"
      },
      "outputs": [
        {
          "output_type": "execute_result",
          "data": {
            "text/plain": [
              "  unidade_federal    genero estado_civil  faixa_etaria  \\\n",
              "0      PERNAMBUCO  FEMININO     SOLTEIRO  45 a 49 anos   \n",
              "1      PERNAMBUCO  FEMININO     SOLTEIRO  45 a 49 anos   \n",
              "2      PERNAMBUCO  FEMININO     SOLTEIRO  45 a 49 anos   \n",
              "3      PERNAMBUCO  FEMININO     SOLTEIRO  45 a 49 anos   \n",
              "4      PERNAMBUCO  FEMININO     SOLTEIRO  45 a 49 anos   \n",
              "\n",
              "                    escolaridade  quantidade_eleitores_perfil  \\\n",
              "0                   LÊ E ESCREVE                          342   \n",
              "1  ENSINO FUNDAMENTAL INCOMPLETO                          753   \n",
              "2    ENSINO FUNDAMENTAL COMPLETO                          138   \n",
              "3        ENSINO MÉDIO INCOMPLETO                          150   \n",
              "4          ENSINO MÉDIO COMPLETO                          558   \n",
              "\n",
              "   eleitores_com_biometria  eleitores_com_deficiencia  \\\n",
              "0                      338                          1   \n",
              "1                      744                          3   \n",
              "2                      136                          0   \n",
              "3                      145                          1   \n",
              "4                      552                          0   \n",
              "\n",
              "   eleitores_com_nome_social  \n",
              "0                          0  \n",
              "1                          0  \n",
              "2                          0  \n",
              "3                          0  \n",
              "4                          0  "
            ],
            "text/html": [
              "\n",
              "  <div id=\"df-56396acf-ef19-4847-bf0c-d0198be3a075\">\n",
              "    <div class=\"colab-df-container\">\n",
              "      <div>\n",
              "<style scoped>\n",
              "    .dataframe tbody tr th:only-of-type {\n",
              "        vertical-align: middle;\n",
              "    }\n",
              "\n",
              "    .dataframe tbody tr th {\n",
              "        vertical-align: top;\n",
              "    }\n",
              "\n",
              "    .dataframe thead th {\n",
              "        text-align: right;\n",
              "    }\n",
              "</style>\n",
              "<table border=\"1\" class=\"dataframe\">\n",
              "  <thead>\n",
              "    <tr style=\"text-align: right;\">\n",
              "      <th></th>\n",
              "      <th>unidade_federal</th>\n",
              "      <th>genero</th>\n",
              "      <th>estado_civil</th>\n",
              "      <th>faixa_etaria</th>\n",
              "      <th>escolaridade</th>\n",
              "      <th>quantidade_eleitores_perfil</th>\n",
              "      <th>eleitores_com_biometria</th>\n",
              "      <th>eleitores_com_deficiencia</th>\n",
              "      <th>eleitores_com_nome_social</th>\n",
              "    </tr>\n",
              "  </thead>\n",
              "  <tbody>\n",
              "    <tr>\n",
              "      <th>0</th>\n",
              "      <td>PERNAMBUCO</td>\n",
              "      <td>FEMININO</td>\n",
              "      <td>SOLTEIRO</td>\n",
              "      <td>45 a 49 anos</td>\n",
              "      <td>LÊ E ESCREVE</td>\n",
              "      <td>342</td>\n",
              "      <td>338</td>\n",
              "      <td>1</td>\n",
              "      <td>0</td>\n",
              "    </tr>\n",
              "    <tr>\n",
              "      <th>1</th>\n",
              "      <td>PERNAMBUCO</td>\n",
              "      <td>FEMININO</td>\n",
              "      <td>SOLTEIRO</td>\n",
              "      <td>45 a 49 anos</td>\n",
              "      <td>ENSINO FUNDAMENTAL INCOMPLETO</td>\n",
              "      <td>753</td>\n",
              "      <td>744</td>\n",
              "      <td>3</td>\n",
              "      <td>0</td>\n",
              "    </tr>\n",
              "    <tr>\n",
              "      <th>2</th>\n",
              "      <td>PERNAMBUCO</td>\n",
              "      <td>FEMININO</td>\n",
              "      <td>SOLTEIRO</td>\n",
              "      <td>45 a 49 anos</td>\n",
              "      <td>ENSINO FUNDAMENTAL COMPLETO</td>\n",
              "      <td>138</td>\n",
              "      <td>136</td>\n",
              "      <td>0</td>\n",
              "      <td>0</td>\n",
              "    </tr>\n",
              "    <tr>\n",
              "      <th>3</th>\n",
              "      <td>PERNAMBUCO</td>\n",
              "      <td>FEMININO</td>\n",
              "      <td>SOLTEIRO</td>\n",
              "      <td>45 a 49 anos</td>\n",
              "      <td>ENSINO MÉDIO INCOMPLETO</td>\n",
              "      <td>150</td>\n",
              "      <td>145</td>\n",
              "      <td>1</td>\n",
              "      <td>0</td>\n",
              "    </tr>\n",
              "    <tr>\n",
              "      <th>4</th>\n",
              "      <td>PERNAMBUCO</td>\n",
              "      <td>FEMININO</td>\n",
              "      <td>SOLTEIRO</td>\n",
              "      <td>45 a 49 anos</td>\n",
              "      <td>ENSINO MÉDIO COMPLETO</td>\n",
              "      <td>558</td>\n",
              "      <td>552</td>\n",
              "      <td>0</td>\n",
              "      <td>0</td>\n",
              "    </tr>\n",
              "  </tbody>\n",
              "</table>\n",
              "</div>\n",
              "      <button class=\"colab-df-convert\" onclick=\"convertToInteractive('df-56396acf-ef19-4847-bf0c-d0198be3a075')\"\n",
              "              title=\"Convert this dataframe to an interactive table.\"\n",
              "              style=\"display:none;\">\n",
              "        \n",
              "  <svg xmlns=\"http://www.w3.org/2000/svg\" height=\"24px\"viewBox=\"0 0 24 24\"\n",
              "       width=\"24px\">\n",
              "    <path d=\"M0 0h24v24H0V0z\" fill=\"none\"/>\n",
              "    <path d=\"M18.56 5.44l.94 2.06.94-2.06 2.06-.94-2.06-.94-.94-2.06-.94 2.06-2.06.94zm-11 1L8.5 8.5l.94-2.06 2.06-.94-2.06-.94L8.5 2.5l-.94 2.06-2.06.94zm10 10l.94 2.06.94-2.06 2.06-.94-2.06-.94-.94-2.06-.94 2.06-2.06.94z\"/><path d=\"M17.41 7.96l-1.37-1.37c-.4-.4-.92-.59-1.43-.59-.52 0-1.04.2-1.43.59L10.3 9.45l-7.72 7.72c-.78.78-.78 2.05 0 2.83L4 21.41c.39.39.9.59 1.41.59.51 0 1.02-.2 1.41-.59l7.78-7.78 2.81-2.81c.8-.78.8-2.07 0-2.86zM5.41 20L4 18.59l7.72-7.72 1.47 1.35L5.41 20z\"/>\n",
              "  </svg>\n",
              "      </button>\n",
              "      \n",
              "  <style>\n",
              "    .colab-df-container {\n",
              "      display:flex;\n",
              "      flex-wrap:wrap;\n",
              "      gap: 12px;\n",
              "    }\n",
              "\n",
              "    .colab-df-convert {\n",
              "      background-color: #E8F0FE;\n",
              "      border: none;\n",
              "      border-radius: 50%;\n",
              "      cursor: pointer;\n",
              "      display: none;\n",
              "      fill: #1967D2;\n",
              "      height: 32px;\n",
              "      padding: 0 0 0 0;\n",
              "      width: 32px;\n",
              "    }\n",
              "\n",
              "    .colab-df-convert:hover {\n",
              "      background-color: #E2EBFA;\n",
              "      box-shadow: 0px 1px 2px rgba(60, 64, 67, 0.3), 0px 1px 3px 1px rgba(60, 64, 67, 0.15);\n",
              "      fill: #174EA6;\n",
              "    }\n",
              "\n",
              "    [theme=dark] .colab-df-convert {\n",
              "      background-color: #3B4455;\n",
              "      fill: #D2E3FC;\n",
              "    }\n",
              "\n",
              "    [theme=dark] .colab-df-convert:hover {\n",
              "      background-color: #434B5C;\n",
              "      box-shadow: 0px 1px 3px 1px rgba(0, 0, 0, 0.15);\n",
              "      filter: drop-shadow(0px 1px 2px rgba(0, 0, 0, 0.3));\n",
              "      fill: #FFFFFF;\n",
              "    }\n",
              "  </style>\n",
              "\n",
              "      <script>\n",
              "        const buttonEl =\n",
              "          document.querySelector('#df-56396acf-ef19-4847-bf0c-d0198be3a075 button.colab-df-convert');\n",
              "        buttonEl.style.display =\n",
              "          google.colab.kernel.accessAllowed ? 'block' : 'none';\n",
              "\n",
              "        async function convertToInteractive(key) {\n",
              "          const element = document.querySelector('#df-56396acf-ef19-4847-bf0c-d0198be3a075');\n",
              "          const dataTable =\n",
              "            await google.colab.kernel.invokeFunction('convertToInteractive',\n",
              "                                                     [key], {});\n",
              "          if (!dataTable) return;\n",
              "\n",
              "          const docLinkHtml = 'Like what you see? Visit the ' +\n",
              "            '<a target=\"_blank\" href=https://colab.research.google.com/notebooks/data_table.ipynb>data table notebook</a>'\n",
              "            + ' to learn more about interactive tables.';\n",
              "          element.innerHTML = '';\n",
              "          dataTable['output_type'] = 'display_data';\n",
              "          await google.colab.output.renderOutput(dataTable, element);\n",
              "          const docLink = document.createElement('div');\n",
              "          docLink.innerHTML = docLinkHtml;\n",
              "          element.appendChild(docLink);\n",
              "        }\n",
              "      </script>\n",
              "    </div>\n",
              "  </div>\n",
              "  "
            ]
          },
          "metadata": {},
          "execution_count": 52
        }
      ],
      "source": [
        "novas_colunas_eleitorado = ['unidade_federal', 'genero', 'estado_civil', \n",
        "                            'faixa_etaria', 'escolaridade', 'quantidade_eleitores_perfil', \n",
        "                            'eleitores_com_biometria', 'eleitores_com_deficiencia', \n",
        "                            'eleitores_com_nome_social']\n",
        "eleitorado.columns = novas_colunas_eleitorado\n",
        "eleitorado.head()"
      ]
    },
    {
      "cell_type": "code",
      "execution_count": 53,
      "metadata": {
        "colab": {
          "base_uri": "https://localhost:8080/",
          "height": 206
        },
        "id": "dsy44nyG-94L",
        "outputId": "52a9a48c-9df9-4947-e385-576eac87f59f"
      },
      "outputs": [
        {
          "output_type": "execute_result",
          "data": {
            "text/plain": [
              "    unidade_federal    genero            estado_civil  faixa_etaria  \\\n",
              "183           PIAUÍ  FEMININO  SEPARADO JUDICIALMENTE  60 a 64 anos   \n",
              "184           PIAUÍ  FEMININO  SEPARADO JUDICIALMENTE  65 a 69 anos   \n",
              "185           PIAUÍ  FEMININO  SEPARADO JUDICIALMENTE  65 a 69 anos   \n",
              "186           PIAUÍ  FEMININO  SEPARADO JUDICIALMENTE  65 a 69 anos   \n",
              "187           PIAUÍ  FEMININO  SEPARADO JUDICIALMENTE  65 a 69 anos   \n",
              "\n",
              "                      escolaridade  quantidade_eleitores_perfil  \\\n",
              "183              SUPERIOR COMPLETO                           10   \n",
              "184                     ANALFABETO                           11   \n",
              "185                   LÊ E ESCREVE                           28   \n",
              "186  ENSINO FUNDAMENTAL INCOMPLETO                           47   \n",
              "187    ENSINO FUNDAMENTAL COMPLETO                           12   \n",
              "\n",
              "     eleitores_com_biometria  eleitores_com_deficiencia  \\\n",
              "183                       10                          0   \n",
              "184                       11                          1   \n",
              "185                       28                          1   \n",
              "186                       47                          1   \n",
              "187                       12                          1   \n",
              "\n",
              "     eleitores_com_nome_social  \n",
              "183                          0  \n",
              "184                          0  \n",
              "185                          0  \n",
              "186                          0  \n",
              "187                          0  "
            ],
            "text/html": [
              "\n",
              "  <div id=\"df-99f9aa5b-e7cd-40c1-8405-03492dc5d791\">\n",
              "    <div class=\"colab-df-container\">\n",
              "      <div>\n",
              "<style scoped>\n",
              "    .dataframe tbody tr th:only-of-type {\n",
              "        vertical-align: middle;\n",
              "    }\n",
              "\n",
              "    .dataframe tbody tr th {\n",
              "        vertical-align: top;\n",
              "    }\n",
              "\n",
              "    .dataframe thead th {\n",
              "        text-align: right;\n",
              "    }\n",
              "</style>\n",
              "<table border=\"1\" class=\"dataframe\">\n",
              "  <thead>\n",
              "    <tr style=\"text-align: right;\">\n",
              "      <th></th>\n",
              "      <th>unidade_federal</th>\n",
              "      <th>genero</th>\n",
              "      <th>estado_civil</th>\n",
              "      <th>faixa_etaria</th>\n",
              "      <th>escolaridade</th>\n",
              "      <th>quantidade_eleitores_perfil</th>\n",
              "      <th>eleitores_com_biometria</th>\n",
              "      <th>eleitores_com_deficiencia</th>\n",
              "      <th>eleitores_com_nome_social</th>\n",
              "    </tr>\n",
              "  </thead>\n",
              "  <tbody>\n",
              "    <tr>\n",
              "      <th>183</th>\n",
              "      <td>PIAUÍ</td>\n",
              "      <td>FEMININO</td>\n",
              "      <td>SEPARADO JUDICIALMENTE</td>\n",
              "      <td>60 a 64 anos</td>\n",
              "      <td>SUPERIOR COMPLETO</td>\n",
              "      <td>10</td>\n",
              "      <td>10</td>\n",
              "      <td>0</td>\n",
              "      <td>0</td>\n",
              "    </tr>\n",
              "    <tr>\n",
              "      <th>184</th>\n",
              "      <td>PIAUÍ</td>\n",
              "      <td>FEMININO</td>\n",
              "      <td>SEPARADO JUDICIALMENTE</td>\n",
              "      <td>65 a 69 anos</td>\n",
              "      <td>ANALFABETO</td>\n",
              "      <td>11</td>\n",
              "      <td>11</td>\n",
              "      <td>1</td>\n",
              "      <td>0</td>\n",
              "    </tr>\n",
              "    <tr>\n",
              "      <th>185</th>\n",
              "      <td>PIAUÍ</td>\n",
              "      <td>FEMININO</td>\n",
              "      <td>SEPARADO JUDICIALMENTE</td>\n",
              "      <td>65 a 69 anos</td>\n",
              "      <td>LÊ E ESCREVE</td>\n",
              "      <td>28</td>\n",
              "      <td>28</td>\n",
              "      <td>1</td>\n",
              "      <td>0</td>\n",
              "    </tr>\n",
              "    <tr>\n",
              "      <th>186</th>\n",
              "      <td>PIAUÍ</td>\n",
              "      <td>FEMININO</td>\n",
              "      <td>SEPARADO JUDICIALMENTE</td>\n",
              "      <td>65 a 69 anos</td>\n",
              "      <td>ENSINO FUNDAMENTAL INCOMPLETO</td>\n",
              "      <td>47</td>\n",
              "      <td>47</td>\n",
              "      <td>1</td>\n",
              "      <td>0</td>\n",
              "    </tr>\n",
              "    <tr>\n",
              "      <th>187</th>\n",
              "      <td>PIAUÍ</td>\n",
              "      <td>FEMININO</td>\n",
              "      <td>SEPARADO JUDICIALMENTE</td>\n",
              "      <td>65 a 69 anos</td>\n",
              "      <td>ENSINO FUNDAMENTAL COMPLETO</td>\n",
              "      <td>12</td>\n",
              "      <td>12</td>\n",
              "      <td>1</td>\n",
              "      <td>0</td>\n",
              "    </tr>\n",
              "  </tbody>\n",
              "</table>\n",
              "</div>\n",
              "      <button class=\"colab-df-convert\" onclick=\"convertToInteractive('df-99f9aa5b-e7cd-40c1-8405-03492dc5d791')\"\n",
              "              title=\"Convert this dataframe to an interactive table.\"\n",
              "              style=\"display:none;\">\n",
              "        \n",
              "  <svg xmlns=\"http://www.w3.org/2000/svg\" height=\"24px\"viewBox=\"0 0 24 24\"\n",
              "       width=\"24px\">\n",
              "    <path d=\"M0 0h24v24H0V0z\" fill=\"none\"/>\n",
              "    <path d=\"M18.56 5.44l.94 2.06.94-2.06 2.06-.94-2.06-.94-.94-2.06-.94 2.06-2.06.94zm-11 1L8.5 8.5l.94-2.06 2.06-.94-2.06-.94L8.5 2.5l-.94 2.06-2.06.94zm10 10l.94 2.06.94-2.06 2.06-.94-2.06-.94-.94-2.06-.94 2.06-2.06.94z\"/><path d=\"M17.41 7.96l-1.37-1.37c-.4-.4-.92-.59-1.43-.59-.52 0-1.04.2-1.43.59L10.3 9.45l-7.72 7.72c-.78.78-.78 2.05 0 2.83L4 21.41c.39.39.9.59 1.41.59.51 0 1.02-.2 1.41-.59l7.78-7.78 2.81-2.81c.8-.78.8-2.07 0-2.86zM5.41 20L4 18.59l7.72-7.72 1.47 1.35L5.41 20z\"/>\n",
              "  </svg>\n",
              "      </button>\n",
              "      \n",
              "  <style>\n",
              "    .colab-df-container {\n",
              "      display:flex;\n",
              "      flex-wrap:wrap;\n",
              "      gap: 12px;\n",
              "    }\n",
              "\n",
              "    .colab-df-convert {\n",
              "      background-color: #E8F0FE;\n",
              "      border: none;\n",
              "      border-radius: 50%;\n",
              "      cursor: pointer;\n",
              "      display: none;\n",
              "      fill: #1967D2;\n",
              "      height: 32px;\n",
              "      padding: 0 0 0 0;\n",
              "      width: 32px;\n",
              "    }\n",
              "\n",
              "    .colab-df-convert:hover {\n",
              "      background-color: #E2EBFA;\n",
              "      box-shadow: 0px 1px 2px rgba(60, 64, 67, 0.3), 0px 1px 3px 1px rgba(60, 64, 67, 0.15);\n",
              "      fill: #174EA6;\n",
              "    }\n",
              "\n",
              "    [theme=dark] .colab-df-convert {\n",
              "      background-color: #3B4455;\n",
              "      fill: #D2E3FC;\n",
              "    }\n",
              "\n",
              "    [theme=dark] .colab-df-convert:hover {\n",
              "      background-color: #434B5C;\n",
              "      box-shadow: 0px 1px 3px 1px rgba(0, 0, 0, 0.15);\n",
              "      filter: drop-shadow(0px 1px 2px rgba(0, 0, 0, 0.3));\n",
              "      fill: #FFFFFF;\n",
              "    }\n",
              "  </style>\n",
              "\n",
              "      <script>\n",
              "        const buttonEl =\n",
              "          document.querySelector('#df-99f9aa5b-e7cd-40c1-8405-03492dc5d791 button.colab-df-convert');\n",
              "        buttonEl.style.display =\n",
              "          google.colab.kernel.accessAllowed ? 'block' : 'none';\n",
              "\n",
              "        async function convertToInteractive(key) {\n",
              "          const element = document.querySelector('#df-99f9aa5b-e7cd-40c1-8405-03492dc5d791');\n",
              "          const dataTable =\n",
              "            await google.colab.kernel.invokeFunction('convertToInteractive',\n",
              "                                                     [key], {});\n",
              "          if (!dataTable) return;\n",
              "\n",
              "          const docLinkHtml = 'Like what you see? Visit the ' +\n",
              "            '<a target=\"_blank\" href=https://colab.research.google.com/notebooks/data_table.ipynb>data table notebook</a>'\n",
              "            + ' to learn more about interactive tables.';\n",
              "          element.innerHTML = '';\n",
              "          dataTable['output_type'] = 'display_data';\n",
              "          await google.colab.output.renderOutput(dataTable, element);\n",
              "          const docLink = document.createElement('div');\n",
              "          docLink.innerHTML = docLinkHtml;\n",
              "          element.appendChild(docLink);\n",
              "        }\n",
              "      </script>\n",
              "    </div>\n",
              "  </div>\n",
              "  "
            ]
          },
          "metadata": {},
          "execution_count": 53
        }
      ],
      "source": [
        "novas_colunas_eleitorado_capitais = ['unidade_federal', 'genero', 'estado_civil', 'faixa_etaria',\n",
        "                                     'escolaridade', 'quantidade_eleitores_perfil', 'eleitores_com_biometria',\n",
        "                                     'eleitores_com_deficiencia', 'eleitores_com_nome_social']\n",
        "dados_capitais_brasileiras.columns = novas_colunas_eleitorado_capitais\n",
        "dados_capitais_brasileiras.head()"
      ]
    },
    {
      "cell_type": "code",
      "source": [
        "eleitorado_no_exterior"
      ],
      "metadata": {
        "colab": {
          "base_uri": "https://localhost:8080/",
          "height": 424
        },
        "id": "xrDERcz2BP7y",
        "outputId": "c93de6f0-24ff-494f-dead-d0e11705b39e"
      },
      "execution_count": 54,
      "outputs": [
        {
          "output_type": "execute_result",
          "data": {
            "text/plain": [
              "        NM_MUNICIPIO  DS_GENERO DS_ESTADO_CIVIL DS_FAIXA_ETARIA  \\\n",
              "3548541    BARCELONA  MASCULINO      DIVORCIADO    60 a 64 anos   \n",
              "3548542    BARCELONA  MASCULINO      DIVORCIADO    60 a 64 anos   \n",
              "3548543    BARCELONA  MASCULINO      DIVORCIADO    65 a 69 anos   \n",
              "3548544    BARCELONA  MASCULINO      DIVORCIADO    65 a 69 anos   \n",
              "3548545    BARCELONA  MASCULINO      DIVORCIADO    65 a 69 anos   \n",
              "...              ...        ...             ...             ...   \n",
              "4079432     TEL AVIV  MASCULINO           VIÚVO    30 a 34 anos   \n",
              "4079433     TEL AVIV  MASCULINO           VIÚVO    50 a 54 anos   \n",
              "4079434     TEL AVIV  MASCULINO           VIÚVO    60 a 64 anos   \n",
              "4079435     TEL AVIV  MASCULINO           VIÚVO    65 a 69 anos   \n",
              "4082072     TEL AVIV  MASCULINO           VIÚVO    75 a 79 anos   \n",
              "\n",
              "                DS_GRAU_ESCOLARIDADE  QT_ELEITORES_PERFIL  \\\n",
              "3548541          SUPERIOR INCOMPLETO                    1   \n",
              "3548542            SUPERIOR COMPLETO                    6   \n",
              "3548543  ENSINO FUNDAMENTAL COMPLETO                    2   \n",
              "3548544        ENSINO MÉDIO COMPLETO                    3   \n",
              "3548545          SUPERIOR INCOMPLETO                    1   \n",
              "...                              ...                  ...   \n",
              "4079432        ENSINO MÉDIO COMPLETO                    1   \n",
              "4079433            SUPERIOR COMPLETO                    1   \n",
              "4079434            SUPERIOR COMPLETO                    3   \n",
              "4079435            SUPERIOR COMPLETO                    2   \n",
              "4082072            SUPERIOR COMPLETO                    1   \n",
              "\n",
              "         QT_ELEITORES_DEFICIENCIA  QT_ELEITORES_INC_NM_SOCIAL  \n",
              "3548541                         0                           0  \n",
              "3548542                         0                           0  \n",
              "3548543                         0                           0  \n",
              "3548544                         0                           0  \n",
              "3548545                         0                           0  \n",
              "...                           ...                         ...  \n",
              "4079432                         0                           0  \n",
              "4079433                         0                           0  \n",
              "4079434                         0                           0  \n",
              "4079435                         0                           0  \n",
              "4082072                         0                           0  \n",
              "\n",
              "[36907 rows x 8 columns]"
            ],
            "text/html": [
              "\n",
              "  <div id=\"df-8ac6bc96-87b2-4fe1-bf7b-b70e080c9f87\">\n",
              "    <div class=\"colab-df-container\">\n",
              "      <div>\n",
              "<style scoped>\n",
              "    .dataframe tbody tr th:only-of-type {\n",
              "        vertical-align: middle;\n",
              "    }\n",
              "\n",
              "    .dataframe tbody tr th {\n",
              "        vertical-align: top;\n",
              "    }\n",
              "\n",
              "    .dataframe thead th {\n",
              "        text-align: right;\n",
              "    }\n",
              "</style>\n",
              "<table border=\"1\" class=\"dataframe\">\n",
              "  <thead>\n",
              "    <tr style=\"text-align: right;\">\n",
              "      <th></th>\n",
              "      <th>NM_MUNICIPIO</th>\n",
              "      <th>DS_GENERO</th>\n",
              "      <th>DS_ESTADO_CIVIL</th>\n",
              "      <th>DS_FAIXA_ETARIA</th>\n",
              "      <th>DS_GRAU_ESCOLARIDADE</th>\n",
              "      <th>QT_ELEITORES_PERFIL</th>\n",
              "      <th>QT_ELEITORES_DEFICIENCIA</th>\n",
              "      <th>QT_ELEITORES_INC_NM_SOCIAL</th>\n",
              "    </tr>\n",
              "  </thead>\n",
              "  <tbody>\n",
              "    <tr>\n",
              "      <th>3548541</th>\n",
              "      <td>BARCELONA</td>\n",
              "      <td>MASCULINO</td>\n",
              "      <td>DIVORCIADO</td>\n",
              "      <td>60 a 64 anos</td>\n",
              "      <td>SUPERIOR INCOMPLETO</td>\n",
              "      <td>1</td>\n",
              "      <td>0</td>\n",
              "      <td>0</td>\n",
              "    </tr>\n",
              "    <tr>\n",
              "      <th>3548542</th>\n",
              "      <td>BARCELONA</td>\n",
              "      <td>MASCULINO</td>\n",
              "      <td>DIVORCIADO</td>\n",
              "      <td>60 a 64 anos</td>\n",
              "      <td>SUPERIOR COMPLETO</td>\n",
              "      <td>6</td>\n",
              "      <td>0</td>\n",
              "      <td>0</td>\n",
              "    </tr>\n",
              "    <tr>\n",
              "      <th>3548543</th>\n",
              "      <td>BARCELONA</td>\n",
              "      <td>MASCULINO</td>\n",
              "      <td>DIVORCIADO</td>\n",
              "      <td>65 a 69 anos</td>\n",
              "      <td>ENSINO FUNDAMENTAL COMPLETO</td>\n",
              "      <td>2</td>\n",
              "      <td>0</td>\n",
              "      <td>0</td>\n",
              "    </tr>\n",
              "    <tr>\n",
              "      <th>3548544</th>\n",
              "      <td>BARCELONA</td>\n",
              "      <td>MASCULINO</td>\n",
              "      <td>DIVORCIADO</td>\n",
              "      <td>65 a 69 anos</td>\n",
              "      <td>ENSINO MÉDIO COMPLETO</td>\n",
              "      <td>3</td>\n",
              "      <td>0</td>\n",
              "      <td>0</td>\n",
              "    </tr>\n",
              "    <tr>\n",
              "      <th>3548545</th>\n",
              "      <td>BARCELONA</td>\n",
              "      <td>MASCULINO</td>\n",
              "      <td>DIVORCIADO</td>\n",
              "      <td>65 a 69 anos</td>\n",
              "      <td>SUPERIOR INCOMPLETO</td>\n",
              "      <td>1</td>\n",
              "      <td>0</td>\n",
              "      <td>0</td>\n",
              "    </tr>\n",
              "    <tr>\n",
              "      <th>...</th>\n",
              "      <td>...</td>\n",
              "      <td>...</td>\n",
              "      <td>...</td>\n",
              "      <td>...</td>\n",
              "      <td>...</td>\n",
              "      <td>...</td>\n",
              "      <td>...</td>\n",
              "      <td>...</td>\n",
              "    </tr>\n",
              "    <tr>\n",
              "      <th>4079432</th>\n",
              "      <td>TEL AVIV</td>\n",
              "      <td>MASCULINO</td>\n",
              "      <td>VIÚVO</td>\n",
              "      <td>30 a 34 anos</td>\n",
              "      <td>ENSINO MÉDIO COMPLETO</td>\n",
              "      <td>1</td>\n",
              "      <td>0</td>\n",
              "      <td>0</td>\n",
              "    </tr>\n",
              "    <tr>\n",
              "      <th>4079433</th>\n",
              "      <td>TEL AVIV</td>\n",
              "      <td>MASCULINO</td>\n",
              "      <td>VIÚVO</td>\n",
              "      <td>50 a 54 anos</td>\n",
              "      <td>SUPERIOR COMPLETO</td>\n",
              "      <td>1</td>\n",
              "      <td>0</td>\n",
              "      <td>0</td>\n",
              "    </tr>\n",
              "    <tr>\n",
              "      <th>4079434</th>\n",
              "      <td>TEL AVIV</td>\n",
              "      <td>MASCULINO</td>\n",
              "      <td>VIÚVO</td>\n",
              "      <td>60 a 64 anos</td>\n",
              "      <td>SUPERIOR COMPLETO</td>\n",
              "      <td>3</td>\n",
              "      <td>0</td>\n",
              "      <td>0</td>\n",
              "    </tr>\n",
              "    <tr>\n",
              "      <th>4079435</th>\n",
              "      <td>TEL AVIV</td>\n",
              "      <td>MASCULINO</td>\n",
              "      <td>VIÚVO</td>\n",
              "      <td>65 a 69 anos</td>\n",
              "      <td>SUPERIOR COMPLETO</td>\n",
              "      <td>2</td>\n",
              "      <td>0</td>\n",
              "      <td>0</td>\n",
              "    </tr>\n",
              "    <tr>\n",
              "      <th>4082072</th>\n",
              "      <td>TEL AVIV</td>\n",
              "      <td>MASCULINO</td>\n",
              "      <td>VIÚVO</td>\n",
              "      <td>75 a 79 anos</td>\n",
              "      <td>SUPERIOR COMPLETO</td>\n",
              "      <td>1</td>\n",
              "      <td>0</td>\n",
              "      <td>0</td>\n",
              "    </tr>\n",
              "  </tbody>\n",
              "</table>\n",
              "<p>36907 rows × 8 columns</p>\n",
              "</div>\n",
              "      <button class=\"colab-df-convert\" onclick=\"convertToInteractive('df-8ac6bc96-87b2-4fe1-bf7b-b70e080c9f87')\"\n",
              "              title=\"Convert this dataframe to an interactive table.\"\n",
              "              style=\"display:none;\">\n",
              "        \n",
              "  <svg xmlns=\"http://www.w3.org/2000/svg\" height=\"24px\"viewBox=\"0 0 24 24\"\n",
              "       width=\"24px\">\n",
              "    <path d=\"M0 0h24v24H0V0z\" fill=\"none\"/>\n",
              "    <path d=\"M18.56 5.44l.94 2.06.94-2.06 2.06-.94-2.06-.94-.94-2.06-.94 2.06-2.06.94zm-11 1L8.5 8.5l.94-2.06 2.06-.94-2.06-.94L8.5 2.5l-.94 2.06-2.06.94zm10 10l.94 2.06.94-2.06 2.06-.94-2.06-.94-.94-2.06-.94 2.06-2.06.94z\"/><path d=\"M17.41 7.96l-1.37-1.37c-.4-.4-.92-.59-1.43-.59-.52 0-1.04.2-1.43.59L10.3 9.45l-7.72 7.72c-.78.78-.78 2.05 0 2.83L4 21.41c.39.39.9.59 1.41.59.51 0 1.02-.2 1.41-.59l7.78-7.78 2.81-2.81c.8-.78.8-2.07 0-2.86zM5.41 20L4 18.59l7.72-7.72 1.47 1.35L5.41 20z\"/>\n",
              "  </svg>\n",
              "      </button>\n",
              "      \n",
              "  <style>\n",
              "    .colab-df-container {\n",
              "      display:flex;\n",
              "      flex-wrap:wrap;\n",
              "      gap: 12px;\n",
              "    }\n",
              "\n",
              "    .colab-df-convert {\n",
              "      background-color: #E8F0FE;\n",
              "      border: none;\n",
              "      border-radius: 50%;\n",
              "      cursor: pointer;\n",
              "      display: none;\n",
              "      fill: #1967D2;\n",
              "      height: 32px;\n",
              "      padding: 0 0 0 0;\n",
              "      width: 32px;\n",
              "    }\n",
              "\n",
              "    .colab-df-convert:hover {\n",
              "      background-color: #E2EBFA;\n",
              "      box-shadow: 0px 1px 2px rgba(60, 64, 67, 0.3), 0px 1px 3px 1px rgba(60, 64, 67, 0.15);\n",
              "      fill: #174EA6;\n",
              "    }\n",
              "\n",
              "    [theme=dark] .colab-df-convert {\n",
              "      background-color: #3B4455;\n",
              "      fill: #D2E3FC;\n",
              "    }\n",
              "\n",
              "    [theme=dark] .colab-df-convert:hover {\n",
              "      background-color: #434B5C;\n",
              "      box-shadow: 0px 1px 3px 1px rgba(0, 0, 0, 0.15);\n",
              "      filter: drop-shadow(0px 1px 2px rgba(0, 0, 0, 0.3));\n",
              "      fill: #FFFFFF;\n",
              "    }\n",
              "  </style>\n",
              "\n",
              "      <script>\n",
              "        const buttonEl =\n",
              "          document.querySelector('#df-8ac6bc96-87b2-4fe1-bf7b-b70e080c9f87 button.colab-df-convert');\n",
              "        buttonEl.style.display =\n",
              "          google.colab.kernel.accessAllowed ? 'block' : 'none';\n",
              "\n",
              "        async function convertToInteractive(key) {\n",
              "          const element = document.querySelector('#df-8ac6bc96-87b2-4fe1-bf7b-b70e080c9f87');\n",
              "          const dataTable =\n",
              "            await google.colab.kernel.invokeFunction('convertToInteractive',\n",
              "                                                     [key], {});\n",
              "          if (!dataTable) return;\n",
              "\n",
              "          const docLinkHtml = 'Like what you see? Visit the ' +\n",
              "            '<a target=\"_blank\" href=https://colab.research.google.com/notebooks/data_table.ipynb>data table notebook</a>'\n",
              "            + ' to learn more about interactive tables.';\n",
              "          element.innerHTML = '';\n",
              "          dataTable['output_type'] = 'display_data';\n",
              "          await google.colab.output.renderOutput(dataTable, element);\n",
              "          const docLink = document.createElement('div');\n",
              "          docLink.innerHTML = docLinkHtml;\n",
              "          element.appendChild(docLink);\n",
              "        }\n",
              "      </script>\n",
              "    </div>\n",
              "  </div>\n",
              "  "
            ]
          },
          "metadata": {},
          "execution_count": 54
        }
      ]
    },
    {
      "cell_type": "code",
      "execution_count": 55,
      "metadata": {
        "colab": {
          "base_uri": "https://localhost:8080/",
          "height": 206
        },
        "id": "pUsR7yA2BGUk",
        "outputId": "9690332a-d741-4f07-c53e-9181aa9a0942"
      },
      "outputs": [
        {
          "output_type": "execute_result",
          "data": {
            "text/plain": [
              "         municipio     genero estado_civil  faixa_etaria  \\\n",
              "3548541  BARCELONA  MASCULINO   DIVORCIADO  60 a 64 anos   \n",
              "3548542  BARCELONA  MASCULINO   DIVORCIADO  60 a 64 anos   \n",
              "3548543  BARCELONA  MASCULINO   DIVORCIADO  65 a 69 anos   \n",
              "3548544  BARCELONA  MASCULINO   DIVORCIADO  65 a 69 anos   \n",
              "3548545  BARCELONA  MASCULINO   DIVORCIADO  65 a 69 anos   \n",
              "\n",
              "                        escolaridade  quantidade_eleitores_perfil  \\\n",
              "3548541          SUPERIOR INCOMPLETO                            1   \n",
              "3548542            SUPERIOR COMPLETO                            6   \n",
              "3548543  ENSINO FUNDAMENTAL COMPLETO                            2   \n",
              "3548544        ENSINO MÉDIO COMPLETO                            3   \n",
              "3548545          SUPERIOR INCOMPLETO                            1   \n",
              "\n",
              "         eleitores_com_deficiencia  eleitores_com_nome_social  \n",
              "3548541                          0                          0  \n",
              "3548542                          0                          0  \n",
              "3548543                          0                          0  \n",
              "3548544                          0                          0  \n",
              "3548545                          0                          0  "
            ],
            "text/html": [
              "\n",
              "  <div id=\"df-d305f326-dd6b-4d25-b717-a02fa789c9c7\">\n",
              "    <div class=\"colab-df-container\">\n",
              "      <div>\n",
              "<style scoped>\n",
              "    .dataframe tbody tr th:only-of-type {\n",
              "        vertical-align: middle;\n",
              "    }\n",
              "\n",
              "    .dataframe tbody tr th {\n",
              "        vertical-align: top;\n",
              "    }\n",
              "\n",
              "    .dataframe thead th {\n",
              "        text-align: right;\n",
              "    }\n",
              "</style>\n",
              "<table border=\"1\" class=\"dataframe\">\n",
              "  <thead>\n",
              "    <tr style=\"text-align: right;\">\n",
              "      <th></th>\n",
              "      <th>municipio</th>\n",
              "      <th>genero</th>\n",
              "      <th>estado_civil</th>\n",
              "      <th>faixa_etaria</th>\n",
              "      <th>escolaridade</th>\n",
              "      <th>quantidade_eleitores_perfil</th>\n",
              "      <th>eleitores_com_deficiencia</th>\n",
              "      <th>eleitores_com_nome_social</th>\n",
              "    </tr>\n",
              "  </thead>\n",
              "  <tbody>\n",
              "    <tr>\n",
              "      <th>3548541</th>\n",
              "      <td>BARCELONA</td>\n",
              "      <td>MASCULINO</td>\n",
              "      <td>DIVORCIADO</td>\n",
              "      <td>60 a 64 anos</td>\n",
              "      <td>SUPERIOR INCOMPLETO</td>\n",
              "      <td>1</td>\n",
              "      <td>0</td>\n",
              "      <td>0</td>\n",
              "    </tr>\n",
              "    <tr>\n",
              "      <th>3548542</th>\n",
              "      <td>BARCELONA</td>\n",
              "      <td>MASCULINO</td>\n",
              "      <td>DIVORCIADO</td>\n",
              "      <td>60 a 64 anos</td>\n",
              "      <td>SUPERIOR COMPLETO</td>\n",
              "      <td>6</td>\n",
              "      <td>0</td>\n",
              "      <td>0</td>\n",
              "    </tr>\n",
              "    <tr>\n",
              "      <th>3548543</th>\n",
              "      <td>BARCELONA</td>\n",
              "      <td>MASCULINO</td>\n",
              "      <td>DIVORCIADO</td>\n",
              "      <td>65 a 69 anos</td>\n",
              "      <td>ENSINO FUNDAMENTAL COMPLETO</td>\n",
              "      <td>2</td>\n",
              "      <td>0</td>\n",
              "      <td>0</td>\n",
              "    </tr>\n",
              "    <tr>\n",
              "      <th>3548544</th>\n",
              "      <td>BARCELONA</td>\n",
              "      <td>MASCULINO</td>\n",
              "      <td>DIVORCIADO</td>\n",
              "      <td>65 a 69 anos</td>\n",
              "      <td>ENSINO MÉDIO COMPLETO</td>\n",
              "      <td>3</td>\n",
              "      <td>0</td>\n",
              "      <td>0</td>\n",
              "    </tr>\n",
              "    <tr>\n",
              "      <th>3548545</th>\n",
              "      <td>BARCELONA</td>\n",
              "      <td>MASCULINO</td>\n",
              "      <td>DIVORCIADO</td>\n",
              "      <td>65 a 69 anos</td>\n",
              "      <td>SUPERIOR INCOMPLETO</td>\n",
              "      <td>1</td>\n",
              "      <td>0</td>\n",
              "      <td>0</td>\n",
              "    </tr>\n",
              "  </tbody>\n",
              "</table>\n",
              "</div>\n",
              "      <button class=\"colab-df-convert\" onclick=\"convertToInteractive('df-d305f326-dd6b-4d25-b717-a02fa789c9c7')\"\n",
              "              title=\"Convert this dataframe to an interactive table.\"\n",
              "              style=\"display:none;\">\n",
              "        \n",
              "  <svg xmlns=\"http://www.w3.org/2000/svg\" height=\"24px\"viewBox=\"0 0 24 24\"\n",
              "       width=\"24px\">\n",
              "    <path d=\"M0 0h24v24H0V0z\" fill=\"none\"/>\n",
              "    <path d=\"M18.56 5.44l.94 2.06.94-2.06 2.06-.94-2.06-.94-.94-2.06-.94 2.06-2.06.94zm-11 1L8.5 8.5l.94-2.06 2.06-.94-2.06-.94L8.5 2.5l-.94 2.06-2.06.94zm10 10l.94 2.06.94-2.06 2.06-.94-2.06-.94-.94-2.06-.94 2.06-2.06.94z\"/><path d=\"M17.41 7.96l-1.37-1.37c-.4-.4-.92-.59-1.43-.59-.52 0-1.04.2-1.43.59L10.3 9.45l-7.72 7.72c-.78.78-.78 2.05 0 2.83L4 21.41c.39.39.9.59 1.41.59.51 0 1.02-.2 1.41-.59l7.78-7.78 2.81-2.81c.8-.78.8-2.07 0-2.86zM5.41 20L4 18.59l7.72-7.72 1.47 1.35L5.41 20z\"/>\n",
              "  </svg>\n",
              "      </button>\n",
              "      \n",
              "  <style>\n",
              "    .colab-df-container {\n",
              "      display:flex;\n",
              "      flex-wrap:wrap;\n",
              "      gap: 12px;\n",
              "    }\n",
              "\n",
              "    .colab-df-convert {\n",
              "      background-color: #E8F0FE;\n",
              "      border: none;\n",
              "      border-radius: 50%;\n",
              "      cursor: pointer;\n",
              "      display: none;\n",
              "      fill: #1967D2;\n",
              "      height: 32px;\n",
              "      padding: 0 0 0 0;\n",
              "      width: 32px;\n",
              "    }\n",
              "\n",
              "    .colab-df-convert:hover {\n",
              "      background-color: #E2EBFA;\n",
              "      box-shadow: 0px 1px 2px rgba(60, 64, 67, 0.3), 0px 1px 3px 1px rgba(60, 64, 67, 0.15);\n",
              "      fill: #174EA6;\n",
              "    }\n",
              "\n",
              "    [theme=dark] .colab-df-convert {\n",
              "      background-color: #3B4455;\n",
              "      fill: #D2E3FC;\n",
              "    }\n",
              "\n",
              "    [theme=dark] .colab-df-convert:hover {\n",
              "      background-color: #434B5C;\n",
              "      box-shadow: 0px 1px 3px 1px rgba(0, 0, 0, 0.15);\n",
              "      filter: drop-shadow(0px 1px 2px rgba(0, 0, 0, 0.3));\n",
              "      fill: #FFFFFF;\n",
              "    }\n",
              "  </style>\n",
              "\n",
              "      <script>\n",
              "        const buttonEl =\n",
              "          document.querySelector('#df-d305f326-dd6b-4d25-b717-a02fa789c9c7 button.colab-df-convert');\n",
              "        buttonEl.style.display =\n",
              "          google.colab.kernel.accessAllowed ? 'block' : 'none';\n",
              "\n",
              "        async function convertToInteractive(key) {\n",
              "          const element = document.querySelector('#df-d305f326-dd6b-4d25-b717-a02fa789c9c7');\n",
              "          const dataTable =\n",
              "            await google.colab.kernel.invokeFunction('convertToInteractive',\n",
              "                                                     [key], {});\n",
              "          if (!dataTable) return;\n",
              "\n",
              "          const docLinkHtml = 'Like what you see? Visit the ' +\n",
              "            '<a target=\"_blank\" href=https://colab.research.google.com/notebooks/data_table.ipynb>data table notebook</a>'\n",
              "            + ' to learn more about interactive tables.';\n",
              "          element.innerHTML = '';\n",
              "          dataTable['output_type'] = 'display_data';\n",
              "          await google.colab.output.renderOutput(dataTable, element);\n",
              "          const docLink = document.createElement('div');\n",
              "          docLink.innerHTML = docLinkHtml;\n",
              "          element.appendChild(docLink);\n",
              "        }\n",
              "      </script>\n",
              "    </div>\n",
              "  </div>\n",
              "  "
            ]
          },
          "metadata": {},
          "execution_count": 55
        }
      ],
      "source": [
        "novas_colunas_eleitorado_no_exterior = ['municipio', 'genero', 'estado_civil', \n",
        "                                        'faixa_etaria', 'escolaridade', 'quantidade_eleitores_perfil', \n",
        "                                        'eleitores_com_deficiencia', 'eleitores_com_nome_social']\n",
        "eleitorado_no_exterior.columns = novas_colunas_eleitorado_no_exterior\n",
        "eleitorado_no_exterior.head()"
      ]
    },
    {
      "cell_type": "markdown",
      "metadata": {
        "id": "wefAHNIR-OLH"
      },
      "source": [
        "# Convertendo os DataFrames tratados para csv"
      ]
    },
    {
      "cell_type": "code",
      "execution_count": 56,
      "metadata": {
        "id": "X7QCpnwT-SOk"
      },
      "outputs": [],
      "source": [
        "eleitorado.to_csv('/content/drive/MyDrive/eleitorado_finalizado.csv', index=False)"
      ]
    },
    {
      "cell_type": "code",
      "execution_count": 57,
      "metadata": {
        "id": "-GOwdxQL-yZz"
      },
      "outputs": [],
      "source": [
        "dados_capitais_brasileiras.to_csv('/content/drive/MyDrive/eleitorado_capitais_finalizado.csv', index=False)"
      ]
    },
    {
      "cell_type": "code",
      "execution_count": 58,
      "metadata": {
        "id": "R0bGWfSC-1i6"
      },
      "outputs": [],
      "source": [
        "eleitorado_no_exterior.to_csv('/content/drive/MyDrive/eleitorado_no_exterior_finalizado.csv', index=False)"
      ]
    }
  ],
  "metadata": {
    "colab": {
      "collapsed_sections": [
        "hwmgKb_1JD8d",
        "e0LZ4RSfLttF"
      ],
      "provenance": []
    },
    "kernelspec": {
      "display_name": "Python 3",
      "name": "python3"
    },
    "language_info": {
      "name": "python"
    }
  },
  "nbformat": 4,
  "nbformat_minor": 0
}