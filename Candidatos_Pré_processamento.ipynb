{
  "nbformat": 4,
  "nbformat_minor": 0,
  "metadata": {
    "colab": {
      "provenance": []
    },
    "kernelspec": {
      "name": "python3",
      "display_name": "Python 3"
    },
    "language_info": {
      "name": "python"
    }
  },
  "cells": [
    {
      "cell_type": "code",
      "execution_count": 1,
      "metadata": {
        "id": "7oK0q6TwbC9i"
      },
      "outputs": [],
      "source": [
        "import numpy as np\n",
        "import pandas as pd"
      ]
    },
    {
      "cell_type": "code",
      "source": [
        "from google.colab import drive\n",
        "drive.mount('/content/drive')"
      ],
      "metadata": {
        "colab": {
          "base_uri": "https://localhost:8080/"
        },
        "id": "rKaGxRnLv7uM",
        "outputId": "0fa42a0c-31f0-4640-8b10-b9cbd8711149"
      },
      "execution_count": 2,
      "outputs": [
        {
          "output_type": "stream",
          "name": "stdout",
          "text": [
            "Mounted at /content/drive\n"
          ]
        }
      ]
    },
    {
      "cell_type": "markdown",
      "source": [
        "# Dataset"
      ],
      "metadata": {
        "id": "1aZRHfaGbWjN"
      }
    },
    {
      "cell_type": "code",
      "source": [
        "candidatos = pd.read_csv('/content/drive/MyDrive/Graduação/4° Semestre/PI III/Datasets/Candidatos/consulta_cand_2022_BRASIL.csv', sep=';', encoding='latin 1')\n",
        "candidatos.head()"
      ],
      "metadata": {
        "colab": {
          "base_uri": "https://localhost:8080/",
          "height": 560
        },
        "id": "oGCSk5CqbVYP",
        "outputId": "27385d3d-88f0-4e18-8d60-5074f71e606a"
      },
      "execution_count": 3,
      "outputs": [
        {
          "output_type": "execute_result",
          "data": {
            "text/plain": [
              "   DT_GERACAO HH_GERACAO  ANO_ELEICAO  CD_TIPO_ELEICAO    NM_TIPO_ELEICAO  \\\n",
              "0  20/08/2022   13:05:31         2022                2  ELEIÇÃO ORDINÁRIA   \n",
              "1  20/08/2022   13:05:31         2022                2  ELEIÇÃO ORDINÁRIA   \n",
              "2  20/08/2022   13:05:31         2022                2  ELEIÇÃO ORDINÁRIA   \n",
              "3  20/08/2022   13:05:31         2022                2  ELEIÇÃO ORDINÁRIA   \n",
              "4  20/08/2022   13:05:31         2022                2  ELEIÇÃO ORDINÁRIA   \n",
              "\n",
              "   NR_TURNO  CD_ELEICAO                      DS_ELEICAO  DT_ELEICAO  \\\n",
              "0         1         546  Eleições Gerais Estaduais 2022  02/10/2022   \n",
              "1         1         546  Eleições Gerais Estaduais 2022  02/10/2022   \n",
              "2         1         546  Eleições Gerais Estaduais 2022  02/10/2022   \n",
              "3         1         546  Eleições Gerais Estaduais 2022  02/10/2022   \n",
              "4         1         546  Eleições Gerais Estaduais 2022  02/10/2022   \n",
              "\n",
              "  TP_ABRANGENCIA  ...          NR_PROCESSO CD_SITUACAO_CANDIDATO_PLEITO  \\\n",
              "0       ESTADUAL  ...  6009402620226220000                           -1   \n",
              "1       ESTADUAL  ...  6009130520226270000                           -1   \n",
              "2       ESTADUAL  ...  6017429520226050000                           -1   \n",
              "3       ESTADUAL  ...  6013572220226240000                           -1   \n",
              "4       ESTADUAL  ...  6010712820226210000                           -1   \n",
              "\n",
              "  DS_SITUACAO_CANDIDATO_PLEITO  CD_SITUACAO_CANDIDATO_URNA  \\\n",
              "0                       #NULO#                          -1   \n",
              "1                       #NULO#                          -1   \n",
              "2                       #NULO#                          -1   \n",
              "3                       #NULO#                          -1   \n",
              "4                       #NULO#                          -1   \n",
              "\n",
              "  DS_SITUACAO_CANDIDATO_URNA  ST_CANDIDATO_INSERIDO_URNA  \\\n",
              "0                     #NULO#                         NÃO   \n",
              "1                     #NULO#                         NÃO   \n",
              "2                     #NULO#                         NÃO   \n",
              "3                     #NULO#                         NÃO   \n",
              "4                     #NULO#                         NÃO   \n",
              "\n",
              "   NM_TIPO_DESTINACAO_VOTOS CD_SITUACAO_CANDIDATO_TOT  \\\n",
              "0                    #NULO#                        -1   \n",
              "1                    #NULO#                        -1   \n",
              "2                    #NULO#                        -1   \n",
              "3                    #NULO#                        -1   \n",
              "4                    #NULO#                        -1   \n",
              "\n",
              "  DS_SITUACAO_CANDIDATO_TOT ST_PREST_CONTAS  \n",
              "0                    #NULO#               N  \n",
              "1                    #NULO#               N  \n",
              "2                    #NULO#               N  \n",
              "3                    #NULO#               N  \n",
              "4                    #NULO#               N  \n",
              "\n",
              "[5 rows x 71 columns]"
            ],
            "text/html": [
              "\n",
              "  <div id=\"df-f28c4489-b9a6-460a-aba4-98009a20f782\">\n",
              "    <div class=\"colab-df-container\">\n",
              "      <div>\n",
              "<style scoped>\n",
              "    .dataframe tbody tr th:only-of-type {\n",
              "        vertical-align: middle;\n",
              "    }\n",
              "\n",
              "    .dataframe tbody tr th {\n",
              "        vertical-align: top;\n",
              "    }\n",
              "\n",
              "    .dataframe thead th {\n",
              "        text-align: right;\n",
              "    }\n",
              "</style>\n",
              "<table border=\"1\" class=\"dataframe\">\n",
              "  <thead>\n",
              "    <tr style=\"text-align: right;\">\n",
              "      <th></th>\n",
              "      <th>DT_GERACAO</th>\n",
              "      <th>HH_GERACAO</th>\n",
              "      <th>ANO_ELEICAO</th>\n",
              "      <th>CD_TIPO_ELEICAO</th>\n",
              "      <th>NM_TIPO_ELEICAO</th>\n",
              "      <th>NR_TURNO</th>\n",
              "      <th>CD_ELEICAO</th>\n",
              "      <th>DS_ELEICAO</th>\n",
              "      <th>DT_ELEICAO</th>\n",
              "      <th>TP_ABRANGENCIA</th>\n",
              "      <th>...</th>\n",
              "      <th>NR_PROCESSO</th>\n",
              "      <th>CD_SITUACAO_CANDIDATO_PLEITO</th>\n",
              "      <th>DS_SITUACAO_CANDIDATO_PLEITO</th>\n",
              "      <th>CD_SITUACAO_CANDIDATO_URNA</th>\n",
              "      <th>DS_SITUACAO_CANDIDATO_URNA</th>\n",
              "      <th>ST_CANDIDATO_INSERIDO_URNA</th>\n",
              "      <th>NM_TIPO_DESTINACAO_VOTOS</th>\n",
              "      <th>CD_SITUACAO_CANDIDATO_TOT</th>\n",
              "      <th>DS_SITUACAO_CANDIDATO_TOT</th>\n",
              "      <th>ST_PREST_CONTAS</th>\n",
              "    </tr>\n",
              "  </thead>\n",
              "  <tbody>\n",
              "    <tr>\n",
              "      <th>0</th>\n",
              "      <td>20/08/2022</td>\n",
              "      <td>13:05:31</td>\n",
              "      <td>2022</td>\n",
              "      <td>2</td>\n",
              "      <td>ELEIÇÃO ORDINÁRIA</td>\n",
              "      <td>1</td>\n",
              "      <td>546</td>\n",
              "      <td>Eleições Gerais Estaduais 2022</td>\n",
              "      <td>02/10/2022</td>\n",
              "      <td>ESTADUAL</td>\n",
              "      <td>...</td>\n",
              "      <td>6009402620226220000</td>\n",
              "      <td>-1</td>\n",
              "      <td>#NULO#</td>\n",
              "      <td>-1</td>\n",
              "      <td>#NULO#</td>\n",
              "      <td>NÃO</td>\n",
              "      <td>#NULO#</td>\n",
              "      <td>-1</td>\n",
              "      <td>#NULO#</td>\n",
              "      <td>N</td>\n",
              "    </tr>\n",
              "    <tr>\n",
              "      <th>1</th>\n",
              "      <td>20/08/2022</td>\n",
              "      <td>13:05:31</td>\n",
              "      <td>2022</td>\n",
              "      <td>2</td>\n",
              "      <td>ELEIÇÃO ORDINÁRIA</td>\n",
              "      <td>1</td>\n",
              "      <td>546</td>\n",
              "      <td>Eleições Gerais Estaduais 2022</td>\n",
              "      <td>02/10/2022</td>\n",
              "      <td>ESTADUAL</td>\n",
              "      <td>...</td>\n",
              "      <td>6009130520226270000</td>\n",
              "      <td>-1</td>\n",
              "      <td>#NULO#</td>\n",
              "      <td>-1</td>\n",
              "      <td>#NULO#</td>\n",
              "      <td>NÃO</td>\n",
              "      <td>#NULO#</td>\n",
              "      <td>-1</td>\n",
              "      <td>#NULO#</td>\n",
              "      <td>N</td>\n",
              "    </tr>\n",
              "    <tr>\n",
              "      <th>2</th>\n",
              "      <td>20/08/2022</td>\n",
              "      <td>13:05:31</td>\n",
              "      <td>2022</td>\n",
              "      <td>2</td>\n",
              "      <td>ELEIÇÃO ORDINÁRIA</td>\n",
              "      <td>1</td>\n",
              "      <td>546</td>\n",
              "      <td>Eleições Gerais Estaduais 2022</td>\n",
              "      <td>02/10/2022</td>\n",
              "      <td>ESTADUAL</td>\n",
              "      <td>...</td>\n",
              "      <td>6017429520226050000</td>\n",
              "      <td>-1</td>\n",
              "      <td>#NULO#</td>\n",
              "      <td>-1</td>\n",
              "      <td>#NULO#</td>\n",
              "      <td>NÃO</td>\n",
              "      <td>#NULO#</td>\n",
              "      <td>-1</td>\n",
              "      <td>#NULO#</td>\n",
              "      <td>N</td>\n",
              "    </tr>\n",
              "    <tr>\n",
              "      <th>3</th>\n",
              "      <td>20/08/2022</td>\n",
              "      <td>13:05:31</td>\n",
              "      <td>2022</td>\n",
              "      <td>2</td>\n",
              "      <td>ELEIÇÃO ORDINÁRIA</td>\n",
              "      <td>1</td>\n",
              "      <td>546</td>\n",
              "      <td>Eleições Gerais Estaduais 2022</td>\n",
              "      <td>02/10/2022</td>\n",
              "      <td>ESTADUAL</td>\n",
              "      <td>...</td>\n",
              "      <td>6013572220226240000</td>\n",
              "      <td>-1</td>\n",
              "      <td>#NULO#</td>\n",
              "      <td>-1</td>\n",
              "      <td>#NULO#</td>\n",
              "      <td>NÃO</td>\n",
              "      <td>#NULO#</td>\n",
              "      <td>-1</td>\n",
              "      <td>#NULO#</td>\n",
              "      <td>N</td>\n",
              "    </tr>\n",
              "    <tr>\n",
              "      <th>4</th>\n",
              "      <td>20/08/2022</td>\n",
              "      <td>13:05:31</td>\n",
              "      <td>2022</td>\n",
              "      <td>2</td>\n",
              "      <td>ELEIÇÃO ORDINÁRIA</td>\n",
              "      <td>1</td>\n",
              "      <td>546</td>\n",
              "      <td>Eleições Gerais Estaduais 2022</td>\n",
              "      <td>02/10/2022</td>\n",
              "      <td>ESTADUAL</td>\n",
              "      <td>...</td>\n",
              "      <td>6010712820226210000</td>\n",
              "      <td>-1</td>\n",
              "      <td>#NULO#</td>\n",
              "      <td>-1</td>\n",
              "      <td>#NULO#</td>\n",
              "      <td>NÃO</td>\n",
              "      <td>#NULO#</td>\n",
              "      <td>-1</td>\n",
              "      <td>#NULO#</td>\n",
              "      <td>N</td>\n",
              "    </tr>\n",
              "  </tbody>\n",
              "</table>\n",
              "<p>5 rows × 71 columns</p>\n",
              "</div>\n",
              "      <button class=\"colab-df-convert\" onclick=\"convertToInteractive('df-f28c4489-b9a6-460a-aba4-98009a20f782')\"\n",
              "              title=\"Convert this dataframe to an interactive table.\"\n",
              "              style=\"display:none;\">\n",
              "        \n",
              "  <svg xmlns=\"http://www.w3.org/2000/svg\" height=\"24px\"viewBox=\"0 0 24 24\"\n",
              "       width=\"24px\">\n",
              "    <path d=\"M0 0h24v24H0V0z\" fill=\"none\"/>\n",
              "    <path d=\"M18.56 5.44l.94 2.06.94-2.06 2.06-.94-2.06-.94-.94-2.06-.94 2.06-2.06.94zm-11 1L8.5 8.5l.94-2.06 2.06-.94-2.06-.94L8.5 2.5l-.94 2.06-2.06.94zm10 10l.94 2.06.94-2.06 2.06-.94-2.06-.94-.94-2.06-.94 2.06-2.06.94z\"/><path d=\"M17.41 7.96l-1.37-1.37c-.4-.4-.92-.59-1.43-.59-.52 0-1.04.2-1.43.59L10.3 9.45l-7.72 7.72c-.78.78-.78 2.05 0 2.83L4 21.41c.39.39.9.59 1.41.59.51 0 1.02-.2 1.41-.59l7.78-7.78 2.81-2.81c.8-.78.8-2.07 0-2.86zM5.41 20L4 18.59l7.72-7.72 1.47 1.35L5.41 20z\"/>\n",
              "  </svg>\n",
              "      </button>\n",
              "      \n",
              "  <style>\n",
              "    .colab-df-container {\n",
              "      display:flex;\n",
              "      flex-wrap:wrap;\n",
              "      gap: 12px;\n",
              "    }\n",
              "\n",
              "    .colab-df-convert {\n",
              "      background-color: #E8F0FE;\n",
              "      border: none;\n",
              "      border-radius: 50%;\n",
              "      cursor: pointer;\n",
              "      display: none;\n",
              "      fill: #1967D2;\n",
              "      height: 32px;\n",
              "      padding: 0 0 0 0;\n",
              "      width: 32px;\n",
              "    }\n",
              "\n",
              "    .colab-df-convert:hover {\n",
              "      background-color: #E2EBFA;\n",
              "      box-shadow: 0px 1px 2px rgba(60, 64, 67, 0.3), 0px 1px 3px 1px rgba(60, 64, 67, 0.15);\n",
              "      fill: #174EA6;\n",
              "    }\n",
              "\n",
              "    [theme=dark] .colab-df-convert {\n",
              "      background-color: #3B4455;\n",
              "      fill: #D2E3FC;\n",
              "    }\n",
              "\n",
              "    [theme=dark] .colab-df-convert:hover {\n",
              "      background-color: #434B5C;\n",
              "      box-shadow: 0px 1px 3px 1px rgba(0, 0, 0, 0.15);\n",
              "      filter: drop-shadow(0px 1px 2px rgba(0, 0, 0, 0.3));\n",
              "      fill: #FFFFFF;\n",
              "    }\n",
              "  </style>\n",
              "\n",
              "      <script>\n",
              "        const buttonEl =\n",
              "          document.querySelector('#df-f28c4489-b9a6-460a-aba4-98009a20f782 button.colab-df-convert');\n",
              "        buttonEl.style.display =\n",
              "          google.colab.kernel.accessAllowed ? 'block' : 'none';\n",
              "\n",
              "        async function convertToInteractive(key) {\n",
              "          const element = document.querySelector('#df-f28c4489-b9a6-460a-aba4-98009a20f782');\n",
              "          const dataTable =\n",
              "            await google.colab.kernel.invokeFunction('convertToInteractive',\n",
              "                                                     [key], {});\n",
              "          if (!dataTable) return;\n",
              "\n",
              "          const docLinkHtml = 'Like what you see? Visit the ' +\n",
              "            '<a target=\"_blank\" href=https://colab.research.google.com/notebooks/data_table.ipynb>data table notebook</a>'\n",
              "            + ' to learn more about interactive tables.';\n",
              "          element.innerHTML = '';\n",
              "          dataTable['output_type'] = 'display_data';\n",
              "          await google.colab.output.renderOutput(dataTable, element);\n",
              "          const docLink = document.createElement('div');\n",
              "          docLink.innerHTML = docLinkHtml;\n",
              "          element.appendChild(docLink);\n",
              "        }\n",
              "      </script>\n",
              "    </div>\n",
              "  </div>\n",
              "  "
            ]
          },
          "metadata": {},
          "execution_count": 3
        }
      ]
    },
    {
      "cell_type": "code",
      "source": [
        "candidatos.shape"
      ],
      "metadata": {
        "colab": {
          "base_uri": "https://localhost:8080/"
        },
        "id": "olbzXobtb0Aa",
        "outputId": "8b6adbac-67b3-438f-aba6-fcddd1f78507"
      },
      "execution_count": 4,
      "outputs": [
        {
          "output_type": "execute_result",
          "data": {
            "text/plain": [
              "(28596, 71)"
            ]
          },
          "metadata": {},
          "execution_count": 4
        }
      ]
    },
    {
      "cell_type": "code",
      "source": [
        "candidatos.columns"
      ],
      "metadata": {
        "colab": {
          "base_uri": "https://localhost:8080/"
        },
        "id": "TZl5CLClcIQ9",
        "outputId": "afd69471-c300-4bd2-e683-a575e9f4a4fe"
      },
      "execution_count": 5,
      "outputs": [
        {
          "output_type": "execute_result",
          "data": {
            "text/plain": [
              "Index(['DT_GERACAO', 'HH_GERACAO', 'ANO_ELEICAO', 'CD_TIPO_ELEICAO',\n",
              "       'NM_TIPO_ELEICAO', 'NR_TURNO', 'CD_ELEICAO', 'DS_ELEICAO', 'DT_ELEICAO',\n",
              "       'TP_ABRANGENCIA', 'SG_UF', 'SG_UE', 'NM_UE', 'CD_CARGO', 'DS_CARGO',\n",
              "       'SQ_CANDIDATO', 'NR_CANDIDATO', 'NM_CANDIDATO', 'NM_URNA_CANDIDATO',\n",
              "       'NM_SOCIAL_CANDIDATO', 'NR_CPF_CANDIDATO', 'NM_EMAIL',\n",
              "       'CD_SITUACAO_CANDIDATURA', 'DS_SITUACAO_CANDIDATURA',\n",
              "       'CD_DETALHE_SITUACAO_CAND', 'DS_DETALHE_SITUACAO_CAND', 'TP_AGREMIACAO',\n",
              "       'NR_PARTIDO', 'SG_PARTIDO', 'NM_PARTIDO', 'NR_FEDERACAO',\n",
              "       'NM_FEDERACAO', 'SG_FEDERACAO', 'DS_COMPOSICAO_FEDERACAO',\n",
              "       'SQ_COLIGACAO', 'NM_COLIGACAO', 'DS_COMPOSICAO_COLIGACAO',\n",
              "       'CD_NACIONALIDADE', 'DS_NACIONALIDADE', 'SG_UF_NASCIMENTO',\n",
              "       'CD_MUNICIPIO_NASCIMENTO', 'NM_MUNICIPIO_NASCIMENTO', 'DT_NASCIMENTO',\n",
              "       'NR_IDADE_DATA_POSSE', 'NR_TITULO_ELEITORAL_CANDIDATO', 'CD_GENERO',\n",
              "       'DS_GENERO', 'CD_GRAU_INSTRUCAO', 'DS_GRAU_INSTRUCAO',\n",
              "       'CD_ESTADO_CIVIL', 'DS_ESTADO_CIVIL', 'CD_COR_RACA', 'DS_COR_RACA',\n",
              "       'CD_OCUPACAO', 'DS_OCUPACAO', 'VR_DESPESA_MAX_CAMPANHA',\n",
              "       'CD_SIT_TOT_TURNO', 'DS_SIT_TOT_TURNO', 'ST_REELEICAO',\n",
              "       'ST_DECLARAR_BENS', 'NR_PROTOCOLO_CANDIDATURA', 'NR_PROCESSO',\n",
              "       'CD_SITUACAO_CANDIDATO_PLEITO', 'DS_SITUACAO_CANDIDATO_PLEITO',\n",
              "       'CD_SITUACAO_CANDIDATO_URNA', 'DS_SITUACAO_CANDIDATO_URNA',\n",
              "       'ST_CANDIDATO_INSERIDO_URNA', 'NM_TIPO_DESTINACAO_VOTOS',\n",
              "       'CD_SITUACAO_CANDIDATO_TOT', 'DS_SITUACAO_CANDIDATO_TOT',\n",
              "       'ST_PREST_CONTAS'],\n",
              "      dtype='object')"
            ]
          },
          "metadata": {},
          "execution_count": 5
        }
      ]
    },
    {
      "cell_type": "code",
      "source": [
        "candidatos.info()"
      ],
      "metadata": {
        "colab": {
          "base_uri": "https://localhost:8080/"
        },
        "id": "7KI0-Bvfv-ju",
        "outputId": "22d28ea3-5164-4b8c-880b-3cd04694bc00"
      },
      "execution_count": 6,
      "outputs": [
        {
          "output_type": "stream",
          "name": "stdout",
          "text": [
            "<class 'pandas.core.frame.DataFrame'>\n",
            "RangeIndex: 28596 entries, 0 to 28595\n",
            "Data columns (total 71 columns):\n",
            " #   Column                         Non-Null Count  Dtype  \n",
            "---  ------                         --------------  -----  \n",
            " 0   DT_GERACAO                     28596 non-null  object \n",
            " 1   HH_GERACAO                     28596 non-null  object \n",
            " 2   ANO_ELEICAO                    28596 non-null  int64  \n",
            " 3   CD_TIPO_ELEICAO                28596 non-null  int64  \n",
            " 4   NM_TIPO_ELEICAO                28596 non-null  object \n",
            " 5   NR_TURNO                       28596 non-null  int64  \n",
            " 6   CD_ELEICAO                     28596 non-null  int64  \n",
            " 7   DS_ELEICAO                     28596 non-null  object \n",
            " 8   DT_ELEICAO                     28596 non-null  object \n",
            " 9   TP_ABRANGENCIA                 28596 non-null  object \n",
            " 10  SG_UF                          28596 non-null  object \n",
            " 11  SG_UE                          28596 non-null  object \n",
            " 12  NM_UE                          28596 non-null  object \n",
            " 13  CD_CARGO                       28596 non-null  int64  \n",
            " 14  DS_CARGO                       28596 non-null  object \n",
            " 15  SQ_CANDIDATO                   28596 non-null  int64  \n",
            " 16  NR_CANDIDATO                   28596 non-null  int64  \n",
            " 17  NM_CANDIDATO                   28596 non-null  object \n",
            " 18  NM_URNA_CANDIDATO              28596 non-null  object \n",
            " 19  NM_SOCIAL_CANDIDATO            28596 non-null  object \n",
            " 20  NR_CPF_CANDIDATO               28596 non-null  int64  \n",
            " 21  NM_EMAIL                       28596 non-null  object \n",
            " 22  CD_SITUACAO_CANDIDATURA        28596 non-null  int64  \n",
            " 23  DS_SITUACAO_CANDIDATURA        28596 non-null  object \n",
            " 24  CD_DETALHE_SITUACAO_CAND       28596 non-null  int64  \n",
            " 25  DS_DETALHE_SITUACAO_CAND       28596 non-null  object \n",
            " 26  TP_AGREMIACAO                  28596 non-null  object \n",
            " 27  NR_PARTIDO                     28596 non-null  int64  \n",
            " 28  SG_PARTIDO                     28596 non-null  object \n",
            " 29  NM_PARTIDO                     28596 non-null  object \n",
            " 30  NR_FEDERACAO                   28596 non-null  int64  \n",
            " 31  NM_FEDERACAO                   28596 non-null  object \n",
            " 32  SG_FEDERACAO                   28596 non-null  object \n",
            " 33  DS_COMPOSICAO_FEDERACAO        28596 non-null  object \n",
            " 34  SQ_COLIGACAO                   28596 non-null  int64  \n",
            " 35  NM_COLIGACAO                   28596 non-null  object \n",
            " 36  DS_COMPOSICAO_COLIGACAO        28596 non-null  object \n",
            " 37  CD_NACIONALIDADE               28596 non-null  int64  \n",
            " 38  DS_NACIONALIDADE               28596 non-null  object \n",
            " 39  SG_UF_NASCIMENTO               28596 non-null  object \n",
            " 40  CD_MUNICIPIO_NASCIMENTO        28596 non-null  int64  \n",
            " 41  NM_MUNICIPIO_NASCIMENTO        28596 non-null  object \n",
            " 42  DT_NASCIMENTO                  28586 non-null  object \n",
            " 43  NR_IDADE_DATA_POSSE            28586 non-null  float64\n",
            " 44  NR_TITULO_ELEITORAL_CANDIDATO  28596 non-null  int64  \n",
            " 45  CD_GENERO                      28596 non-null  int64  \n",
            " 46  DS_GENERO                      28596 non-null  object \n",
            " 47  CD_GRAU_INSTRUCAO              28596 non-null  int64  \n",
            " 48  DS_GRAU_INSTRUCAO              28596 non-null  object \n",
            " 49  CD_ESTADO_CIVIL                28596 non-null  int64  \n",
            " 50  DS_ESTADO_CIVIL                28596 non-null  object \n",
            " 51  CD_COR_RACA                    28596 non-null  int64  \n",
            " 52  DS_COR_RACA                    28596 non-null  object \n",
            " 53  CD_OCUPACAO                    28596 non-null  int64  \n",
            " 54  DS_OCUPACAO                    28596 non-null  object \n",
            " 55  VR_DESPESA_MAX_CAMPANHA        28596 non-null  float64\n",
            " 56  CD_SIT_TOT_TURNO               28596 non-null  int64  \n",
            " 57  DS_SIT_TOT_TURNO               28596 non-null  object \n",
            " 58  ST_REELEICAO                   28596 non-null  object \n",
            " 59  ST_DECLARAR_BENS               28596 non-null  object \n",
            " 60  NR_PROTOCOLO_CANDIDATURA       28596 non-null  int64  \n",
            " 61  NR_PROCESSO                    28596 non-null  int64  \n",
            " 62  CD_SITUACAO_CANDIDATO_PLEITO   28596 non-null  int64  \n",
            " 63  DS_SITUACAO_CANDIDATO_PLEITO   28596 non-null  object \n",
            " 64  CD_SITUACAO_CANDIDATO_URNA     28596 non-null  int64  \n",
            " 65  DS_SITUACAO_CANDIDATO_URNA     28596 non-null  object \n",
            " 66  ST_CANDIDATO_INSERIDO_URNA     28596 non-null  object \n",
            " 67  NM_TIPO_DESTINACAO_VOTOS       28596 non-null  object \n",
            " 68  CD_SITUACAO_CANDIDATO_TOT      28596 non-null  int64  \n",
            " 69  DS_SITUACAO_CANDIDATO_TOT      28596 non-null  object \n",
            " 70  ST_PREST_CONTAS                28596 non-null  object \n",
            "dtypes: float64(2), int64(27), object(42)\n",
            "memory usage: 15.5+ MB\n"
          ]
        }
      ]
    },
    {
      "cell_type": "markdown",
      "source": [
        "# Exploração dos Dados"
      ],
      "metadata": {
        "id": "_l5c7Z-HcXPL"
      }
    },
    {
      "cell_type": "markdown",
      "source": [
        "## Valores por coluna"
      ],
      "metadata": {
        "id": "rUw4NzN3cZAG"
      }
    },
    {
      "cell_type": "markdown",
      "source": [
        "### Informações Gerais"
      ],
      "metadata": {
        "id": "cJoXTO3oNh9T"
      }
    },
    {
      "cell_type": "code",
      "source": [
        "candidatos.drop(['DT_GERACAO', 'HH_GERACAO', 'CD_TIPO_ELEICAO', 'NM_TIPO_ELEICAO', 'NR_TURNO', 'ANO_ELEICAO', 'CD_ELEICAO', 'DT_ELEICAO', 'DS_ELEICAO', 'TP_ABRANGENCIA'], axis=1, inplace=True)"
      ],
      "metadata": {
        "id": "jw1egFkun0CH"
      },
      "execution_count": 7,
      "outputs": []
    },
    {
      "cell_type": "markdown",
      "source": [
        "### Candidatos por estado"
      ],
      "metadata": {
        "id": "SkRwqO3RNvTp"
      }
    },
    {
      "cell_type": "code",
      "source": [
        "candidatos['SG_UF'].value_counts()"
      ],
      "metadata": {
        "colab": {
          "base_uri": "https://localhost:8080/"
        },
        "id": "iHE9DG5NriD3",
        "outputId": "e727a81d-d0c5-420d-f797-2139d48302bd"
      },
      "execution_count": 8,
      "outputs": [
        {
          "output_type": "execute_result",
          "data": {
            "text/plain": [
              "SP    3603\n",
              "RJ    2741\n",
              "MG    2531\n",
              "BA    1654\n",
              "PR    1560\n",
              "RS    1417\n",
              "GO    1210\n",
              "PE    1109\n",
              "CE     992\n",
              "PA     988\n",
              "SC     969\n",
              "MA     940\n",
              "DF     854\n",
              "ES     757\n",
              "PB     740\n",
              "AM     633\n",
              "RO     620\n",
              "RR     602\n",
              "MS     590\n",
              "RN     547\n",
              "AP     543\n",
              "AC     533\n",
              "SE     520\n",
              "TO     518\n",
              "MT     505\n",
              "AL     473\n",
              "PI     423\n",
              "BR      24\n",
              "Name: SG_UF, dtype: int64"
            ]
          },
          "metadata": {},
          "execution_count": 8
        }
      ]
    },
    {
      "cell_type": "code",
      "source": [
        "candidatos['SG_UE'].value_counts()"
      ],
      "metadata": {
        "colab": {
          "base_uri": "https://localhost:8080/"
        },
        "id": "OyMCpq9vrnMW",
        "outputId": "3de8968a-d1a9-4f84-cdaf-3ae5771f3149"
      },
      "execution_count": 9,
      "outputs": [
        {
          "output_type": "execute_result",
          "data": {
            "text/plain": [
              "SP    3603\n",
              "RJ    2741\n",
              "MG    2531\n",
              "BA    1654\n",
              "PR    1560\n",
              "RS    1417\n",
              "GO    1210\n",
              "PE    1109\n",
              "CE     992\n",
              "PA     988\n",
              "SC     969\n",
              "MA     940\n",
              "DF     854\n",
              "ES     757\n",
              "PB     740\n",
              "AM     633\n",
              "RO     620\n",
              "RR     602\n",
              "MS     590\n",
              "RN     547\n",
              "AP     543\n",
              "AC     533\n",
              "SE     520\n",
              "TO     518\n",
              "MT     505\n",
              "AL     473\n",
              "PI     423\n",
              "BR      24\n",
              "Name: SG_UE, dtype: int64"
            ]
          },
          "metadata": {},
          "execution_count": 9
        }
      ]
    },
    {
      "cell_type": "code",
      "source": [
        "candidatos['NM_UE'].value_counts()"
      ],
      "metadata": {
        "colab": {
          "base_uri": "https://localhost:8080/"
        },
        "id": "DF3AvYGmrzNG",
        "outputId": "33cfe807-2a3b-4cfc-95d0-224ecadc545a"
      },
      "execution_count": 10,
      "outputs": [
        {
          "output_type": "execute_result",
          "data": {
            "text/plain": [
              "SÃO PAULO              3603\n",
              "RIO DE JANEIRO         2741\n",
              "MINAS GERAIS           2531\n",
              "BAHIA                  1654\n",
              "PARANÁ                 1560\n",
              "RIO GRANDE DO SUL      1417\n",
              "GOIÁS                  1210\n",
              "PERNAMBUCO             1109\n",
              "CEARÁ                   992\n",
              "PARÁ                    988\n",
              "SANTA CATARINA          969\n",
              "MARANHÃO                940\n",
              "DISTRITO FEDERAL        854\n",
              "ESPÍRITO SANTO          757\n",
              "PARAÍBA                 740\n",
              "AMAZONAS                633\n",
              "RONDÔNIA                620\n",
              "RORAIMA                 602\n",
              "MATO GROSSO DO SUL      590\n",
              "RIO GRANDE DO NORTE     547\n",
              "AMAPÁ                   543\n",
              "ACRE                    533\n",
              "SERGIPE                 520\n",
              "TOCANTINS               518\n",
              "MATO GROSSO             505\n",
              "ALAGOAS                 473\n",
              "PIAUÍ                   423\n",
              "BRASIL                   24\n",
              "Name: NM_UE, dtype: int64"
            ]
          },
          "metadata": {},
          "execution_count": 10
        }
      ]
    },
    {
      "cell_type": "markdown",
      "source": [
        "### Cargos"
      ],
      "metadata": {
        "id": "tTGkNi0nN0fA"
      }
    },
    {
      "cell_type": "code",
      "source": [
        "candidatos.drop(['CD_CARGO'], axis=1, inplace=True)"
      ],
      "metadata": {
        "id": "yHisj_TOsFpU"
      },
      "execution_count": 11,
      "outputs": []
    },
    {
      "cell_type": "code",
      "source": [
        "candidatos['DS_CARGO'].value_counts()"
      ],
      "metadata": {
        "colab": {
          "base_uri": "https://localhost:8080/"
        },
        "id": "vuuF6v4tsIW9",
        "outputId": "63318a65-4fbd-469e-d3ab-af46ee60adba"
      },
      "execution_count": 12,
      "outputs": [
        {
          "output_type": "execute_result",
          "data": {
            "text/plain": [
              "DEPUTADO ESTADUAL     16429\n",
              "DEPUTADO FEDERAL      10386\n",
              "DEPUTADO DISTRITAL      592\n",
              "2º SUPLENTE             241\n",
              "1º SUPLENTE             238\n",
              "SENADOR                 235\n",
              "VICE-GOVERNADOR         228\n",
              "GOVERNADOR              223\n",
              "VICE-PRESIDENTE          12\n",
              "PRESIDENTE               12\n",
              "Name: DS_CARGO, dtype: int64"
            ]
          },
          "metadata": {},
          "execution_count": 12
        }
      ]
    },
    {
      "cell_type": "markdown",
      "source": [
        "### Sigla dos partidos"
      ],
      "metadata": {
        "id": "p8GJ1VpJN3-T"
      }
    },
    {
      "cell_type": "code",
      "source": [
        "candidatos['SG_PARTIDO'].value_counts()"
      ],
      "metadata": {
        "colab": {
          "base_uri": "https://localhost:8080/"
        },
        "id": "qmY4n5nbclyT",
        "outputId": "08f67027-b905-4639-d88b-184d6887d7e7"
      },
      "execution_count": 13,
      "outputs": [
        {
          "output_type": "execute_result",
          "data": {
            "text/plain": [
              "PL               1594\n",
              "UNIÃO            1505\n",
              "REPUBLICANOS     1431\n",
              "MDB              1376\n",
              "PDT              1343\n",
              "PP               1336\n",
              "PTB              1302\n",
              "PSB              1278\n",
              "PATRIOTA         1217\n",
              "PODE             1179\n",
              "PSD              1170\n",
              "PT               1108\n",
              "SOLIDARIEDADE    1101\n",
              "PSC              1060\n",
              "AVANTE           1038\n",
              "PROS              994\n",
              "PSDB              945\n",
              "AGIR              938\n",
              "PSOL              923\n",
              "PRTB              912\n",
              "PMB               832\n",
              "PMN               802\n",
              "DC                789\n",
              "REDE              483\n",
              "NOVO              477\n",
              "CIDADANIA         477\n",
              "PV                303\n",
              "PC do B           219\n",
              "PCO               161\n",
              "PSTU              159\n",
              "PCB                84\n",
              "UP                 60\n",
              "Name: SG_PARTIDO, dtype: int64"
            ]
          },
          "metadata": {},
          "execution_count": 13
        }
      ]
    },
    {
      "cell_type": "markdown",
      "source": [
        "### Informações Gerais dos Candidatos"
      ],
      "metadata": {
        "id": "ZQGeNE5oOE_s"
      }
    },
    {
      "cell_type": "code",
      "source": [
        "candidatos['SQ_CANDIDATO'].value_counts()"
      ],
      "metadata": {
        "colab": {
          "base_uri": "https://localhost:8080/"
        },
        "id": "8zNM0O8GtZdg",
        "outputId": "27e68509-069c-4521-dbd9-cfd513fd8389"
      },
      "execution_count": 14,
      "outputs": [
        {
          "output_type": "execute_result",
          "data": {
            "text/plain": [
              "220001713843    1\n",
              "200001653268    1\n",
              "140001651020    1\n",
              "100001607109    1\n",
              "50001614016     1\n",
              "               ..\n",
              "250001606064    1\n",
              "270001700728    1\n",
              "60001633823     1\n",
              "10001623552     1\n",
              "50001600638     1\n",
              "Name: SQ_CANDIDATO, Length: 28596, dtype: int64"
            ]
          },
          "metadata": {},
          "execution_count": 14
        }
      ]
    },
    {
      "cell_type": "code",
      "source": [
        "candidatos.drop(['SQ_CANDIDATO'], axis=1, inplace=True)"
      ],
      "metadata": {
        "id": "X3uk9xKHtcqv"
      },
      "execution_count": 15,
      "outputs": []
    },
    {
      "cell_type": "code",
      "source": [
        "candidatos['NR_CANDIDATO'].value_counts()"
      ],
      "metadata": {
        "colab": {
          "base_uri": "https://localhost:8080/"
        },
        "id": "QNfr_1zhtsRn",
        "outputId": "3aa9185c-a790-46cf-b09e-0bf6b2f7c50a"
      },
      "execution_count": 16,
      "outputs": [
        {
          "output_type": "execute_result",
          "data": {
            "text/plain": [
              "500      60\n",
              "222      54\n",
              "111      41\n",
              "50       40\n",
              "290      36\n",
              "         ..\n",
              "19159     1\n",
              "11522     1\n",
              "1593      1\n",
              "51067     1\n",
              "50880     1\n",
              "Name: NR_CANDIDATO, Length: 7687, dtype: int64"
            ]
          },
          "metadata": {},
          "execution_count": 16
        }
      ]
    },
    {
      "cell_type": "code",
      "source": [
        "candidatos['NM_CANDIDATO'].value_counts()"
      ],
      "metadata": {
        "colab": {
          "base_uri": "https://localhost:8080/"
        },
        "id": "Dxof3iDx6sEe",
        "outputId": "0723e2dd-4ca4-454b-f518-89c600a2d6dc"
      },
      "execution_count": 17,
      "outputs": [
        {
          "output_type": "execute_result",
          "data": {
            "text/plain": [
              "MARIA APARECIDA DE OLIVEIRA        4\n",
              "SANDRA MARIA DOS SANTOS            4\n",
              "ELIANE DA SILVA                    3\n",
              "JOÃO BATISTA DE OLIVEIRA           3\n",
              "GILSON DE SOUZA                    3\n",
              "                                  ..\n",
              "CLEONILDA BRITO COELHO DE ASSIS    1\n",
              "VÂNIA LUIZ AMANCIO                 1\n",
              "VALDIR MENDES BARRANCO             1\n",
              "CARLOS HENRIQUE NACLI BASTOS       1\n",
              "MAURÍCIO SANTOS OLIVEIRA           1\n",
              "Name: NM_CANDIDATO, Length: 28387, dtype: int64"
            ]
          },
          "metadata": {},
          "execution_count": 17
        }
      ]
    },
    {
      "cell_type": "code",
      "source": [
        "candidatos.drop(['NM_CANDIDATO'], axis=1,  inplace=True)"
      ],
      "metadata": {
        "id": "NW4w69KAt3z4"
      },
      "execution_count": 18,
      "outputs": []
    },
    {
      "cell_type": "code",
      "source": [
        "candidatos['NM_URNA_CANDIDATO'].value_counts()"
      ],
      "metadata": {
        "colab": {
          "base_uri": "https://localhost:8080/"
        },
        "id": "C9qHXK0Ce7Vb",
        "outputId": "15848dbc-51a9-41d7-ed5e-b5027baceaf0"
      },
      "execution_count": 19,
      "outputs": [
        {
          "output_type": "execute_result",
          "data": {
            "text/plain": [
              "ANA PAULA                     8\n",
              "LUIZ CARLOS                   7\n",
              "JOÃO PAULO                    6\n",
              "ANA CRISTINA                  6\n",
              "JULIO CESAR                   5\n",
              "                             ..\n",
              "LUANA SEVERO                  1\n",
              "PROFESSORA ROSINEIA FROTA     1\n",
              "FLAVIA CAROL DA LOTERICA      1\n",
              "JULIANO MEDEIROS              1\n",
              "MAURÍCIO CITO                 1\n",
              "Name: NM_URNA_CANDIDATO, Length: 27619, dtype: int64"
            ]
          },
          "metadata": {},
          "execution_count": 19
        }
      ]
    },
    {
      "cell_type": "code",
      "source": [
        "candidatos['NM_SOCIAL_CANDIDATO'].value_counts()"
      ],
      "metadata": {
        "colab": {
          "base_uri": "https://localhost:8080/"
        },
        "id": "bQaEBcJoBn-F",
        "outputId": "5327e2bf-3f00-4660-992d-dd8fc09dc538"
      },
      "execution_count": 20,
      "outputs": [
        {
          "output_type": "execute_result",
          "data": {
            "text/plain": [
              "#NULO#                                 28550\n",
              "NÃO DIVULGÁVEL                            10\n",
              "MARIA FERNANDA ABREU DOROTEIA              2\n",
              "NINA ROSA LIA ALVES SOBRINHO               1\n",
              "MAYRA KARVAT                               1\n",
              "JULIAN SILVA TACANA                        1\n",
              "CÉLIA ARAÚJO                               1\n",
              "FABIANE GOMES                              1\n",
              "MARCIOSOTTER                               1\n",
              "MARCELO EVANGELISTA                        1\n",
              "JACQUELINE CHANEL                          1\n",
              "RAFAELA ESTEFFANS DE SOUSA MENDES          1\n",
              "CACAU                                      1\n",
              "LUIDJI APOLINARIO DE ALBUQUERQUE           1\n",
              "LARISSA LORRAN                             1\n",
              "BRUNA RIQUELME MARQUES                     1\n",
              "ALLISSINHA FERRAZ ALVES COSTA              1\n",
              "FERNANDO FÉ                                1\n",
              "NATASHA FERREIRA                           1\n",
              "INDIANARE SIQUEIRA                         1\n",
              "JOYCE RODRIGUES DA SILVA                   1\n",
              "AUGUSTO AVERTANO ROCHA                     1\n",
              "RENATA EVANS VALENTE QUEIROZ               1\n",
              "CAMILA PARKER CONCEIÇÃO DE OLIVEIRA        1\n",
              "LEO KRET DO BRASIL                         1\n",
              "DEUSINHA                                   1\n",
              "LEONORA MENDES DE LIMA                     1\n",
              "LUISA ZAZA FERNANDES DA CONCEIÇÃO          1\n",
              "SÔNIA DE ARSOLINO                          1\n",
              "ANDREIA DELOIZI CICERO                     1\n",
              "SILVIA NOBRE                               1\n",
              "ZEIZA DOJO                                 1\n",
              "BARBARA PASTANA DOS SANTOS                 1\n",
              "JACI GUIMARAES                             1\n",
              "DEYA PINHEIRO                              1\n",
              "RUBY DOS SANTOS                            1\n",
              "WILLIANS PANS PEREIRA                      1\n",
              "Name: NM_SOCIAL_CANDIDATO, dtype: int64"
            ]
          },
          "metadata": {},
          "execution_count": 20
        }
      ]
    },
    {
      "cell_type": "code",
      "source": [
        "candidatos['NR_CPF_CANDIDATO'].value_counts()"
      ],
      "metadata": {
        "colab": {
          "base_uri": "https://localhost:8080/"
        },
        "id": "0ZQnVWISBw3z",
        "outputId": "0e6d2768-cb65-4b24-8a0a-6eb4497208d5"
      },
      "execution_count": 21,
      "outputs": [
        {
          "output_type": "execute_result",
          "data": {
            "text/plain": [
              "-4              10\n",
              " 35920572353     2\n",
              " 27906804856     2\n",
              " 2051040532      2\n",
              " 81916310168     2\n",
              "                ..\n",
              " 76994155749     1\n",
              " 12608193889     1\n",
              " 26001622833     1\n",
              " 42711444104     1\n",
              " 1713591510      1\n",
              "Name: NR_CPF_CANDIDATO, Length: 28426, dtype: int64"
            ]
          },
          "metadata": {},
          "execution_count": 21
        }
      ]
    },
    {
      "cell_type": "code",
      "source": [
        "candidatos.drop(['NR_CPF_CANDIDATO'], axis=1, inplace=True)"
      ],
      "metadata": {
        "id": "m5uhj9r8CLDZ"
      },
      "execution_count": 22,
      "outputs": []
    },
    {
      "cell_type": "code",
      "source": [
        "candidatos['NM_EMAIL'].value_counts()"
      ],
      "metadata": {
        "colab": {
          "base_uri": "https://localhost:8080/"
        },
        "id": "GvHrzy0DCRxs",
        "outputId": "5fba6f0c-365c-4f6a-cffe-8d291c45ba74"
      },
      "execution_count": 23,
      "outputs": [
        {
          "output_type": "execute_result",
          "data": {
            "text/plain": [
              "JULIANOALESSANDER@GMAIL.COM          146\n",
              "AGIR36CANDIDATOS@GMAIL.COM           112\n",
              "JURIDICOSOLIDARIEDADERJ@GMAIL.COM    111\n",
              "ELEICAO@MACIELCAMPOS.COM              98\n",
              "JURIDICOPODERS@GMAIL.COM              81\n",
              "                                    ... \n",
              "VEREADORALUCIABATISTA@GMAIL.COM        1\n",
              "FERNANDOTORCAL@HOTMAIL.COM             1\n",
              "DEPEDUARDOCOSTA@YAHOO.COM.BR           1\n",
              "AHGFADVOGADOS@HOTMAIL.COM              1\n",
              "SITOPROL500@GMAIL.COM                  1\n",
              "Name: NM_EMAIL, Length: 22718, dtype: int64"
            ]
          },
          "metadata": {},
          "execution_count": 23
        }
      ]
    },
    {
      "cell_type": "code",
      "source": [
        "candidatos.drop(['NM_EMAIL'], axis=1, inplace=True)"
      ],
      "metadata": {
        "id": "6qAXEfIlCdHW"
      },
      "execution_count": 24,
      "outputs": []
    },
    {
      "cell_type": "markdown",
      "source": [
        "### Detalhes da candidatura"
      ],
      "metadata": {
        "id": "iOCoXn2zOJXk"
      }
    },
    {
      "cell_type": "code",
      "source": [
        "candidatos['CD_SITUACAO_CANDIDATURA'].value_counts()"
      ],
      "metadata": {
        "colab": {
          "base_uri": "https://localhost:8080/"
        },
        "id": "uShZa1WWCxsF",
        "outputId": "8032e6d9-d77b-4cda-d236-ddeb48087442"
      },
      "execution_count": 25,
      "outputs": [
        {
          "output_type": "execute_result",
          "data": {
            "text/plain": [
              "1     27908\n",
              "12      567\n",
              "3       121\n",
              "Name: CD_SITUACAO_CANDIDATURA, dtype: int64"
            ]
          },
          "metadata": {},
          "execution_count": 25
        }
      ]
    },
    {
      "cell_type": "code",
      "source": [
        "candidatos.drop(['CD_SITUACAO_CANDIDATURA'], axis=1, inplace=True)"
      ],
      "metadata": {
        "id": "Vr-dViV1EC6b"
      },
      "execution_count": 26,
      "outputs": []
    },
    {
      "cell_type": "code",
      "source": [
        "candidatos['DS_SITUACAO_CANDIDATURA'].value_counts()"
      ],
      "metadata": {
        "colab": {
          "base_uri": "https://localhost:8080/"
        },
        "id": "gpKVew5vC-8h",
        "outputId": "55128e10-f7f7-4f6a-a0ee-08eb0e5909c4"
      },
      "execution_count": 27,
      "outputs": [
        {
          "output_type": "execute_result",
          "data": {
            "text/plain": [
              "CADASTRADO    27908\n",
              "APTO            567\n",
              "INAPTO          121\n",
              "Name: DS_SITUACAO_CANDIDATURA, dtype: int64"
            ]
          },
          "metadata": {},
          "execution_count": 27
        }
      ]
    },
    {
      "cell_type": "code",
      "source": [
        "candidatos['CD_DETALHE_SITUACAO_CAND'].value_counts()"
      ],
      "metadata": {
        "colab": {
          "base_uri": "https://localhost:8080/"
        },
        "id": "4ODTv8jdDKIz",
        "outputId": "dba1e0e7-36ac-474f-99fd-11c38c5fcac2"
      },
      "execution_count": 28,
      "outputs": [
        {
          "output_type": "execute_result",
          "data": {
            "text/plain": [
              "8     27908\n",
              "2       562\n",
              "6       117\n",
              "4         5\n",
              "13        3\n",
              "5         1\n",
              "Name: CD_DETALHE_SITUACAO_CAND, dtype: int64"
            ]
          },
          "metadata": {},
          "execution_count": 28
        }
      ]
    },
    {
      "cell_type": "code",
      "source": [
        "candidatos.drop(['CD_DETALHE_SITUACAO_CAND'], axis=1, inplace=True)"
      ],
      "metadata": {
        "id": "KThWCPZbD5J2"
      },
      "execution_count": 29,
      "outputs": []
    },
    {
      "cell_type": "code",
      "source": [
        "candidatos['DS_DETALHE_SITUACAO_CAND'].value_counts()"
      ],
      "metadata": {
        "colab": {
          "base_uri": "https://localhost:8080/"
        },
        "id": "AV-m-BznD_Du",
        "outputId": "a457ae9f-29e2-42f7-b0a6-b19ac9be95f1"
      },
      "execution_count": 30,
      "outputs": [
        {
          "output_type": "execute_result",
          "data": {
            "text/plain": [
              "AGUARDANDO JULGAMENTO     27908\n",
              "DEFERIDO                    562\n",
              "RENÚNCIA                    117\n",
              "INDEFERIDO COM RECURSO        5\n",
              "PEDIDO NÃO CONHECIDO          3\n",
              "CANCELADO                     1\n",
              "Name: DS_DETALHE_SITUACAO_CAND, dtype: int64"
            ]
          },
          "metadata": {},
          "execution_count": 30
        }
      ]
    },
    {
      "cell_type": "code",
      "source": [
        "candidatos.drop(['DS_DETALHE_SITUACAO_CAND'], axis=1, inplace=True)"
      ],
      "metadata": {
        "id": "My22GcJ7b-aH"
      },
      "execution_count": 31,
      "outputs": []
    },
    {
      "cell_type": "code",
      "source": [
        "candidatos['TP_AGREMIACAO'].value_counts()"
      ],
      "metadata": {
        "colab": {
          "base_uri": "https://localhost:8080/"
        },
        "id": "ELU0nHgNEkXy",
        "outputId": "d7da6a99-0722-45fe-d47e-85a35e323a22"
      },
      "execution_count": 32,
      "outputs": [
        {
          "output_type": "execute_result",
          "data": {
            "text/plain": [
              "PARTIDO ISOLADO    23795\n",
              "FEDERAÇÃO           4367\n",
              "COLIGAÇÃO            434\n",
              "Name: TP_AGREMIACAO, dtype: int64"
            ]
          },
          "metadata": {},
          "execution_count": 32
        }
      ]
    },
    {
      "cell_type": "markdown",
      "source": [
        "### Informações dos Partidos"
      ],
      "metadata": {
        "id": "5pzKMmDrOS2U"
      }
    },
    {
      "cell_type": "code",
      "source": [
        "candidatos['NR_PARTIDO'].value_counts()"
      ],
      "metadata": {
        "colab": {
          "base_uri": "https://localhost:8080/"
        },
        "id": "7L5eFdvcEm3n",
        "outputId": "37fd9dcc-f23f-439d-db56-01b7a4dd1b5b"
      },
      "execution_count": 33,
      "outputs": [
        {
          "output_type": "execute_result",
          "data": {
            "text/plain": [
              "22    1594\n",
              "44    1505\n",
              "10    1431\n",
              "15    1376\n",
              "12    1343\n",
              "11    1336\n",
              "14    1302\n",
              "40    1278\n",
              "51    1217\n",
              "19    1179\n",
              "55    1170\n",
              "13    1108\n",
              "77    1101\n",
              "20    1060\n",
              "70    1038\n",
              "90     994\n",
              "45     945\n",
              "36     938\n",
              "50     923\n",
              "28     912\n",
              "35     832\n",
              "33     802\n",
              "27     789\n",
              "18     483\n",
              "30     477\n",
              "23     477\n",
              "43     303\n",
              "65     219\n",
              "29     161\n",
              "16     159\n",
              "21      84\n",
              "80      60\n",
              "Name: NR_PARTIDO, dtype: int64"
            ]
          },
          "metadata": {},
          "execution_count": 33
        }
      ]
    },
    {
      "cell_type": "code",
      "source": [
        "candidatos['SG_PARTIDO'].value_counts()"
      ],
      "metadata": {
        "colab": {
          "base_uri": "https://localhost:8080/"
        },
        "id": "0uecenBkF4GX",
        "outputId": "b795f3a5-2be8-4ef2-f4c3-e9cd9fae1d64"
      },
      "execution_count": 34,
      "outputs": [
        {
          "output_type": "execute_result",
          "data": {
            "text/plain": [
              "PL               1594\n",
              "UNIÃO            1505\n",
              "REPUBLICANOS     1431\n",
              "MDB              1376\n",
              "PDT              1343\n",
              "PP               1336\n",
              "PTB              1302\n",
              "PSB              1278\n",
              "PATRIOTA         1217\n",
              "PODE             1179\n",
              "PSD              1170\n",
              "PT               1108\n",
              "SOLIDARIEDADE    1101\n",
              "PSC              1060\n",
              "AVANTE           1038\n",
              "PROS              994\n",
              "PSDB              945\n",
              "AGIR              938\n",
              "PSOL              923\n",
              "PRTB              912\n",
              "PMB               832\n",
              "PMN               802\n",
              "DC                789\n",
              "REDE              483\n",
              "NOVO              477\n",
              "CIDADANIA         477\n",
              "PV                303\n",
              "PC do B           219\n",
              "PCO               161\n",
              "PSTU              159\n",
              "PCB                84\n",
              "UP                 60\n",
              "Name: SG_PARTIDO, dtype: int64"
            ]
          },
          "metadata": {},
          "execution_count": 34
        }
      ]
    },
    {
      "cell_type": "code",
      "source": [
        "candidatos['NM_PARTIDO'].value_counts()"
      ],
      "metadata": {
        "colab": {
          "base_uri": "https://localhost:8080/"
        },
        "id": "IoQfqVrtGCn4",
        "outputId": "b4988eb4-3477-422b-a010-72843af5c30d"
      },
      "execution_count": 35,
      "outputs": [
        {
          "output_type": "execute_result",
          "data": {
            "text/plain": [
              "PARTIDO LIBERAL                                   1594\n",
              "UNIÃO BRASIL                                      1505\n",
              "REPUBLICANOS                                      1431\n",
              "MOVIMENTO DEMOCRÁTICO BRASILEIRO                  1376\n",
              "PARTIDO DEMOCRÁTICO TRABALHISTA                   1343\n",
              "PROGRESSISTAS                                     1336\n",
              "PARTIDO TRABALHISTA BRASILEIRO                    1302\n",
              "PARTIDO SOCIALISTA BRASILEIRO                     1278\n",
              "PATRIOTA                                          1217\n",
              "PODEMOS                                           1179\n",
              "PARTIDO SOCIAL DEMOCRÁTICO                        1170\n",
              "PARTIDO DOS TRABALHADORES                         1108\n",
              "SOLIDARIEDADE                                     1101\n",
              "PARTIDO SOCIAL CRISTÃO                            1060\n",
              "AVANTE                                            1038\n",
              "PARTIDO REPUBLICANO DA ORDEM SOCIAL                994\n",
              "PARTIDO DA SOCIAL DEMOCRACIA BRASILEIRA            945\n",
              "AGIR                                               938\n",
              "PARTIDO SOCIALISMO E LIBERDADE                     923\n",
              "PARTIDO RENOVADOR TRABALHISTA BRASILEIRO           912\n",
              "PARTIDO DA MULHER BRASILEIRA                       832\n",
              "PARTIDO DA MOBILIZAÇÃO NACIONAL                    802\n",
              "DEMOCRACIA CRISTÃ                                  789\n",
              "REDE SUSTENTABILIDADE                              483\n",
              "PARTIDO NOVO                                       477\n",
              "CIDADANIA                                          477\n",
              "PARTIDO VERDE                                      303\n",
              "PARTIDO COMUNISTA DO BRASIL                        219\n",
              "PARTIDO DA CAUSA OPERÁRIA                          161\n",
              "PARTIDO SOCIALISTA DOS TRABALHADORES UNIFICADO     159\n",
              "PARTIDO COMUNISTA BRASILEIRO                        84\n",
              "UNIDADE POPULAR                                     60\n",
              "Name: NM_PARTIDO, dtype: int64"
            ]
          },
          "metadata": {},
          "execution_count": 35
        }
      ]
    },
    {
      "cell_type": "markdown",
      "source": [
        "### Informações das Federações"
      ],
      "metadata": {
        "id": "sTuog1waOzon"
      }
    },
    {
      "cell_type": "code",
      "source": [
        "candidatos['NR_FEDERACAO'].value_counts()"
      ],
      "metadata": {
        "colab": {
          "base_uri": "https://localhost:8080/"
        },
        "id": "IRGISqdLGTVg",
        "outputId": "67f7fdc8-9054-4836-91cc-e319f23a3d69"
      },
      "execution_count": 36,
      "outputs": [
        {
          "output_type": "execute_result",
          "data": {
            "text/plain": [
              "-1    24138\n",
              " 2     1630\n",
              " 1     1422\n",
              " 3     1406\n",
              "Name: NR_FEDERACAO, dtype: int64"
            ]
          },
          "metadata": {},
          "execution_count": 36
        }
      ]
    },
    {
      "cell_type": "code",
      "source": [
        "candidatos['NM_FEDERACAO'].value_counts()"
      ],
      "metadata": {
        "colab": {
          "base_uri": "https://localhost:8080/"
        },
        "id": "5NcDLb7pGcSH",
        "outputId": "568466b1-5672-47df-f689-30747573fbd6"
      },
      "execution_count": 37,
      "outputs": [
        {
          "output_type": "execute_result",
          "data": {
            "text/plain": [
              "#NULO#                                       24138\n",
              "Federação Brasil da Esperança - FE BRASIL     1630\n",
              "Federação PSDB Cidadania                      1422\n",
              "Federação PSOL REDE                           1406\n",
              "Name: NM_FEDERACAO, dtype: int64"
            ]
          },
          "metadata": {},
          "execution_count": 37
        }
      ]
    },
    {
      "cell_type": "code",
      "source": [
        "candidatos['DS_COMPOSICAO_FEDERACAO'].value_counts()"
      ],
      "metadata": {
        "colab": {
          "base_uri": "https://localhost:8080/"
        },
        "id": "L1h2thFxGudo",
        "outputId": "e160514f-7d1f-415d-fe30-458af4170f10"
      },
      "execution_count": 38,
      "outputs": [
        {
          "output_type": "execute_result",
          "data": {
            "text/plain": [
              "#NULO#               24138\n",
              "PT / PV / PC do B     1630\n",
              "CIDADANIA / PSDB      1422\n",
              "REDE / PSOL           1406\n",
              "Name: DS_COMPOSICAO_FEDERACAO, dtype: int64"
            ]
          },
          "metadata": {},
          "execution_count": 38
        }
      ]
    },
    {
      "cell_type": "code",
      "source": [
        "candidatos.drop(['NR_FEDERACAO', 'NM_FEDERACAO', 'SG_FEDERACAO', 'DS_COMPOSICAO_FEDERACAO'], axis=1, inplace=True)"
      ],
      "metadata": {
        "id": "k2sdOTJRGl2x"
      },
      "execution_count": 39,
      "outputs": []
    },
    {
      "cell_type": "markdown",
      "source": [
        "### Informações das coligações"
      ],
      "metadata": {
        "id": "zxPdELs3O5EX"
      }
    },
    {
      "cell_type": "code",
      "source": [
        "candidatos['SQ_COLIGACAO'].value_counts()"
      ],
      "metadata": {
        "colab": {
          "base_uri": "https://localhost:8080/"
        },
        "id": "gWvv27OlHM_f",
        "outputId": "89c51fa2-f99d-403e-d37a-938828bfbec7"
      },
      "execution_count": 40,
      "outputs": [
        {
          "output_type": "execute_result",
          "data": {
            "text/plain": [
              "250001681143    100\n",
              "250001681521     97\n",
              "250001681750     96\n",
              "250001682281     96\n",
              "250001681492     95\n",
              "               ... \n",
              "50001681257       1\n",
              "60001681417       1\n",
              "40001685276       1\n",
              "160001685243      1\n",
              "90001684611       1\n",
              "Name: SQ_COLIGACAO, Length: 1702, dtype: int64"
            ]
          },
          "metadata": {},
          "execution_count": 40
        }
      ]
    },
    {
      "cell_type": "code",
      "source": [
        "candidatos.drop(['SQ_COLIGACAO'], axis=1, inplace=True)"
      ],
      "metadata": {
        "id": "iRFFNPL9Hd2h"
      },
      "execution_count": 41,
      "outputs": []
    },
    {
      "cell_type": "code",
      "source": [
        "candidatos['NM_COLIGACAO'].value_counts()"
      ],
      "metadata": {
        "colab": {
          "base_uri": "https://localhost:8080/"
        },
        "id": "HuJc-CosHZuV",
        "outputId": "d01ea65f-0097-4afa-9720-0d2713622dd3"
      },
      "execution_count": 42,
      "outputs": [
        {
          "output_type": "execute_result",
          "data": {
            "text/plain": [
              "PARTIDO ISOLADO                            23793\n",
              "FEDERAÇÃO                                   4369\n",
              "UNIÃO DO BEM PELO PARÁ                         8\n",
              "A FORÇA DO POVO                                7\n",
              "Frente Humanista Cristã                        6\n",
              "                                           ...  \n",
              "COLIGAÇÃO EM DEFESA DA VIDA                    2\n",
              "AMAPÁ PARA TODOS                               2\n",
              "A TRANSFORMAÇÃO QUE O TOCANTINS PRECISA        2\n",
              "Agora é a vez do povo                          2\n",
              "FRENTE DA MUDANÇA                              2\n",
              "Name: NM_COLIGACAO, Length: 129, dtype: int64"
            ]
          },
          "metadata": {},
          "execution_count": 42
        }
      ]
    },
    {
      "cell_type": "code",
      "source": [
        "candidatos['DS_COMPOSICAO_COLIGACAO'].value_counts()"
      ],
      "metadata": {
        "colab": {
          "base_uri": "https://localhost:8080/"
        },
        "id": "FPEB3mu6Ho1g",
        "outputId": "24629f75-ded8-455b-f112-ecde0bdedb29"
      },
      "execution_count": 43,
      "outputs": [
        {
          "output_type": "execute_result",
          "data": {
            "text/plain": [
              "PT/PC do B/PV                                                              1578\n",
              "PL                                                                         1545\n",
              "UNIÃO                                                                      1471\n",
              "REPUBLICANOS                                                               1408\n",
              "PSOL/REDE                                                                  1401\n",
              "                                                                           ... \n",
              "PTB / PSC / PROS / PSD / AGIR                                                 2\n",
              "PTB / PDT / PL / REPUBLICANOS / PROS / AGIR                                   2\n",
              "PSDB/CIDADANIA / UNIÃO / PDT / SOLIDARIEDADE / PTB / REPUBLICANOS / PSC       2\n",
              "PT/PC do B/PV / PSDB/CIDADANIA / PSOL/REDE / PSB                              2\n",
              "PDT / PSC / UNIÃO / REPUBLICANOS / PP / PSD / AVANTE                          2\n",
              "Name: DS_COMPOSICAO_COLIGACAO, Length: 193, dtype: int64"
            ]
          },
          "metadata": {},
          "execution_count": 43
        }
      ]
    },
    {
      "cell_type": "markdown",
      "source": [
        "### Informações de Nacionalidade e Nascimento"
      ],
      "metadata": {
        "id": "1A-UMk1FO8fA"
      }
    },
    {
      "cell_type": "code",
      "source": [
        "candidatos['CD_NACIONALIDADE'].value_counts()"
      ],
      "metadata": {
        "colab": {
          "base_uri": "https://localhost:8080/"
        },
        "id": "7ULtWYQJHsOL",
        "outputId": "9911b160-ccc0-412e-a66a-592c09b1635e"
      },
      "execution_count": 44,
      "outputs": [
        {
          "output_type": "execute_result",
          "data": {
            "text/plain": [
              " 1    28498\n",
              " 2       80\n",
              "-4       10\n",
              " 3        5\n",
              " 4        3\n",
              "Name: CD_NACIONALIDADE, dtype: int64"
            ]
          },
          "metadata": {},
          "execution_count": 44
        }
      ]
    },
    {
      "cell_type": "code",
      "source": [
        "candidatos.drop(['CD_NACIONALIDADE'], axis=1, inplace=True)"
      ],
      "metadata": {
        "id": "rpnN2NvAHzPM"
      },
      "execution_count": 45,
      "outputs": []
    },
    {
      "cell_type": "code",
      "source": [
        "candidatos['DS_NACIONALIDADE'].value_counts()"
      ],
      "metadata": {
        "colab": {
          "base_uri": "https://localhost:8080/"
        },
        "id": "0eGeK5eQH2tk",
        "outputId": "451e7712-1111-44f5-a474-e83527122829"
      },
      "execution_count": 46,
      "outputs": [
        {
          "output_type": "execute_result",
          "data": {
            "text/plain": [
              "BRASILEIRA NATA                         28498\n",
              "BRASILEIRA (NATURALIZADA)                  80\n",
              "NÃO DIVULGÁVEL                             10\n",
              "PORTUGUESA COM IGUALDADE DE DIREITOS        5\n",
              "ESTRANGEIRO                                 3\n",
              "Name: DS_NACIONALIDADE, dtype: int64"
            ]
          },
          "metadata": {},
          "execution_count": 46
        }
      ]
    },
    {
      "cell_type": "code",
      "source": [
        "candidatos['SG_UF_NASCIMENTO'].value_counts()"
      ],
      "metadata": {
        "colab": {
          "base_uri": "https://localhost:8080/"
        },
        "id": "4bOIp9bYIACj",
        "outputId": "95213ffa-d202-42a9-b70d-cf3d7c00185b"
      },
      "execution_count": 47,
      "outputs": [
        {
          "output_type": "execute_result",
          "data": {
            "text/plain": [
              "SP                3428\n",
              "RJ                2896\n",
              "MG                2885\n",
              "BA                1958\n",
              "PR                1726\n",
              "RS                1599\n",
              "PE                1309\n",
              "CE                1188\n",
              "MA                1155\n",
              "PA                1134\n",
              "GO                1108\n",
              "SC                 849\n",
              "PB                 840\n",
              "ES                 712\n",
              "AM                 599\n",
              "DF                 558\n",
              "RN                 535\n",
              "PI                 511\n",
              "MS                 495\n",
              "AL                 494\n",
              "AC                 486\n",
              "SE                 460\n",
              "AP                 368\n",
              "MT                 344\n",
              "RO                 318\n",
              "TO                 311\n",
              "RR                 272\n",
              "ZZ                  48\n",
              "Não divulgável      10\n",
              "Name: SG_UF_NASCIMENTO, dtype: int64"
            ]
          },
          "metadata": {},
          "execution_count": 47
        }
      ]
    },
    {
      "cell_type": "code",
      "source": [
        "candidatos['CD_MUNICIPIO_NASCIMENTO'].value_counts()"
      ],
      "metadata": {
        "colab": {
          "base_uri": "https://localhost:8080/"
        },
        "id": "c465MbdzIHix",
        "outputId": "16297bd2-a1c5-438e-a0ea-2755be3f21e2"
      },
      "execution_count": 48,
      "outputs": [
        {
          "output_type": "execute_result",
          "data": {
            "text/plain": [
              "-3    28596\n",
              "Name: CD_MUNICIPIO_NASCIMENTO, dtype: int64"
            ]
          },
          "metadata": {},
          "execution_count": 48
        }
      ]
    },
    {
      "cell_type": "code",
      "source": [
        "candidatos.drop(['CD_MUNICIPIO_NASCIMENTO'], axis=1, inplace=True)"
      ],
      "metadata": {
        "id": "z5Z-ZN5XIP9r"
      },
      "execution_count": 49,
      "outputs": []
    },
    {
      "cell_type": "code",
      "source": [
        "candidatos['DT_NASCIMENTO'].value_counts()"
      ],
      "metadata": {
        "id": "S9W_GpjlIc40",
        "colab": {
          "base_uri": "https://localhost:8080/"
        },
        "outputId": "7e975e22-f480-42e4-dbf8-8a37e1288bb6"
      },
      "execution_count": 50,
      "outputs": [
        {
          "output_type": "execute_result",
          "data": {
            "text/plain": [
              "04/09/1972    10\n",
              "05/07/1973     9\n",
              "06/04/1982     9\n",
              "28/07/1983     9\n",
              "23/11/1974     9\n",
              "              ..\n",
              "12/12/1994     1\n",
              "22/04/1965     1\n",
              "23/11/1957     1\n",
              "25/11/1958     1\n",
              "18/08/1984     1\n",
              "Name: DT_NASCIMENTO, Length: 13370, dtype: int64"
            ]
          },
          "metadata": {},
          "execution_count": 50
        }
      ]
    },
    {
      "cell_type": "markdown",
      "source": [
        "### Idade na Data da Posse"
      ],
      "metadata": {
        "id": "GvuIvlVCPPmr"
      }
    },
    {
      "cell_type": "code",
      "source": [
        "candidatos['NR_IDADE_DATA_POSSE'].value_counts()"
      ],
      "metadata": {
        "colab": {
          "base_uri": "https://localhost:8080/"
        },
        "id": "k-GbYDnAPT2m",
        "outputId": "92a6d365-f278-42a0-e666-53a7927746fa"
      },
      "execution_count": 51,
      "outputs": [
        {
          "output_type": "execute_result",
          "data": {
            "text/plain": [
              "50.0    1038\n",
              "47.0     983\n",
              "48.0     974\n",
              "44.0     956\n",
              "49.0     939\n",
              "        ... \n",
              "18.0       1\n",
              "89.0       1\n",
              "87.0       1\n",
              "88.0       1\n",
              "96.0       1\n",
              "Name: NR_IDADE_DATA_POSSE, Length: 74, dtype: int64"
            ]
          },
          "metadata": {},
          "execution_count": 51
        }
      ]
    },
    {
      "cell_type": "markdown",
      "source": [
        "### Titulo Eleitoral do Candidato"
      ],
      "metadata": {
        "id": "q8kIJ5xpPdXr"
      }
    },
    {
      "cell_type": "code",
      "source": [
        "candidatos['NR_TITULO_ELEITORAL_CANDIDATO'].value_counts()"
      ],
      "metadata": {
        "colab": {
          "base_uri": "https://localhost:8080/"
        },
        "id": "_4wT-KlpPgZ_",
        "outputId": "1bb87cdf-6f6d-4eef-8157-b5a1ef5d7d5d"
      },
      "execution_count": 52,
      "outputs": [
        {
          "output_type": "execute_result",
          "data": {
            "text/plain": [
              "-4               10\n",
              " 29366260779      2\n",
              " 70888590507      2\n",
              " 32429341279      2\n",
              " 320346180183     2\n",
              "                 ..\n",
              " 104924730302     1\n",
              " 172420240159     1\n",
              " 201696300141     1\n",
              " 22575972798      1\n",
              " 154846040507     1\n",
              "Name: NR_TITULO_ELEITORAL_CANDIDATO, Length: 28423, dtype: int64"
            ]
          },
          "metadata": {},
          "execution_count": 52
        }
      ]
    },
    {
      "cell_type": "code",
      "source": [
        "candidatos.drop(['NR_TITULO_ELEITORAL_CANDIDATO'], axis=1, inplace=True)"
      ],
      "metadata": {
        "id": "1PsjUSGNPlyT"
      },
      "execution_count": 53,
      "outputs": []
    },
    {
      "cell_type": "markdown",
      "source": [
        "### Informações de Gênero"
      ],
      "metadata": {
        "id": "GbnsZ4GcPsII"
      }
    },
    {
      "cell_type": "code",
      "source": [
        "candidatos['CD_GENERO'].value_counts()"
      ],
      "metadata": {
        "colab": {
          "base_uri": "https://localhost:8080/"
        },
        "id": "TzAqTQifPuQ-",
        "outputId": "e85579b5-a2d8-421b-e91d-3e0268436313"
      },
      "execution_count": 54,
      "outputs": [
        {
          "output_type": "execute_result",
          "data": {
            "text/plain": [
              " 2    19028\n",
              " 4     9558\n",
              "-4       10\n",
              "Name: CD_GENERO, dtype: int64"
            ]
          },
          "metadata": {},
          "execution_count": 54
        }
      ]
    },
    {
      "cell_type": "code",
      "source": [
        "candidatos.drop(['CD_GENERO'], axis=1, inplace=True)"
      ],
      "metadata": {
        "id": "Z9rzVsBlP8mk"
      },
      "execution_count": 55,
      "outputs": []
    },
    {
      "cell_type": "code",
      "source": [
        "candidatos['DS_GENERO'].value_counts()"
      ],
      "metadata": {
        "colab": {
          "base_uri": "https://localhost:8080/"
        },
        "id": "BEZv9V3VP3Re",
        "outputId": "27d427bc-454e-4bd3-f9a2-bbcde72f6185"
      },
      "execution_count": 56,
      "outputs": [
        {
          "output_type": "execute_result",
          "data": {
            "text/plain": [
              "MASCULINO         19028\n",
              "FEMININO           9558\n",
              "NÃO DIVULGÁVEL       10\n",
              "Name: DS_GENERO, dtype: int64"
            ]
          },
          "metadata": {},
          "execution_count": 56
        }
      ]
    },
    {
      "cell_type": "markdown",
      "source": [
        "### Grau de Instrução"
      ],
      "metadata": {
        "id": "VDFAc3R6QClk"
      }
    },
    {
      "cell_type": "code",
      "source": [
        "candidatos['CD_GRAU_INSTRUCAO'].value_counts()"
      ],
      "metadata": {
        "colab": {
          "base_uri": "https://localhost:8080/"
        },
        "id": "lMA7sxjKQBAH",
        "outputId": "c219e41f-0114-4802-8a90-d3f3eb1e8fa6"
      },
      "execution_count": 57,
      "outputs": [
        {
          "output_type": "execute_result",
          "data": {
            "text/plain": [
              " 8    15679\n",
              " 6     7271\n",
              " 7     2671\n",
              " 4     1327\n",
              " 3      726\n",
              " 5      697\n",
              " 2      215\n",
              "-4       10\n",
              "Name: CD_GRAU_INSTRUCAO, dtype: int64"
            ]
          },
          "metadata": {},
          "execution_count": 57
        }
      ]
    },
    {
      "cell_type": "code",
      "source": [
        "candidatos.drop(['CD_GRAU_INSTRUCAO'], axis=1, inplace=True)"
      ],
      "metadata": {
        "id": "vLLZtlkMQIRt"
      },
      "execution_count": 58,
      "outputs": []
    },
    {
      "cell_type": "code",
      "source": [
        "candidatos['DS_GRAU_INSTRUCAO'].value_counts()"
      ],
      "metadata": {
        "colab": {
          "base_uri": "https://localhost:8080/"
        },
        "id": "HxVo0ePWQMge",
        "outputId": "f73f114c-069a-4551-e470-2c31d293cc7c"
      },
      "execution_count": 59,
      "outputs": [
        {
          "output_type": "execute_result",
          "data": {
            "text/plain": [
              "SUPERIOR COMPLETO                15679\n",
              "ENSINO MÉDIO COMPLETO             7271\n",
              "SUPERIOR INCOMPLETO               2671\n",
              "ENSINO FUNDAMENTAL COMPLETO       1327\n",
              "ENSINO FUNDAMENTAL INCOMPLETO      726\n",
              "ENSINO MÉDIO INCOMPLETO            697\n",
              "LÊ E ESCREVE                       215\n",
              "NÃO DIVULGÁVEL                      10\n",
              "Name: DS_GRAU_INSTRUCAO, dtype: int64"
            ]
          },
          "metadata": {},
          "execution_count": 59
        }
      ]
    },
    {
      "cell_type": "markdown",
      "source": [
        "### Estado Civil"
      ],
      "metadata": {
        "id": "Ec9puONZQiDd"
      }
    },
    {
      "cell_type": "code",
      "source": [
        "candidatos['CD_ESTADO_CIVIL'].value_counts()"
      ],
      "metadata": {
        "colab": {
          "base_uri": "https://localhost:8080/"
        },
        "id": "6ltsa2GrQdiO",
        "outputId": "7d59daef-5357-4f89-a22e-ab67340e2651"
      },
      "execution_count": 60,
      "outputs": [
        {
          "output_type": "execute_result",
          "data": {
            "text/plain": [
              " 3    15060\n",
              " 1     9028\n",
              " 9     3695\n",
              " 5      560\n",
              " 7      243\n",
              "-4       10\n",
              "Name: CD_ESTADO_CIVIL, dtype: int64"
            ]
          },
          "metadata": {},
          "execution_count": 60
        }
      ]
    },
    {
      "cell_type": "code",
      "source": [
        "candidatos.drop(['CD_ESTADO_CIVIL'], axis=1, inplace=True)"
      ],
      "metadata": {
        "id": "sbaIEpXJQnap"
      },
      "execution_count": 61,
      "outputs": []
    },
    {
      "cell_type": "code",
      "source": [
        "candidatos['DS_ESTADO_CIVIL'].value_counts()"
      ],
      "metadata": {
        "colab": {
          "base_uri": "https://localhost:8080/"
        },
        "id": "6YOGVAvYQrkL",
        "outputId": "f540f1b0-6fb8-4051-8a17-b751e548f951"
      },
      "execution_count": 62,
      "outputs": [
        {
          "output_type": "execute_result",
          "data": {
            "text/plain": [
              "CASADO(A)                    15060\n",
              "SOLTEIRO(A)                   9028\n",
              "DIVORCIADO(A)                 3695\n",
              "VIÚVO(A)                       560\n",
              "SEPARADO(A) JUDICIALMENTE      243\n",
              "NÃO DIVULGÁVEL                  10\n",
              "Name: DS_ESTADO_CIVIL, dtype: int64"
            ]
          },
          "metadata": {},
          "execution_count": 62
        }
      ]
    },
    {
      "cell_type": "markdown",
      "source": [
        "### Informações de cor/raça"
      ],
      "metadata": {
        "id": "nIkkWyjJQ0_f"
      }
    },
    {
      "cell_type": "code",
      "source": [
        "candidatos.drop(['CD_COR_RACA'], axis=1, inplace=True)"
      ],
      "metadata": {
        "id": "wwCJZxwJQ8bf"
      },
      "execution_count": 63,
      "outputs": []
    },
    {
      "cell_type": "code",
      "source": [
        "candidatos['DS_COR_RACA'].value_counts()"
      ],
      "metadata": {
        "colab": {
          "base_uri": "https://localhost:8080/"
        },
        "id": "tC9C2JIERA5K",
        "outputId": "09a6d04f-531b-44a8-e003-89049aaa855b"
      },
      "execution_count": 64,
      "outputs": [
        {
          "output_type": "execute_result",
          "data": {
            "text/plain": [
              "BRANCA            13919\n",
              "PARDA             10230\n",
              "PRETA              3994\n",
              "INDÍGENA            180\n",
              "NÃO INFORMADO       148\n",
              "AMARELA             115\n",
              "NÃO DIVULGÁVEL       10\n",
              "Name: DS_COR_RACA, dtype: int64"
            ]
          },
          "metadata": {},
          "execution_count": 64
        }
      ]
    },
    {
      "cell_type": "markdown",
      "source": [
        "### Ocupação"
      ],
      "metadata": {
        "id": "TXa-LN6yRGYL"
      }
    },
    {
      "cell_type": "code",
      "source": [
        "candidatos.drop(['CD_OCUPACAO'], axis=1, inplace=True)"
      ],
      "metadata": {
        "id": "gJlEeoRSRDL5"
      },
      "execution_count": 65,
      "outputs": []
    },
    {
      "cell_type": "code",
      "source": [
        "candidatos['DS_OCUPACAO'].value_counts()"
      ],
      "metadata": {
        "colab": {
          "base_uri": "https://localhost:8080/"
        },
        "id": "VFIsepctRND1",
        "outputId": "9287322a-efe2-4f0b-d447-dffdb5aa6379"
      },
      "execution_count": 66,
      "outputs": [
        {
          "output_type": "execute_result",
          "data": {
            "text/plain": [
              "OUTROS                               5027\n",
              "EMPRESÁRIO                           3650\n",
              "ADVOGADO                             2063\n",
              "VEREADOR                             1096\n",
              "DEPUTADO                             1084\n",
              "                                     ... \n",
              "MODELO                                  1\n",
              "ARQUEÓLOGO                              1\n",
              "COMANDANTE DE EMBARCAÇÕES               1\n",
              "TRABALHADOR DE USINAGEM DE METAIS       1\n",
              "SECURITÁRIO                             1\n",
              "Name: DS_OCUPACAO, Length: 220, dtype: int64"
            ]
          },
          "metadata": {},
          "execution_count": 66
        }
      ]
    },
    {
      "cell_type": "markdown",
      "source": [
        "### Despesas Declaradas"
      ],
      "metadata": {
        "id": "JycdqIEPRwfc"
      }
    },
    {
      "cell_type": "code",
      "source": [
        "candidatos['VR_DESPESA_MAX_CAMPANHA'].value_counts()"
      ],
      "metadata": {
        "colab": {
          "base_uri": "https://localhost:8080/"
        },
        "id": "hkbbpnCoRz6b",
        "outputId": "ed54905a-796e-4a2f-9b56-c8e677242e5a"
      },
      "execution_count": 67,
      "outputs": [
        {
          "output_type": "execute_result",
          "data": {
            "text/plain": [
              " 1270629.01     17018\n",
              " 3176572.53     10443\n",
              "-1.00             715\n",
              " 7115522.46        75\n",
              " 11562724.00       74\n",
              " 4447201.54        71\n",
              " 3811887.03        65\n",
              " 6226082.16        32\n",
              " 5336641.85        28\n",
              " 17788806.16       25\n",
              " 3557761.23        18\n",
              " 88944030.80       12\n",
              "-4.00              10\n",
              " 26683209.24       10\n",
              "Name: VR_DESPESA_MAX_CAMPANHA, dtype: int64"
            ]
          },
          "metadata": {},
          "execution_count": 67
        }
      ]
    },
    {
      "cell_type": "markdown",
      "source": [
        "### Situação no turno"
      ],
      "metadata": {
        "id": "e9UxpuMoSC4L"
      }
    },
    {
      "cell_type": "code",
      "source": [
        "candidatos.drop(['CD_SIT_TOT_TURNO'], axis=1, inplace=True)"
      ],
      "metadata": {
        "id": "C6bNfw6zR6U6"
      },
      "execution_count": 68,
      "outputs": []
    },
    {
      "cell_type": "code",
      "source": [
        "candidatos['DS_SIT_TOT_TURNO'].value_counts()"
      ],
      "metadata": {
        "colab": {
          "base_uri": "https://localhost:8080/"
        },
        "id": "GyorouJFSEl-",
        "outputId": "76736073-06cb-4ff0-fd0c-1100ff318913"
      },
      "execution_count": 69,
      "outputs": [
        {
          "output_type": "execute_result",
          "data": {
            "text/plain": [
              "#NULO#    28596\n",
              "Name: DS_SIT_TOT_TURNO, dtype: int64"
            ]
          },
          "metadata": {},
          "execution_count": 69
        }
      ]
    },
    {
      "cell_type": "code",
      "source": [
        "candidatos.drop(['DS_SIT_TOT_TURNO'], axis=1, inplace=True)"
      ],
      "metadata": {
        "id": "slFI60yESIZk"
      },
      "execution_count": 70,
      "outputs": []
    },
    {
      "cell_type": "markdown",
      "source": [
        "### Reeleição"
      ],
      "metadata": {
        "id": "yaMOMhnlq-u9"
      }
    },
    {
      "cell_type": "code",
      "source": [
        "candidatos['ST_REELEICAO'].value_counts()"
      ],
      "metadata": {
        "colab": {
          "base_uri": "https://localhost:8080/"
        },
        "id": "C1ghVOrOrCjr",
        "outputId": "3c588975-39a7-4f1d-d656-fdf9c8dbb4e0"
      },
      "execution_count": 71,
      "outputs": [
        {
          "output_type": "execute_result",
          "data": {
            "text/plain": [
              "N                 27259\n",
              "S                  1327\n",
              "Não divulgável       10\n",
              "Name: ST_REELEICAO, dtype: int64"
            ]
          },
          "metadata": {},
          "execution_count": 71
        }
      ]
    },
    {
      "cell_type": "markdown",
      "source": [
        "### Declaração de Bens"
      ],
      "metadata": {
        "id": "7HcF8U5irMLs"
      }
    },
    {
      "cell_type": "code",
      "source": [
        "candidatos['ST_DECLARAR_BENS'].value_counts()"
      ],
      "metadata": {
        "colab": {
          "base_uri": "https://localhost:8080/"
        },
        "id": "1qu243LMrOP4",
        "outputId": "b2127814-ebf6-4be9-bf1d-174b4f8a1e19"
      },
      "execution_count": 72,
      "outputs": [
        {
          "output_type": "execute_result",
          "data": {
            "text/plain": [
              "S                 25926\n",
              "N                  2660\n",
              "Não divulgável       10\n",
              "Name: ST_DECLARAR_BENS, dtype: int64"
            ]
          },
          "metadata": {},
          "execution_count": 72
        }
      ]
    },
    {
      "cell_type": "code",
      "source": [
        "candidatos.drop(['ST_DECLARAR_BENS'], axis=1, inplace=True)"
      ],
      "metadata": {
        "id": "kHlqBTquY0Yv"
      },
      "execution_count": 73,
      "outputs": []
    },
    {
      "cell_type": "markdown",
      "source": [
        "### Protocolo de Candidatura"
      ],
      "metadata": {
        "id": "F6UrVCtmrSio"
      }
    },
    {
      "cell_type": "code",
      "source": [
        "candidatos['NR_PROTOCOLO_CANDIDATURA'].value_counts()"
      ],
      "metadata": {
        "colab": {
          "base_uri": "https://localhost:8080/"
        },
        "id": "S9TSCzomrURH",
        "outputId": "ced42914-d1bb-4266-f19a-f4e5cafb5ca2"
      },
      "execution_count": 74,
      "outputs": [
        {
          "output_type": "execute_result",
          "data": {
            "text/plain": [
              "-1    28596\n",
              "Name: NR_PROTOCOLO_CANDIDATURA, dtype: int64"
            ]
          },
          "metadata": {},
          "execution_count": 74
        }
      ]
    },
    {
      "cell_type": "code",
      "source": [
        "candidatos.drop(['NR_PROTOCOLO_CANDIDATURA'], axis=1, inplace=True)"
      ],
      "metadata": {
        "id": "NA8wXUP-rYlp"
      },
      "execution_count": 75,
      "outputs": []
    },
    {
      "cell_type": "markdown",
      "source": [
        "### Registro de Candidatura e Pleito"
      ],
      "metadata": {
        "id": "Vh6U3pS4tACm"
      }
    },
    {
      "cell_type": "code",
      "source": [
        "candidatos['NR_PROCESSO'].value_counts()"
      ],
      "metadata": {
        "colab": {
          "base_uri": "https://localhost:8080/"
        },
        "id": "ldifhktetSZl",
        "outputId": "e9a212c2-5d6b-4105-d20d-102add056e38"
      },
      "execution_count": 76,
      "outputs": [
        {
          "output_type": "execute_result",
          "data": {
            "text/plain": [
              "-1                      4\n",
              " 6007005420226070000    1\n",
              " 6009240820226100000    1\n",
              " 6013522820226050000    1\n",
              " 6009223220226210000    1\n",
              "                       ..\n",
              " 6008483720226260000    1\n",
              " 6008507720226270000    1\n",
              " 6007882220226060000    1\n",
              " 6004066720226010000    1\n",
              " 6007260920226050000    1\n",
              "Name: NR_PROCESSO, Length: 28593, dtype: int64"
            ]
          },
          "metadata": {},
          "execution_count": 76
        }
      ]
    },
    {
      "cell_type": "code",
      "source": [
        "candidatos.drop(['NR_PROCESSO'], axis=1, inplace=True)"
      ],
      "metadata": {
        "id": "NrHOc5tjZbmx"
      },
      "execution_count": 77,
      "outputs": []
    },
    {
      "cell_type": "code",
      "source": [
        "candidatos.drop(['CD_SITUACAO_CANDIDATO_PLEITO'], axis=1, inplace=True)"
      ],
      "metadata": {
        "id": "dg_dwoN-tbBf"
      },
      "execution_count": 78,
      "outputs": []
    },
    {
      "cell_type": "code",
      "source": [
        "candidatos['DS_SITUACAO_CANDIDATO_PLEITO'].value_counts()"
      ],
      "metadata": {
        "colab": {
          "base_uri": "https://localhost:8080/"
        },
        "id": "R0JtIkvOthBB",
        "outputId": "ab7cc447-ac0c-4a9e-f61a-d8458f24896c"
      },
      "execution_count": 79,
      "outputs": [
        {
          "output_type": "execute_result",
          "data": {
            "text/plain": [
              "#NULO#    28596\n",
              "Name: DS_SITUACAO_CANDIDATO_PLEITO, dtype: int64"
            ]
          },
          "metadata": {},
          "execution_count": 79
        }
      ]
    },
    {
      "cell_type": "code",
      "source": [
        "candidatos.drop(['DS_SITUACAO_CANDIDATO_PLEITO'], axis=1, inplace=True)"
      ],
      "metadata": {
        "id": "wQbwxbHztobb"
      },
      "execution_count": 80,
      "outputs": []
    },
    {
      "cell_type": "markdown",
      "source": [
        "### Candidato x Urna"
      ],
      "metadata": {
        "id": "RRPbUPL0tvZ5"
      }
    },
    {
      "cell_type": "code",
      "source": [
        "candidatos.drop(['CD_SITUACAO_CANDIDATO_URNA'], axis=1, inplace=True)"
      ],
      "metadata": {
        "id": "pNvGVL1Etu65"
      },
      "execution_count": 81,
      "outputs": []
    },
    {
      "cell_type": "code",
      "source": [
        "candidatos['DS_SITUACAO_CANDIDATO_URNA'].value_counts()"
      ],
      "metadata": {
        "colab": {
          "base_uri": "https://localhost:8080/"
        },
        "id": "CdVigXsht3vp",
        "outputId": "8e15854e-a6f1-432b-e432-86fabb502ff7"
      },
      "execution_count": 82,
      "outputs": [
        {
          "output_type": "execute_result",
          "data": {
            "text/plain": [
              "#NULO#    28596\n",
              "Name: DS_SITUACAO_CANDIDATO_URNA, dtype: int64"
            ]
          },
          "metadata": {},
          "execution_count": 82
        }
      ]
    },
    {
      "cell_type": "code",
      "source": [
        "candidatos.drop(['DS_SITUACAO_CANDIDATO_URNA'], axis=1, inplace=True)"
      ],
      "metadata": {
        "id": "zyrXqRjVt7yT"
      },
      "execution_count": 83,
      "outputs": []
    },
    {
      "cell_type": "code",
      "source": [
        "candidatos['ST_CANDIDATO_INSERIDO_URNA'].value_counts()"
      ],
      "metadata": {
        "colab": {
          "base_uri": "https://localhost:8080/"
        },
        "id": "UkaQ4Vf0uOn2",
        "outputId": "dd0f10dc-60ea-4a2c-dd83-cd356a243a95"
      },
      "execution_count": 84,
      "outputs": [
        {
          "output_type": "execute_result",
          "data": {
            "text/plain": [
              "NÃO    28029\n",
              "SIM      567\n",
              "Name: ST_CANDIDATO_INSERIDO_URNA, dtype: int64"
            ]
          },
          "metadata": {},
          "execution_count": 84
        }
      ]
    },
    {
      "cell_type": "markdown",
      "source": [
        "### Destinação de Votos"
      ],
      "metadata": {
        "id": "BTRkVnkuuYXw"
      }
    },
    {
      "cell_type": "code",
      "source": [
        "candidatos['NM_TIPO_DESTINACAO_VOTOS'].value_counts()"
      ],
      "metadata": {
        "colab": {
          "base_uri": "https://localhost:8080/"
        },
        "id": "QmV7Pb03uaW5",
        "outputId": "a16ae7eb-76cd-4720-b7b9-e365cd935ba5"
      },
      "execution_count": 85,
      "outputs": [
        {
          "output_type": "execute_result",
          "data": {
            "text/plain": [
              "#NULO#    28596\n",
              "Name: NM_TIPO_DESTINACAO_VOTOS, dtype: int64"
            ]
          },
          "metadata": {},
          "execution_count": 85
        }
      ]
    },
    {
      "cell_type": "code",
      "source": [
        "candidatos.drop(['NM_TIPO_DESTINACAO_VOTOS'], axis=1, inplace=True)"
      ],
      "metadata": {
        "id": "Q2-wlBnCuefN"
      },
      "execution_count": 86,
      "outputs": []
    },
    {
      "cell_type": "markdown",
      "source": [
        "### Banco de Totalização"
      ],
      "metadata": {
        "id": "40KFSIsBukCJ"
      }
    },
    {
      "cell_type": "code",
      "source": [
        "candidatos.drop(['CD_SITUACAO_CANDIDATO_TOT'], axis=1, inplace=True)"
      ],
      "metadata": {
        "id": "8R7lRbQXun6o"
      },
      "execution_count": 87,
      "outputs": []
    },
    {
      "cell_type": "code",
      "source": [
        "candidatos['DS_SITUACAO_CANDIDATO_TOT'].value_counts()"
      ],
      "metadata": {
        "colab": {
          "base_uri": "https://localhost:8080/"
        },
        "id": "-Dbjw32KuxpX",
        "outputId": "d6cbce18-1682-43ab-9e03-99502e374cb7"
      },
      "execution_count": 88,
      "outputs": [
        {
          "output_type": "execute_result",
          "data": {
            "text/plain": [
              "#NULO#    28596\n",
              "Name: DS_SITUACAO_CANDIDATO_TOT, dtype: int64"
            ]
          },
          "metadata": {},
          "execution_count": 88
        }
      ]
    },
    {
      "cell_type": "code",
      "source": [
        "candidatos.drop(['DS_SITUACAO_CANDIDATO_TOT'], axis=1, inplace=True)"
      ],
      "metadata": {
        "id": "taydWvT9u01j"
      },
      "execution_count": 89,
      "outputs": []
    },
    {
      "cell_type": "markdown",
      "source": [
        "### Prestação de Contas"
      ],
      "metadata": {
        "id": "fX2r1pvYu8gG"
      }
    },
    {
      "cell_type": "code",
      "source": [
        "candidatos['ST_PREST_CONTAS'].value_counts()"
      ],
      "metadata": {
        "colab": {
          "base_uri": "https://localhost:8080/"
        },
        "id": "CROQEjMeu-2k",
        "outputId": "c5076b57-f407-4cfe-e35e-c78dfe22477a"
      },
      "execution_count": 90,
      "outputs": [
        {
          "output_type": "execute_result",
          "data": {
            "text/plain": [
              "N    28596\n",
              "Name: ST_PREST_CONTAS, dtype: int64"
            ]
          },
          "metadata": {},
          "execution_count": 90
        }
      ]
    },
    {
      "cell_type": "code",
      "source": [
        "candidatos.drop(['ST_PREST_CONTAS'], axis=1, inplace=True)"
      ],
      "metadata": {
        "id": "R0u5wfDAZE6E"
      },
      "execution_count": 91,
      "outputs": []
    },
    {
      "cell_type": "markdown",
      "source": [
        "## Verificar valores faltantes (NaN)"
      ],
      "metadata": {
        "id": "QMlYWHXrdatb"
      }
    },
    {
      "cell_type": "code",
      "source": [
        "candidatos.isnull().sum()"
      ],
      "metadata": {
        "colab": {
          "base_uri": "https://localhost:8080/"
        },
        "id": "X1n5fvslc6m7",
        "outputId": "945d51fe-a840-4730-f702-a411f7939d65"
      },
      "execution_count": 92,
      "outputs": [
        {
          "output_type": "execute_result",
          "data": {
            "text/plain": [
              "SG_UF                          0\n",
              "SG_UE                          0\n",
              "NM_UE                          0\n",
              "DS_CARGO                       0\n",
              "NR_CANDIDATO                   0\n",
              "NM_URNA_CANDIDATO              0\n",
              "NM_SOCIAL_CANDIDATO            0\n",
              "DS_SITUACAO_CANDIDATURA        0\n",
              "TP_AGREMIACAO                  0\n",
              "NR_PARTIDO                     0\n",
              "SG_PARTIDO                     0\n",
              "NM_PARTIDO                     0\n",
              "NM_COLIGACAO                   0\n",
              "DS_COMPOSICAO_COLIGACAO        0\n",
              "DS_NACIONALIDADE               0\n",
              "SG_UF_NASCIMENTO               0\n",
              "NM_MUNICIPIO_NASCIMENTO        0\n",
              "DT_NASCIMENTO                 10\n",
              "NR_IDADE_DATA_POSSE           10\n",
              "DS_GENERO                      0\n",
              "DS_GRAU_INSTRUCAO              0\n",
              "DS_ESTADO_CIVIL                0\n",
              "DS_COR_RACA                    0\n",
              "DS_OCUPACAO                    0\n",
              "VR_DESPESA_MAX_CAMPANHA        0\n",
              "ST_REELEICAO                   0\n",
              "ST_CANDIDATO_INSERIDO_URNA     0\n",
              "dtype: int64"
            ]
          },
          "metadata": {},
          "execution_count": 92
        }
      ]
    },
    {
      "cell_type": "markdown",
      "source": [
        "# Pré-processamento\n",
        "#### Já removidas as colunas desnecessárias (processo de exploração dos dados)"
      ],
      "metadata": {
        "id": "79M0f9pgdpI0"
      }
    },
    {
      "cell_type": "markdown",
      "source": [
        "## Informações prévias"
      ],
      "metadata": {
        "id": "mE9TY-7Kz8zZ"
      }
    },
    {
      "cell_type": "code",
      "source": [
        "candidatos.shape"
      ],
      "metadata": {
        "colab": {
          "base_uri": "https://localhost:8080/"
        },
        "id": "JvoRctKpvP_O",
        "outputId": "3649363f-3a16-41a2-cb34-30c851f401eb"
      },
      "execution_count": 93,
      "outputs": [
        {
          "output_type": "execute_result",
          "data": {
            "text/plain": [
              "(28596, 27)"
            ]
          },
          "metadata": {},
          "execution_count": 93
        }
      ]
    },
    {
      "cell_type": "code",
      "source": [
        "candidatos.head()"
      ],
      "metadata": {
        "colab": {
          "base_uri": "https://localhost:8080/",
          "height": 0
        },
        "id": "epdj6RmFvJ0G",
        "outputId": "a9625e45-6024-410a-a6ef-78b6bfb656da"
      },
      "execution_count": 94,
      "outputs": [
        {
          "output_type": "execute_result",
          "data": {
            "text/plain": [
              "  SG_UF SG_UE              NM_UE           DS_CARGO  NR_CANDIDATO  \\\n",
              "0    RO    RO           RONDÔNIA  DEPUTADO ESTADUAL         33555   \n",
              "1    TO    TO          TOCANTINS   DEPUTADO FEDERAL          2700   \n",
              "2    BA    BA              BAHIA   DEPUTADO FEDERAL          9012   \n",
              "3    SC    SC     SANTA CATARINA  DEPUTADO ESTADUAL         20082   \n",
              "4    RS    RS  RIO GRANDE DO SUL   DEPUTADO FEDERAL          7757   \n",
              "\n",
              "  NM_URNA_CANDIDATO NM_SOCIAL_CANDIDATO DS_SITUACAO_CANDIDATURA  \\\n",
              "0    JUNINHO COELHO              #NULO#              CADASTRADO   \n",
              "1     ROGÉRIO LUNAS              #NULO#              CADASTRADO   \n",
              "2        ELI SAMUEL              #NULO#              CADASTRADO   \n",
              "3    ANDREA TURCATO              #NULO#              CADASTRADO   \n",
              "4            XURRAS              #NULO#              CADASTRADO   \n",
              "\n",
              "     TP_AGREMIACAO  NR_PARTIDO  ... DT_NASCIMENTO NR_IDADE_DATA_POSSE  \\\n",
              "0  PARTIDO ISOLADO          33  ...    23/10/1989                33.0   \n",
              "1  PARTIDO ISOLADO          27  ...    08/05/1977                45.0   \n",
              "2  PARTIDO ISOLADO          90  ...    26/06/1972                50.0   \n",
              "3  PARTIDO ISOLADO          20  ...    01/03/1982                40.0   \n",
              "4  PARTIDO ISOLADO          77  ...    29/05/1986                36.0   \n",
              "\n",
              "   DS_GENERO              DS_GRAU_INSTRUCAO DS_ESTADO_CIVIL DS_COR_RACA  \\\n",
              "0  MASCULINO          ENSINO MÉDIO COMPLETO       CASADO(A)      BRANCA   \n",
              "1  MASCULINO              SUPERIOR COMPLETO       CASADO(A)       PARDA   \n",
              "2  MASCULINO  ENSINO FUNDAMENTAL INCOMPLETO       CASADO(A)       PARDA   \n",
              "3   FEMININO            SUPERIOR INCOMPLETO       CASADO(A)      BRANCA   \n",
              "4  MASCULINO            SUPERIOR INCOMPLETO     SOLTEIRO(A)       PRETA   \n",
              "\n",
              "                    DS_OCUPACAO VR_DESPESA_MAX_CAMPANHA  ST_REELEICAO  \\\n",
              "0                        OUTROS              1270629.01             N   \n",
              "1  PROFESSOR DE ENSINO SUPERIOR              3176572.53             N   \n",
              "2                    EMPRESÁRIO              3176572.53             N   \n",
              "3     PROFESSOR DE ENSINO MÉDIO              1270629.01             N   \n",
              "4                        OUTROS              3176572.53             N   \n",
              "\n",
              "  ST_CANDIDATO_INSERIDO_URNA  \n",
              "0                        NÃO  \n",
              "1                        NÃO  \n",
              "2                        NÃO  \n",
              "3                        NÃO  \n",
              "4                        NÃO  \n",
              "\n",
              "[5 rows x 27 columns]"
            ],
            "text/html": [
              "\n",
              "  <div id=\"df-d4053f88-7e6c-43e4-aba6-28d596a2b3df\">\n",
              "    <div class=\"colab-df-container\">\n",
              "      <div>\n",
              "<style scoped>\n",
              "    .dataframe tbody tr th:only-of-type {\n",
              "        vertical-align: middle;\n",
              "    }\n",
              "\n",
              "    .dataframe tbody tr th {\n",
              "        vertical-align: top;\n",
              "    }\n",
              "\n",
              "    .dataframe thead th {\n",
              "        text-align: right;\n",
              "    }\n",
              "</style>\n",
              "<table border=\"1\" class=\"dataframe\">\n",
              "  <thead>\n",
              "    <tr style=\"text-align: right;\">\n",
              "      <th></th>\n",
              "      <th>SG_UF</th>\n",
              "      <th>SG_UE</th>\n",
              "      <th>NM_UE</th>\n",
              "      <th>DS_CARGO</th>\n",
              "      <th>NR_CANDIDATO</th>\n",
              "      <th>NM_URNA_CANDIDATO</th>\n",
              "      <th>NM_SOCIAL_CANDIDATO</th>\n",
              "      <th>DS_SITUACAO_CANDIDATURA</th>\n",
              "      <th>TP_AGREMIACAO</th>\n",
              "      <th>NR_PARTIDO</th>\n",
              "      <th>...</th>\n",
              "      <th>DT_NASCIMENTO</th>\n",
              "      <th>NR_IDADE_DATA_POSSE</th>\n",
              "      <th>DS_GENERO</th>\n",
              "      <th>DS_GRAU_INSTRUCAO</th>\n",
              "      <th>DS_ESTADO_CIVIL</th>\n",
              "      <th>DS_COR_RACA</th>\n",
              "      <th>DS_OCUPACAO</th>\n",
              "      <th>VR_DESPESA_MAX_CAMPANHA</th>\n",
              "      <th>ST_REELEICAO</th>\n",
              "      <th>ST_CANDIDATO_INSERIDO_URNA</th>\n",
              "    </tr>\n",
              "  </thead>\n",
              "  <tbody>\n",
              "    <tr>\n",
              "      <th>0</th>\n",
              "      <td>RO</td>\n",
              "      <td>RO</td>\n",
              "      <td>RONDÔNIA</td>\n",
              "      <td>DEPUTADO ESTADUAL</td>\n",
              "      <td>33555</td>\n",
              "      <td>JUNINHO COELHO</td>\n",
              "      <td>#NULO#</td>\n",
              "      <td>CADASTRADO</td>\n",
              "      <td>PARTIDO ISOLADO</td>\n",
              "      <td>33</td>\n",
              "      <td>...</td>\n",
              "      <td>23/10/1989</td>\n",
              "      <td>33.0</td>\n",
              "      <td>MASCULINO</td>\n",
              "      <td>ENSINO MÉDIO COMPLETO</td>\n",
              "      <td>CASADO(A)</td>\n",
              "      <td>BRANCA</td>\n",
              "      <td>OUTROS</td>\n",
              "      <td>1270629.01</td>\n",
              "      <td>N</td>\n",
              "      <td>NÃO</td>\n",
              "    </tr>\n",
              "    <tr>\n",
              "      <th>1</th>\n",
              "      <td>TO</td>\n",
              "      <td>TO</td>\n",
              "      <td>TOCANTINS</td>\n",
              "      <td>DEPUTADO FEDERAL</td>\n",
              "      <td>2700</td>\n",
              "      <td>ROGÉRIO LUNAS</td>\n",
              "      <td>#NULO#</td>\n",
              "      <td>CADASTRADO</td>\n",
              "      <td>PARTIDO ISOLADO</td>\n",
              "      <td>27</td>\n",
              "      <td>...</td>\n",
              "      <td>08/05/1977</td>\n",
              "      <td>45.0</td>\n",
              "      <td>MASCULINO</td>\n",
              "      <td>SUPERIOR COMPLETO</td>\n",
              "      <td>CASADO(A)</td>\n",
              "      <td>PARDA</td>\n",
              "      <td>PROFESSOR DE ENSINO SUPERIOR</td>\n",
              "      <td>3176572.53</td>\n",
              "      <td>N</td>\n",
              "      <td>NÃO</td>\n",
              "    </tr>\n",
              "    <tr>\n",
              "      <th>2</th>\n",
              "      <td>BA</td>\n",
              "      <td>BA</td>\n",
              "      <td>BAHIA</td>\n",
              "      <td>DEPUTADO FEDERAL</td>\n",
              "      <td>9012</td>\n",
              "      <td>ELI SAMUEL</td>\n",
              "      <td>#NULO#</td>\n",
              "      <td>CADASTRADO</td>\n",
              "      <td>PARTIDO ISOLADO</td>\n",
              "      <td>90</td>\n",
              "      <td>...</td>\n",
              "      <td>26/06/1972</td>\n",
              "      <td>50.0</td>\n",
              "      <td>MASCULINO</td>\n",
              "      <td>ENSINO FUNDAMENTAL INCOMPLETO</td>\n",
              "      <td>CASADO(A)</td>\n",
              "      <td>PARDA</td>\n",
              "      <td>EMPRESÁRIO</td>\n",
              "      <td>3176572.53</td>\n",
              "      <td>N</td>\n",
              "      <td>NÃO</td>\n",
              "    </tr>\n",
              "    <tr>\n",
              "      <th>3</th>\n",
              "      <td>SC</td>\n",
              "      <td>SC</td>\n",
              "      <td>SANTA CATARINA</td>\n",
              "      <td>DEPUTADO ESTADUAL</td>\n",
              "      <td>20082</td>\n",
              "      <td>ANDREA TURCATO</td>\n",
              "      <td>#NULO#</td>\n",
              "      <td>CADASTRADO</td>\n",
              "      <td>PARTIDO ISOLADO</td>\n",
              "      <td>20</td>\n",
              "      <td>...</td>\n",
              "      <td>01/03/1982</td>\n",
              "      <td>40.0</td>\n",
              "      <td>FEMININO</td>\n",
              "      <td>SUPERIOR INCOMPLETO</td>\n",
              "      <td>CASADO(A)</td>\n",
              "      <td>BRANCA</td>\n",
              "      <td>PROFESSOR DE ENSINO MÉDIO</td>\n",
              "      <td>1270629.01</td>\n",
              "      <td>N</td>\n",
              "      <td>NÃO</td>\n",
              "    </tr>\n",
              "    <tr>\n",
              "      <th>4</th>\n",
              "      <td>RS</td>\n",
              "      <td>RS</td>\n",
              "      <td>RIO GRANDE DO SUL</td>\n",
              "      <td>DEPUTADO FEDERAL</td>\n",
              "      <td>7757</td>\n",
              "      <td>XURRAS</td>\n",
              "      <td>#NULO#</td>\n",
              "      <td>CADASTRADO</td>\n",
              "      <td>PARTIDO ISOLADO</td>\n",
              "      <td>77</td>\n",
              "      <td>...</td>\n",
              "      <td>29/05/1986</td>\n",
              "      <td>36.0</td>\n",
              "      <td>MASCULINO</td>\n",
              "      <td>SUPERIOR INCOMPLETO</td>\n",
              "      <td>SOLTEIRO(A)</td>\n",
              "      <td>PRETA</td>\n",
              "      <td>OUTROS</td>\n",
              "      <td>3176572.53</td>\n",
              "      <td>N</td>\n",
              "      <td>NÃO</td>\n",
              "    </tr>\n",
              "  </tbody>\n",
              "</table>\n",
              "<p>5 rows × 27 columns</p>\n",
              "</div>\n",
              "      <button class=\"colab-df-convert\" onclick=\"convertToInteractive('df-d4053f88-7e6c-43e4-aba6-28d596a2b3df')\"\n",
              "              title=\"Convert this dataframe to an interactive table.\"\n",
              "              style=\"display:none;\">\n",
              "        \n",
              "  <svg xmlns=\"http://www.w3.org/2000/svg\" height=\"24px\"viewBox=\"0 0 24 24\"\n",
              "       width=\"24px\">\n",
              "    <path d=\"M0 0h24v24H0V0z\" fill=\"none\"/>\n",
              "    <path d=\"M18.56 5.44l.94 2.06.94-2.06 2.06-.94-2.06-.94-.94-2.06-.94 2.06-2.06.94zm-11 1L8.5 8.5l.94-2.06 2.06-.94-2.06-.94L8.5 2.5l-.94 2.06-2.06.94zm10 10l.94 2.06.94-2.06 2.06-.94-2.06-.94-.94-2.06-.94 2.06-2.06.94z\"/><path d=\"M17.41 7.96l-1.37-1.37c-.4-.4-.92-.59-1.43-.59-.52 0-1.04.2-1.43.59L10.3 9.45l-7.72 7.72c-.78.78-.78 2.05 0 2.83L4 21.41c.39.39.9.59 1.41.59.51 0 1.02-.2 1.41-.59l7.78-7.78 2.81-2.81c.8-.78.8-2.07 0-2.86zM5.41 20L4 18.59l7.72-7.72 1.47 1.35L5.41 20z\"/>\n",
              "  </svg>\n",
              "      </button>\n",
              "      \n",
              "  <style>\n",
              "    .colab-df-container {\n",
              "      display:flex;\n",
              "      flex-wrap:wrap;\n",
              "      gap: 12px;\n",
              "    }\n",
              "\n",
              "    .colab-df-convert {\n",
              "      background-color: #E8F0FE;\n",
              "      border: none;\n",
              "      border-radius: 50%;\n",
              "      cursor: pointer;\n",
              "      display: none;\n",
              "      fill: #1967D2;\n",
              "      height: 32px;\n",
              "      padding: 0 0 0 0;\n",
              "      width: 32px;\n",
              "    }\n",
              "\n",
              "    .colab-df-convert:hover {\n",
              "      background-color: #E2EBFA;\n",
              "      box-shadow: 0px 1px 2px rgba(60, 64, 67, 0.3), 0px 1px 3px 1px rgba(60, 64, 67, 0.15);\n",
              "      fill: #174EA6;\n",
              "    }\n",
              "\n",
              "    [theme=dark] .colab-df-convert {\n",
              "      background-color: #3B4455;\n",
              "      fill: #D2E3FC;\n",
              "    }\n",
              "\n",
              "    [theme=dark] .colab-df-convert:hover {\n",
              "      background-color: #434B5C;\n",
              "      box-shadow: 0px 1px 3px 1px rgba(0, 0, 0, 0.15);\n",
              "      filter: drop-shadow(0px 1px 2px rgba(0, 0, 0, 0.3));\n",
              "      fill: #FFFFFF;\n",
              "    }\n",
              "  </style>\n",
              "\n",
              "      <script>\n",
              "        const buttonEl =\n",
              "          document.querySelector('#df-d4053f88-7e6c-43e4-aba6-28d596a2b3df button.colab-df-convert');\n",
              "        buttonEl.style.display =\n",
              "          google.colab.kernel.accessAllowed ? 'block' : 'none';\n",
              "\n",
              "        async function convertToInteractive(key) {\n",
              "          const element = document.querySelector('#df-d4053f88-7e6c-43e4-aba6-28d596a2b3df');\n",
              "          const dataTable =\n",
              "            await google.colab.kernel.invokeFunction('convertToInteractive',\n",
              "                                                     [key], {});\n",
              "          if (!dataTable) return;\n",
              "\n",
              "          const docLinkHtml = 'Like what you see? Visit the ' +\n",
              "            '<a target=\"_blank\" href=https://colab.research.google.com/notebooks/data_table.ipynb>data table notebook</a>'\n",
              "            + ' to learn more about interactive tables.';\n",
              "          element.innerHTML = '';\n",
              "          dataTable['output_type'] = 'display_data';\n",
              "          await google.colab.output.renderOutput(dataTable, element);\n",
              "          const docLink = document.createElement('div');\n",
              "          docLink.innerHTML = docLinkHtml;\n",
              "          element.appendChild(docLink);\n",
              "        }\n",
              "      </script>\n",
              "    </div>\n",
              "  </div>\n",
              "  "
            ]
          },
          "metadata": {},
          "execution_count": 94
        }
      ]
    },
    {
      "cell_type": "code",
      "source": [
        "candidatos.info()"
      ],
      "metadata": {
        "colab": {
          "base_uri": "https://localhost:8080/"
        },
        "id": "biTYkciIvRaP",
        "outputId": "adff6caa-f8c0-451e-dbfa-0e0fc7dc2822"
      },
      "execution_count": 95,
      "outputs": [
        {
          "output_type": "stream",
          "name": "stdout",
          "text": [
            "<class 'pandas.core.frame.DataFrame'>\n",
            "RangeIndex: 28596 entries, 0 to 28595\n",
            "Data columns (total 27 columns):\n",
            " #   Column                      Non-Null Count  Dtype  \n",
            "---  ------                      --------------  -----  \n",
            " 0   SG_UF                       28596 non-null  object \n",
            " 1   SG_UE                       28596 non-null  object \n",
            " 2   NM_UE                       28596 non-null  object \n",
            " 3   DS_CARGO                    28596 non-null  object \n",
            " 4   NR_CANDIDATO                28596 non-null  int64  \n",
            " 5   NM_URNA_CANDIDATO           28596 non-null  object \n",
            " 6   NM_SOCIAL_CANDIDATO         28596 non-null  object \n",
            " 7   DS_SITUACAO_CANDIDATURA     28596 non-null  object \n",
            " 8   TP_AGREMIACAO               28596 non-null  object \n",
            " 9   NR_PARTIDO                  28596 non-null  int64  \n",
            " 10  SG_PARTIDO                  28596 non-null  object \n",
            " 11  NM_PARTIDO                  28596 non-null  object \n",
            " 12  NM_COLIGACAO                28596 non-null  object \n",
            " 13  DS_COMPOSICAO_COLIGACAO     28596 non-null  object \n",
            " 14  DS_NACIONALIDADE            28596 non-null  object \n",
            " 15  SG_UF_NASCIMENTO            28596 non-null  object \n",
            " 16  NM_MUNICIPIO_NASCIMENTO     28596 non-null  object \n",
            " 17  DT_NASCIMENTO               28586 non-null  object \n",
            " 18  NR_IDADE_DATA_POSSE         28586 non-null  float64\n",
            " 19  DS_GENERO                   28596 non-null  object \n",
            " 20  DS_GRAU_INSTRUCAO           28596 non-null  object \n",
            " 21  DS_ESTADO_CIVIL             28596 non-null  object \n",
            " 22  DS_COR_RACA                 28596 non-null  object \n",
            " 23  DS_OCUPACAO                 28596 non-null  object \n",
            " 24  VR_DESPESA_MAX_CAMPANHA     28596 non-null  float64\n",
            " 25  ST_REELEICAO                28596 non-null  object \n",
            " 26  ST_CANDIDATO_INSERIDO_URNA  28596 non-null  object \n",
            "dtypes: float64(2), int64(2), object(23)\n",
            "memory usage: 5.9+ MB\n"
          ]
        }
      ]
    },
    {
      "cell_type": "markdown",
      "source": [
        "## Renomeação de Colunas"
      ],
      "metadata": {
        "id": "3n5L-B4tx4JL"
      }
    },
    {
      "cell_type": "code",
      "source": [
        "candidatos.columns"
      ],
      "metadata": {
        "colab": {
          "base_uri": "https://localhost:8080/"
        },
        "id": "JMbzrRRc7YLq",
        "outputId": "29bb3140-7640-4c4a-b2d6-e0e7e44624de"
      },
      "execution_count": 96,
      "outputs": [
        {
          "output_type": "execute_result",
          "data": {
            "text/plain": [
              "Index(['SG_UF', 'SG_UE', 'NM_UE', 'DS_CARGO', 'NR_CANDIDATO',\n",
              "       'NM_URNA_CANDIDATO', 'NM_SOCIAL_CANDIDATO', 'DS_SITUACAO_CANDIDATURA',\n",
              "       'TP_AGREMIACAO', 'NR_PARTIDO', 'SG_PARTIDO', 'NM_PARTIDO',\n",
              "       'NM_COLIGACAO', 'DS_COMPOSICAO_COLIGACAO', 'DS_NACIONALIDADE',\n",
              "       'SG_UF_NASCIMENTO', 'NM_MUNICIPIO_NASCIMENTO', 'DT_NASCIMENTO',\n",
              "       'NR_IDADE_DATA_POSSE', 'DS_GENERO', 'DS_GRAU_INSTRUCAO',\n",
              "       'DS_ESTADO_CIVIL', 'DS_COR_RACA', 'DS_OCUPACAO',\n",
              "       'VR_DESPESA_MAX_CAMPANHA', 'ST_REELEICAO',\n",
              "       'ST_CANDIDATO_INSERIDO_URNA'],\n",
              "      dtype='object')"
            ]
          },
          "metadata": {},
          "execution_count": 96
        }
      ]
    },
    {
      "cell_type": "code",
      "source": [
        "novas_colunas = ['UF', 'SG_UE', 'NM_UE', 'CARGO ELEICAO',\n",
        "                 'NUMERO CANDIDATO', 'NOME DO CANDIDATO NA URNA', 'NOME SOCIAL',\n",
        "                 'SITUACAO CANDIDATURA', 'TIPO AGREMIACAO', 'NUMERO PARTIDO', \n",
        "                 'SIGLA PARTIDO', 'NOME PARTIDO', 'NOME COLIGACAO',\n",
        "                 'COMPOSICAO COLIGACAO', 'NACIONALIDADE', 'UF NASCIMENTO', 'MUNICIPIO NASCIMENTO',\n",
        "                 'DATA NASCIMENTO', 'IDADE DATA POSSE', 'GENERO', 'ESCOLARIDADE',\n",
        "                 'ESTADO CIVIL', 'COR/RACA', 'OCUPACAO', 'DESPESA CAMPANHA', 'REELEICAO',\n",
        "                 'INSERIDO NA URNA']\n",
        "candidatos.columns = novas_colunas\n",
        "candidatos.columns"
      ],
      "metadata": {
        "colab": {
          "base_uri": "https://localhost:8080/"
        },
        "id": "50QXDt3sx5yH",
        "outputId": "281946c6-3cb1-48fe-9d33-ce81bc5bb477"
      },
      "execution_count": 97,
      "outputs": [
        {
          "output_type": "execute_result",
          "data": {
            "text/plain": [
              "Index(['UF', 'SG_UE', 'NM_UE', 'CARGO ELEICAO', 'NUMERO CANDIDATO',\n",
              "       'NOME DO CANDIDATO NA URNA', 'NOME SOCIAL', 'SITUACAO CANDIDATURA',\n",
              "       'TIPO AGREMIACAO', 'NUMERO PARTIDO', 'SIGLA PARTIDO', 'NOME PARTIDO',\n",
              "       'NOME COLIGACAO', 'COMPOSICAO COLIGACAO', 'NACIONALIDADE',\n",
              "       'UF NASCIMENTO', 'MUNICIPIO NASCIMENTO', 'DATA NASCIMENTO',\n",
              "       'IDADE DATA POSSE', 'GENERO', 'ESCOLARIDADE', 'ESTADO CIVIL',\n",
              "       'COR/RACA', 'OCUPACAO', 'DESPESA CAMPANHA', 'REELEICAO',\n",
              "       'INSERIDO NA URNA'],\n",
              "      dtype='object')"
            ]
          },
          "metadata": {},
          "execution_count": 97
        }
      ]
    },
    {
      "cell_type": "markdown",
      "source": [
        "## Alterando os valores de sigla para descritivo na coluna UF"
      ],
      "metadata": {
        "id": "cBEHd-pLaaTF"
      }
    },
    {
      "cell_type": "code",
      "source": [
        "candidatos['UF'].sort_values().unique()"
      ],
      "metadata": {
        "colab": {
          "base_uri": "https://localhost:8080/"
        },
        "id": "HBKn9w4x__HB",
        "outputId": "8772430c-7813-4d45-9e01-f76a88c0a1b0"
      },
      "execution_count": 98,
      "outputs": [
        {
          "output_type": "execute_result",
          "data": {
            "text/plain": [
              "array(['AC', 'AL', 'AM', 'AP', 'BA', 'BR', 'CE', 'DF', 'ES', 'GO', 'MA',\n",
              "       'MG', 'MS', 'MT', 'PA', 'PB', 'PE', 'PI', 'PR', 'RJ', 'RN', 'RO',\n",
              "       'RR', 'RS', 'SC', 'SE', 'SP', 'TO'], dtype=object)"
            ]
          },
          "metadata": {},
          "execution_count": 98
        }
      ]
    },
    {
      "cell_type": "code",
      "source": [
        "# Alterar os valores de sigla para descritivos\n",
        "candidatos['UF'] = candidatos['UF'].map({\n",
        "    'AC': 'ACRE',\n",
        "    'AL': 'ALAGOAS',\n",
        "    'AP': 'AMAPÁ',\n",
        "    'AM': 'AMAZONAS',\n",
        "    'BA': 'BAHIA',\n",
        "    'BR': 'BRASIL',\n",
        "    'CE': 'CEARÁ',\n",
        "    'ES': 'ESPÍRITO SANTO',\n",
        "    'GO': 'GOIÁS',\n",
        "    'MA': 'MARANHÃO',\n",
        "    'MT': 'MATO GROSSO',\n",
        "    'MS': 'MATO GROSSO DO SUL',\n",
        "    'MG': 'MINAS GERAIS',\n",
        "    'PA': 'PARÁ',\n",
        "    'PB': 'PARAÍBA',\n",
        "    'PR': 'PARANÁ',\n",
        "    'PE': 'PERNAMBUCO',\n",
        "    'PI': 'PIAUÍ',\n",
        "    'RJ': 'RIO DE JANEIRO',\n",
        "    'RN': 'RIO GRANDE DO NORTE',\n",
        "    'RS': 'RIO GRANDE DO SUL',\n",
        "    'RO': 'RONDÔNIA',\n",
        "    'RR': 'RORAIMA',\n",
        "    'SC': 'SANTA CATARINA',\n",
        "    'SP': 'SÃO PAULO',\n",
        "    'SE': 'SERGIPE',\n",
        "    'TO': 'TOCANTINS',\n",
        "    'DF': 'DISTRITO FEDERAL',\n",
        "    'ZZ': 'EXTERIOR'\n",
        "})\n",
        "candidatos['UF'].unique()"
      ],
      "metadata": {
        "colab": {
          "base_uri": "https://localhost:8080/"
        },
        "id": "d-t3lruO-CPm",
        "outputId": "b52891ef-669c-4894-f685-9f63043d1e4d"
      },
      "execution_count": 99,
      "outputs": [
        {
          "output_type": "execute_result",
          "data": {
            "text/plain": [
              "array(['RONDÔNIA', 'TOCANTINS', 'BAHIA', 'SANTA CATARINA',\n",
              "       'RIO GRANDE DO SUL', 'AMAZONAS', 'ALAGOAS', 'DISTRITO FEDERAL',\n",
              "       'SÃO PAULO', 'MINAS GERAIS', 'RIO DE JANEIRO', 'MARANHÃO', 'GOIÁS',\n",
              "       'PERNAMBUCO', 'CEARÁ', 'MATO GROSSO', 'PARANÁ',\n",
              "       'MATO GROSSO DO SUL', 'PARÁ', 'PIAUÍ', 'ACRE', 'SERGIPE',\n",
              "       'ESPÍRITO SANTO', 'RIO GRANDE DO NORTE', 'PARAÍBA', 'RORAIMA',\n",
              "       'AMAPÁ', 'BRASIL'], dtype=object)"
            ]
          },
          "metadata": {},
          "execution_count": 99
        }
      ]
    },
    {
      "cell_type": "markdown",
      "source": [
        "## Alterando o tipo da coluna NUMERO CANDIDATO para string"
      ],
      "metadata": {
        "id": "Ko5UEydTakaQ"
      }
    },
    {
      "cell_type": "code",
      "source": [
        "candidatos['NUMERO CANDIDATO'] = candidatos['NUMERO CANDIDATO'].astype(object)\n",
        "candidatos['NUMERO CANDIDATO'].dtype"
      ],
      "metadata": {
        "id": "-HAZFrzM8YGL",
        "colab": {
          "base_uri": "https://localhost:8080/"
        },
        "outputId": "73d3fc39-c910-4876-edd4-1738f07b8d20"
      },
      "execution_count": 100,
      "outputs": [
        {
          "output_type": "execute_result",
          "data": {
            "text/plain": [
              "dtype('O')"
            ]
          },
          "metadata": {},
          "execution_count": 100
        }
      ]
    },
    {
      "cell_type": "markdown",
      "source": [
        "## Ordenação dos nomes dos candidatos"
      ],
      "metadata": {
        "id": "tUnvQlJLaqSH"
      }
    },
    {
      "cell_type": "code",
      "source": [
        "candidatos = candidatos.sort_values('NOME DO CANDIDATO NA URNA')"
      ],
      "metadata": {
        "id": "qBh0_-wU6NJW"
      },
      "execution_count": 101,
      "outputs": []
    },
    {
      "cell_type": "markdown",
      "source": [
        "## Alterando os valores \\#NULO\\# para - na ocoluna NOME SOCIAL "
      ],
      "metadata": {
        "id": "9RbaHmnEatuV"
      }
    },
    {
      "cell_type": "code",
      "source": [
        "candidatos['NOME SOCIAL'] = candidatos['NOME SOCIAL'].replace(['#NULO#'], '-')\n",
        "candidatos['NOME SOCIAL'].isnull().sum()"
      ],
      "metadata": {
        "id": "Nc-Ud68Y5nNm",
        "colab": {
          "base_uri": "https://localhost:8080/"
        },
        "outputId": "e9e4e19a-5081-4e45-ec05-738c7c8c9962"
      },
      "execution_count": 102,
      "outputs": [
        {
          "output_type": "execute_result",
          "data": {
            "text/plain": [
              "0"
            ]
          },
          "metadata": {},
          "execution_count": 102
        }
      ]
    },
    {
      "cell_type": "markdown",
      "source": [
        "## Concatenando os valores de SG_PARTIDO e NM_PARTIDO e gerar uma nova coluna com os respectivos valores"
      ],
      "metadata": {
        "id": "FJaM-L7AbU7O"
      }
    },
    {
      "cell_type": "code",
      "source": [
        "candidatos['PARTIDO'] = candidatos['SIGLA PARTIDO'] + ' - ' + candidatos['NOME PARTIDO']\n",
        "candidatos.drop(['SIGLA PARTIDO', 'NOME PARTIDO'], axis=1, inplace=True)"
      ],
      "metadata": {
        "id": "0npgTjI5GHxD"
      },
      "execution_count": 103,
      "outputs": []
    },
    {
      "cell_type": "code",
      "source": [
        "candidatos.columns"
      ],
      "metadata": {
        "colab": {
          "base_uri": "https://localhost:8080/"
        },
        "id": "avVoVqJpHf35",
        "outputId": "15916ede-ec0a-4875-c793-6b3fa539f3d0"
      },
      "execution_count": 104,
      "outputs": [
        {
          "output_type": "execute_result",
          "data": {
            "text/plain": [
              "Index(['UF', 'SG_UE', 'NM_UE', 'CARGO ELEICAO', 'NUMERO CANDIDATO',\n",
              "       'NOME DO CANDIDATO NA URNA', 'NOME SOCIAL', 'SITUACAO CANDIDATURA',\n",
              "       'TIPO AGREMIACAO', 'NUMERO PARTIDO', 'NOME COLIGACAO',\n",
              "       'COMPOSICAO COLIGACAO', 'NACIONALIDADE', 'UF NASCIMENTO',\n",
              "       'MUNICIPIO NASCIMENTO', 'DATA NASCIMENTO', 'IDADE DATA POSSE', 'GENERO',\n",
              "       'ESCOLARIDADE', 'ESTADO CIVIL', 'COR/RACA', 'OCUPACAO',\n",
              "       'DESPESA CAMPANHA', 'REELEICAO', 'INSERIDO NA URNA', 'PARTIDO'],\n",
              "      dtype='object')"
            ]
          },
          "metadata": {},
          "execution_count": 104
        }
      ]
    },
    {
      "cell_type": "code",
      "source": [
        "candidatos.head()"
      ],
      "metadata": {
        "colab": {
          "base_uri": "https://localhost:8080/",
          "height": 0
        },
        "id": "qRurcTqycU0W",
        "outputId": "114ee735-f08f-4ea8-afd3-625309e5da0e"
      },
      "execution_count": 105,
      "outputs": [
        {
          "output_type": "execute_result",
          "data": {
            "text/plain": [
              "                   UF SG_UE           NM_UE      CARGO ELEICAO  \\\n",
              "18277  RIO DE JANEIRO    RJ  RIO DE JANEIRO   DEPUTADO FEDERAL   \n",
              "10150     MATO GROSSO    MT     MATO GROSSO  DEPUTADO ESTADUAL   \n",
              "5199        TOCANTINS    TO       TOCANTINS  DEPUTADO ESTADUAL   \n",
              "19593  SANTA CATARINA    SC  SANTA CATARINA  DEPUTADO ESTADUAL   \n",
              "27400  RIO DE JANEIRO    RJ  RIO DE JANEIRO  DEPUTADO ESTADUAL   \n",
              "\n",
              "      NUMERO CANDIDATO NOME DO CANDIDATO NA URNA NOME SOCIAL  \\\n",
              "18277             7050                   A VERA            -   \n",
              "10150            22100          ADAVILSO AZEVEDO           -   \n",
              "5199             14222             ADONAY DIVINO           -   \n",
              "19593            77022          AIRTONCORPOEALMA           -   \n",
              "27400            35677      ANA PAULA ETA GLORIA           -   \n",
              "\n",
              "      SITUACAO CANDIDATURA  TIPO AGREMIACAO  NUMERO PARTIDO  ...  \\\n",
              "18277           CADASTRADO  PARTIDO ISOLADO              70  ...   \n",
              "10150           CADASTRADO  PARTIDO ISOLADO              22  ...   \n",
              "5199            CADASTRADO  PARTIDO ISOLADO              14  ...   \n",
              "19593           CADASTRADO  PARTIDO ISOLADO              77  ...   \n",
              "27400           CADASTRADO  PARTIDO ISOLADO              35  ...   \n",
              "\n",
              "      IDADE DATA POSSE     GENERO             ESCOLARIDADE ESTADO CIVIL  \\\n",
              "18277             61.0   FEMININO      SUPERIOR INCOMPLETO    CASADO(A)   \n",
              "10150             43.0  MASCULINO  ENSINO MÉDIO INCOMPLETO    CASADO(A)   \n",
              "5199              43.0  MASCULINO    ENSINO MÉDIO COMPLETO    CASADO(A)   \n",
              "19593             54.0  MASCULINO  ENSINO MÉDIO INCOMPLETO    CASADO(A)   \n",
              "27400             48.0   FEMININO    ENSINO MÉDIO COMPLETO  SOLTEIRO(A)   \n",
              "\n",
              "      COR/RACA                                           OCUPACAO  \\\n",
              "18277   BRANCA                                             OUTROS   \n",
              "10150   BRANCA                                         EMPRESÁRIO   \n",
              "5199     PARDA  LOCUTOR E COMENTARISTA DE RÁDIO E TELEVISÃO E ...   \n",
              "19593   BRANCA                                             OUTROS   \n",
              "27400    PARDA                                         EMPRESÁRIO   \n",
              "\n",
              "       DESPESA CAMPANHA REELEICAO INSERIDO NA URNA  \\\n",
              "18277        3176572.53         N              NÃO   \n",
              "10150        1270629.01         N              NÃO   \n",
              "5199         1270629.01         N              NÃO   \n",
              "19593        1270629.01         N              NÃO   \n",
              "27400        1270629.01         N              NÃO   \n",
              "\n",
              "                                    PARTIDO  \n",
              "18277                       AVANTE - AVANTE  \n",
              "10150                  PL - PARTIDO LIBERAL  \n",
              "5199   PTB - PARTIDO TRABALHISTA BRASILEIRO  \n",
              "19593         SOLIDARIEDADE - SOLIDARIEDADE  \n",
              "27400    PMB - PARTIDO DA MULHER BRASILEIRA  \n",
              "\n",
              "[5 rows x 26 columns]"
            ],
            "text/html": [
              "\n",
              "  <div id=\"df-ab71b1bf-b42e-4bf2-af87-a9c269f8924c\">\n",
              "    <div class=\"colab-df-container\">\n",
              "      <div>\n",
              "<style scoped>\n",
              "    .dataframe tbody tr th:only-of-type {\n",
              "        vertical-align: middle;\n",
              "    }\n",
              "\n",
              "    .dataframe tbody tr th {\n",
              "        vertical-align: top;\n",
              "    }\n",
              "\n",
              "    .dataframe thead th {\n",
              "        text-align: right;\n",
              "    }\n",
              "</style>\n",
              "<table border=\"1\" class=\"dataframe\">\n",
              "  <thead>\n",
              "    <tr style=\"text-align: right;\">\n",
              "      <th></th>\n",
              "      <th>UF</th>\n",
              "      <th>SG_UE</th>\n",
              "      <th>NM_UE</th>\n",
              "      <th>CARGO ELEICAO</th>\n",
              "      <th>NUMERO CANDIDATO</th>\n",
              "      <th>NOME DO CANDIDATO NA URNA</th>\n",
              "      <th>NOME SOCIAL</th>\n",
              "      <th>SITUACAO CANDIDATURA</th>\n",
              "      <th>TIPO AGREMIACAO</th>\n",
              "      <th>NUMERO PARTIDO</th>\n",
              "      <th>...</th>\n",
              "      <th>IDADE DATA POSSE</th>\n",
              "      <th>GENERO</th>\n",
              "      <th>ESCOLARIDADE</th>\n",
              "      <th>ESTADO CIVIL</th>\n",
              "      <th>COR/RACA</th>\n",
              "      <th>OCUPACAO</th>\n",
              "      <th>DESPESA CAMPANHA</th>\n",
              "      <th>REELEICAO</th>\n",
              "      <th>INSERIDO NA URNA</th>\n",
              "      <th>PARTIDO</th>\n",
              "    </tr>\n",
              "  </thead>\n",
              "  <tbody>\n",
              "    <tr>\n",
              "      <th>18277</th>\n",
              "      <td>RIO DE JANEIRO</td>\n",
              "      <td>RJ</td>\n",
              "      <td>RIO DE JANEIRO</td>\n",
              "      <td>DEPUTADO FEDERAL</td>\n",
              "      <td>7050</td>\n",
              "      <td>A VERA</td>\n",
              "      <td>-</td>\n",
              "      <td>CADASTRADO</td>\n",
              "      <td>PARTIDO ISOLADO</td>\n",
              "      <td>70</td>\n",
              "      <td>...</td>\n",
              "      <td>61.0</td>\n",
              "      <td>FEMININO</td>\n",
              "      <td>SUPERIOR INCOMPLETO</td>\n",
              "      <td>CASADO(A)</td>\n",
              "      <td>BRANCA</td>\n",
              "      <td>OUTROS</td>\n",
              "      <td>3176572.53</td>\n",
              "      <td>N</td>\n",
              "      <td>NÃO</td>\n",
              "      <td>AVANTE - AVANTE</td>\n",
              "    </tr>\n",
              "    <tr>\n",
              "      <th>10150</th>\n",
              "      <td>MATO GROSSO</td>\n",
              "      <td>MT</td>\n",
              "      <td>MATO GROSSO</td>\n",
              "      <td>DEPUTADO ESTADUAL</td>\n",
              "      <td>22100</td>\n",
              "      <td>ADAVILSO AZEVEDO</td>\n",
              "      <td>-</td>\n",
              "      <td>CADASTRADO</td>\n",
              "      <td>PARTIDO ISOLADO</td>\n",
              "      <td>22</td>\n",
              "      <td>...</td>\n",
              "      <td>43.0</td>\n",
              "      <td>MASCULINO</td>\n",
              "      <td>ENSINO MÉDIO INCOMPLETO</td>\n",
              "      <td>CASADO(A)</td>\n",
              "      <td>BRANCA</td>\n",
              "      <td>EMPRESÁRIO</td>\n",
              "      <td>1270629.01</td>\n",
              "      <td>N</td>\n",
              "      <td>NÃO</td>\n",
              "      <td>PL - PARTIDO LIBERAL</td>\n",
              "    </tr>\n",
              "    <tr>\n",
              "      <th>5199</th>\n",
              "      <td>TOCANTINS</td>\n",
              "      <td>TO</td>\n",
              "      <td>TOCANTINS</td>\n",
              "      <td>DEPUTADO ESTADUAL</td>\n",
              "      <td>14222</td>\n",
              "      <td>ADONAY DIVINO</td>\n",
              "      <td>-</td>\n",
              "      <td>CADASTRADO</td>\n",
              "      <td>PARTIDO ISOLADO</td>\n",
              "      <td>14</td>\n",
              "      <td>...</td>\n",
              "      <td>43.0</td>\n",
              "      <td>MASCULINO</td>\n",
              "      <td>ENSINO MÉDIO COMPLETO</td>\n",
              "      <td>CASADO(A)</td>\n",
              "      <td>PARDA</td>\n",
              "      <td>LOCUTOR E COMENTARISTA DE RÁDIO E TELEVISÃO E ...</td>\n",
              "      <td>1270629.01</td>\n",
              "      <td>N</td>\n",
              "      <td>NÃO</td>\n",
              "      <td>PTB - PARTIDO TRABALHISTA BRASILEIRO</td>\n",
              "    </tr>\n",
              "    <tr>\n",
              "      <th>19593</th>\n",
              "      <td>SANTA CATARINA</td>\n",
              "      <td>SC</td>\n",
              "      <td>SANTA CATARINA</td>\n",
              "      <td>DEPUTADO ESTADUAL</td>\n",
              "      <td>77022</td>\n",
              "      <td>AIRTONCORPOEALMA</td>\n",
              "      <td>-</td>\n",
              "      <td>CADASTRADO</td>\n",
              "      <td>PARTIDO ISOLADO</td>\n",
              "      <td>77</td>\n",
              "      <td>...</td>\n",
              "      <td>54.0</td>\n",
              "      <td>MASCULINO</td>\n",
              "      <td>ENSINO MÉDIO INCOMPLETO</td>\n",
              "      <td>CASADO(A)</td>\n",
              "      <td>BRANCA</td>\n",
              "      <td>OUTROS</td>\n",
              "      <td>1270629.01</td>\n",
              "      <td>N</td>\n",
              "      <td>NÃO</td>\n",
              "      <td>SOLIDARIEDADE - SOLIDARIEDADE</td>\n",
              "    </tr>\n",
              "    <tr>\n",
              "      <th>27400</th>\n",
              "      <td>RIO DE JANEIRO</td>\n",
              "      <td>RJ</td>\n",
              "      <td>RIO DE JANEIRO</td>\n",
              "      <td>DEPUTADO ESTADUAL</td>\n",
              "      <td>35677</td>\n",
              "      <td>ANA PAULA ETA GLORIA</td>\n",
              "      <td>-</td>\n",
              "      <td>CADASTRADO</td>\n",
              "      <td>PARTIDO ISOLADO</td>\n",
              "      <td>35</td>\n",
              "      <td>...</td>\n",
              "      <td>48.0</td>\n",
              "      <td>FEMININO</td>\n",
              "      <td>ENSINO MÉDIO COMPLETO</td>\n",
              "      <td>SOLTEIRO(A)</td>\n",
              "      <td>PARDA</td>\n",
              "      <td>EMPRESÁRIO</td>\n",
              "      <td>1270629.01</td>\n",
              "      <td>N</td>\n",
              "      <td>NÃO</td>\n",
              "      <td>PMB - PARTIDO DA MULHER BRASILEIRA</td>\n",
              "    </tr>\n",
              "  </tbody>\n",
              "</table>\n",
              "<p>5 rows × 26 columns</p>\n",
              "</div>\n",
              "      <button class=\"colab-df-convert\" onclick=\"convertToInteractive('df-ab71b1bf-b42e-4bf2-af87-a9c269f8924c')\"\n",
              "              title=\"Convert this dataframe to an interactive table.\"\n",
              "              style=\"display:none;\">\n",
              "        \n",
              "  <svg xmlns=\"http://www.w3.org/2000/svg\" height=\"24px\"viewBox=\"0 0 24 24\"\n",
              "       width=\"24px\">\n",
              "    <path d=\"M0 0h24v24H0V0z\" fill=\"none\"/>\n",
              "    <path d=\"M18.56 5.44l.94 2.06.94-2.06 2.06-.94-2.06-.94-.94-2.06-.94 2.06-2.06.94zm-11 1L8.5 8.5l.94-2.06 2.06-.94-2.06-.94L8.5 2.5l-.94 2.06-2.06.94zm10 10l.94 2.06.94-2.06 2.06-.94-2.06-.94-.94-2.06-.94 2.06-2.06.94z\"/><path d=\"M17.41 7.96l-1.37-1.37c-.4-.4-.92-.59-1.43-.59-.52 0-1.04.2-1.43.59L10.3 9.45l-7.72 7.72c-.78.78-.78 2.05 0 2.83L4 21.41c.39.39.9.59 1.41.59.51 0 1.02-.2 1.41-.59l7.78-7.78 2.81-2.81c.8-.78.8-2.07 0-2.86zM5.41 20L4 18.59l7.72-7.72 1.47 1.35L5.41 20z\"/>\n",
              "  </svg>\n",
              "      </button>\n",
              "      \n",
              "  <style>\n",
              "    .colab-df-container {\n",
              "      display:flex;\n",
              "      flex-wrap:wrap;\n",
              "      gap: 12px;\n",
              "    }\n",
              "\n",
              "    .colab-df-convert {\n",
              "      background-color: #E8F0FE;\n",
              "      border: none;\n",
              "      border-radius: 50%;\n",
              "      cursor: pointer;\n",
              "      display: none;\n",
              "      fill: #1967D2;\n",
              "      height: 32px;\n",
              "      padding: 0 0 0 0;\n",
              "      width: 32px;\n",
              "    }\n",
              "\n",
              "    .colab-df-convert:hover {\n",
              "      background-color: #E2EBFA;\n",
              "      box-shadow: 0px 1px 2px rgba(60, 64, 67, 0.3), 0px 1px 3px 1px rgba(60, 64, 67, 0.15);\n",
              "      fill: #174EA6;\n",
              "    }\n",
              "\n",
              "    [theme=dark] .colab-df-convert {\n",
              "      background-color: #3B4455;\n",
              "      fill: #D2E3FC;\n",
              "    }\n",
              "\n",
              "    [theme=dark] .colab-df-convert:hover {\n",
              "      background-color: #434B5C;\n",
              "      box-shadow: 0px 1px 3px 1px rgba(0, 0, 0, 0.15);\n",
              "      filter: drop-shadow(0px 1px 2px rgba(0, 0, 0, 0.3));\n",
              "      fill: #FFFFFF;\n",
              "    }\n",
              "  </style>\n",
              "\n",
              "      <script>\n",
              "        const buttonEl =\n",
              "          document.querySelector('#df-ab71b1bf-b42e-4bf2-af87-a9c269f8924c button.colab-df-convert');\n",
              "        buttonEl.style.display =\n",
              "          google.colab.kernel.accessAllowed ? 'block' : 'none';\n",
              "\n",
              "        async function convertToInteractive(key) {\n",
              "          const element = document.querySelector('#df-ab71b1bf-b42e-4bf2-af87-a9c269f8924c');\n",
              "          const dataTable =\n",
              "            await google.colab.kernel.invokeFunction('convertToInteractive',\n",
              "                                                     [key], {});\n",
              "          if (!dataTable) return;\n",
              "\n",
              "          const docLinkHtml = 'Like what you see? Visit the ' +\n",
              "            '<a target=\"_blank\" href=https://colab.research.google.com/notebooks/data_table.ipynb>data table notebook</a>'\n",
              "            + ' to learn more about interactive tables.';\n",
              "          element.innerHTML = '';\n",
              "          dataTable['output_type'] = 'display_data';\n",
              "          await google.colab.output.renderOutput(dataTable, element);\n",
              "          const docLink = document.createElement('div');\n",
              "          docLink.innerHTML = docLinkHtml;\n",
              "          element.appendChild(docLink);\n",
              "        }\n",
              "      </script>\n",
              "    </div>\n",
              "  </div>\n",
              "  "
            ]
          },
          "metadata": {},
          "execution_count": 105
        }
      ]
    },
    {
      "cell_type": "markdown",
      "source": [
        "## Alterando valores da coluna REELEICAO"
      ],
      "metadata": {
        "id": "pL_H2MdbiKTC"
      }
    },
    {
      "cell_type": "code",
      "source": [
        "candidatos['REELEICAO'].value_counts()"
      ],
      "metadata": {
        "colab": {
          "base_uri": "https://localhost:8080/"
        },
        "id": "9-s_ML7UipAm",
        "outputId": "e69f6b3d-5fae-468c-a1dd-ee82165c8c93"
      },
      "execution_count": 106,
      "outputs": [
        {
          "output_type": "execute_result",
          "data": {
            "text/plain": [
              "N                 27259\n",
              "S                  1327\n",
              "Não divulgável       10\n",
              "Name: REELEICAO, dtype: int64"
            ]
          },
          "metadata": {},
          "execution_count": 106
        }
      ]
    },
    {
      "cell_type": "code",
      "source": [
        "candidatos['REELEICAO'] = candidatos['REELEICAO'].map({\n",
        "    'S': 'SIM',\n",
        "    'N': 'NAO'\n",
        "})\n",
        "candidatos['REELEICAO'].isnull().sum()"
      ],
      "metadata": {
        "colab": {
          "base_uri": "https://localhost:8080/"
        },
        "id": "lAoNalcJiRh4",
        "outputId": "89782e2a-7cd5-4d7f-b121-fffb8c3df39a"
      },
      "execution_count": 107,
      "outputs": [
        {
          "output_type": "execute_result",
          "data": {
            "text/plain": [
              "10"
            ]
          },
          "metadata": {},
          "execution_count": 107
        }
      ]
    },
    {
      "cell_type": "markdown",
      "source": [
        "## Criando coluna de Faixa Etária"
      ],
      "metadata": {
        "id": "NtgP4FyCmkoz"
      }
    },
    {
      "cell_type": "code",
      "source": [
        "idades = candidatos['IDADE DATA POSSE']"
      ],
      "metadata": {
        "id": "-c5QusW1nPlZ"
      },
      "execution_count": 108,
      "outputs": []
    },
    {
      "cell_type": "code",
      "source": [
        "idades.value_counts()"
      ],
      "metadata": {
        "colab": {
          "base_uri": "https://localhost:8080/"
        },
        "id": "B0ais3z7m6s4",
        "outputId": "92b5b620-aced-44fe-f52a-c92eac314b66"
      },
      "execution_count": 109,
      "outputs": [
        {
          "output_type": "execute_result",
          "data": {
            "text/plain": [
              "50.0    1038\n",
              "47.0     983\n",
              "48.0     974\n",
              "44.0     956\n",
              "49.0     939\n",
              "        ... \n",
              "92.0       1\n",
              "87.0       1\n",
              "88.0       1\n",
              "18.0       1\n",
              "89.0       1\n",
              "Name: IDADE DATA POSSE, Length: 74, dtype: int64"
            ]
          },
          "metadata": {},
          "execution_count": 109
        }
      ]
    },
    {
      "cell_type": "code",
      "source": [
        "idades.min(), idades.max()"
      ],
      "metadata": {
        "colab": {
          "base_uri": "https://localhost:8080/"
        },
        "id": "gLRGiq9Zm5km",
        "outputId": "23d47cf2-8403-4511-f210-ddf7dab02d6b"
      },
      "execution_count": 110,
      "outputs": [
        {
          "output_type": "execute_result",
          "data": {
            "text/plain": [
              "(18.0, 96.0)"
            ]
          },
          "metadata": {},
          "execution_count": 110
        }
      ]
    },
    {
      "cell_type": "code",
      "source": [
        "faixa_etaria = []\n",
        "for idade in idades:\n",
        "  if idade == 18 or idade == 19 or idade == 20:\n",
        "    faixa_etaria.append(f'{idade} anos')\n",
        "  elif idade > 20 and idade < 25:\n",
        "    faixa_etaria.append('21 a 24 anos')\n",
        "  elif idade > 24 and idade < 30:\n",
        "    faixa_etaria.append('25 a 29 anos')\n",
        "  elif idade > 29 and idade < 35:\n",
        "    faixa_etaria.append('30 a 34 anos')\n",
        "  elif idade > 34 and idade < 40:\n",
        "    faixa_etaria.append('35 a 39 anos')\n",
        "  elif idade > 39 and idade < 45:\n",
        "    faixa_etaria.append('40 a 44 anos')\n",
        "  elif idade > 44 and idade < 50:\n",
        "    faixa_etaria.append('45 a 49 anos')\n",
        "  elif idade > 49 and idade < 55:\n",
        "    faixa_etaria.append('50 a 54 anos')\n",
        "  elif idade > 54 and idade < 60:\n",
        "    faixa_etaria.append('55 a 59 anos')\n",
        "  elif idade > 59 and idade < 65:\n",
        "    faixa_etaria.append('60 a 64 anos')\n",
        "  elif idade > 64 and idade < 70:\n",
        "    faixa_etaria.append('65 a 69 anos')\n",
        "  elif idade > 69 and idade < 75:\n",
        "    faixa_etaria.append('70 a 74 anos')\n",
        "  elif idade > 74 and idade < 80:\n",
        "    faixa_etaria.append('75 a 79 anos')\n",
        "  elif idade > 79 and idade < 85:\n",
        "    faixa_etaria.append('80 a 84 anos')\n",
        "  elif idade > 84 and idade < 90:\n",
        "    faixa_etaria.append('85 a 89 anos')\n",
        "  elif idade > 89 and idade < 95:\n",
        "    faixa_etaria.append('90 a 94 anos')\n",
        "  elif idade > 94:\n",
        "    faixa_etaria.append('95 a 99 anos')\n",
        "  else:\n",
        "    faixa_etaria.append('Inválido')\n",
        "len(faixa_etaria)"
      ],
      "metadata": {
        "colab": {
          "base_uri": "https://localhost:8080/"
        },
        "id": "AYiEJFStnMTe",
        "outputId": "4b1627cf-292a-4b14-82b1-0beb5d954c80"
      },
      "execution_count": 111,
      "outputs": [
        {
          "output_type": "execute_result",
          "data": {
            "text/plain": [
              "28596"
            ]
          },
          "metadata": {},
          "execution_count": 111
        }
      ]
    },
    {
      "cell_type": "code",
      "source": [
        "candidatos['IDADE DATA POSSE'] = faixa_etaria\n",
        "candidatos.rename(columns={'IDADE DATA POSSE': 'FAIXA ETARIA'}, inplace=True)\n",
        "candidatos.head()"
      ],
      "metadata": {
        "colab": {
          "base_uri": "https://localhost:8080/",
          "height": 0
        },
        "id": "uAQpVvgwqaqY",
        "outputId": "c1d277b4-d7f5-44c4-cc89-4317f38f5b8e"
      },
      "execution_count": 112,
      "outputs": [
        {
          "output_type": "execute_result",
          "data": {
            "text/plain": [
              "                   UF SG_UE           NM_UE      CARGO ELEICAO  \\\n",
              "18277  RIO DE JANEIRO    RJ  RIO DE JANEIRO   DEPUTADO FEDERAL   \n",
              "10150     MATO GROSSO    MT     MATO GROSSO  DEPUTADO ESTADUAL   \n",
              "5199        TOCANTINS    TO       TOCANTINS  DEPUTADO ESTADUAL   \n",
              "19593  SANTA CATARINA    SC  SANTA CATARINA  DEPUTADO ESTADUAL   \n",
              "27400  RIO DE JANEIRO    RJ  RIO DE JANEIRO  DEPUTADO ESTADUAL   \n",
              "\n",
              "      NUMERO CANDIDATO NOME DO CANDIDATO NA URNA NOME SOCIAL  \\\n",
              "18277             7050                   A VERA            -   \n",
              "10150            22100          ADAVILSO AZEVEDO           -   \n",
              "5199             14222             ADONAY DIVINO           -   \n",
              "19593            77022          AIRTONCORPOEALMA           -   \n",
              "27400            35677      ANA PAULA ETA GLORIA           -   \n",
              "\n",
              "      SITUACAO CANDIDATURA  TIPO AGREMIACAO  NUMERO PARTIDO  ...  \\\n",
              "18277           CADASTRADO  PARTIDO ISOLADO              70  ...   \n",
              "10150           CADASTRADO  PARTIDO ISOLADO              22  ...   \n",
              "5199            CADASTRADO  PARTIDO ISOLADO              14  ...   \n",
              "19593           CADASTRADO  PARTIDO ISOLADO              77  ...   \n",
              "27400           CADASTRADO  PARTIDO ISOLADO              35  ...   \n",
              "\n",
              "       FAIXA ETARIA     GENERO             ESCOLARIDADE ESTADO CIVIL COR/RACA  \\\n",
              "18277  60 a 64 anos   FEMININO      SUPERIOR INCOMPLETO    CASADO(A)   BRANCA   \n",
              "10150  40 a 44 anos  MASCULINO  ENSINO MÉDIO INCOMPLETO    CASADO(A)   BRANCA   \n",
              "5199   40 a 44 anos  MASCULINO    ENSINO MÉDIO COMPLETO    CASADO(A)    PARDA   \n",
              "19593  50 a 54 anos  MASCULINO  ENSINO MÉDIO INCOMPLETO    CASADO(A)   BRANCA   \n",
              "27400  45 a 49 anos   FEMININO    ENSINO MÉDIO COMPLETO  SOLTEIRO(A)    PARDA   \n",
              "\n",
              "                                                OCUPACAO DESPESA CAMPANHA  \\\n",
              "18277                                             OUTROS       3176572.53   \n",
              "10150                                         EMPRESÁRIO       1270629.01   \n",
              "5199   LOCUTOR E COMENTARISTA DE RÁDIO E TELEVISÃO E ...       1270629.01   \n",
              "19593                                             OUTROS       1270629.01   \n",
              "27400                                         EMPRESÁRIO       1270629.01   \n",
              "\n",
              "      REELEICAO INSERIDO NA URNA                               PARTIDO  \n",
              "18277       NAO              NÃO                       AVANTE - AVANTE  \n",
              "10150       NAO              NÃO                  PL - PARTIDO LIBERAL  \n",
              "5199        NAO              NÃO  PTB - PARTIDO TRABALHISTA BRASILEIRO  \n",
              "19593       NAO              NÃO         SOLIDARIEDADE - SOLIDARIEDADE  \n",
              "27400       NAO              NÃO    PMB - PARTIDO DA MULHER BRASILEIRA  \n",
              "\n",
              "[5 rows x 26 columns]"
            ],
            "text/html": [
              "\n",
              "  <div id=\"df-c384350c-8b41-40d4-8191-ae868335d467\">\n",
              "    <div class=\"colab-df-container\">\n",
              "      <div>\n",
              "<style scoped>\n",
              "    .dataframe tbody tr th:only-of-type {\n",
              "        vertical-align: middle;\n",
              "    }\n",
              "\n",
              "    .dataframe tbody tr th {\n",
              "        vertical-align: top;\n",
              "    }\n",
              "\n",
              "    .dataframe thead th {\n",
              "        text-align: right;\n",
              "    }\n",
              "</style>\n",
              "<table border=\"1\" class=\"dataframe\">\n",
              "  <thead>\n",
              "    <tr style=\"text-align: right;\">\n",
              "      <th></th>\n",
              "      <th>UF</th>\n",
              "      <th>SG_UE</th>\n",
              "      <th>NM_UE</th>\n",
              "      <th>CARGO ELEICAO</th>\n",
              "      <th>NUMERO CANDIDATO</th>\n",
              "      <th>NOME DO CANDIDATO NA URNA</th>\n",
              "      <th>NOME SOCIAL</th>\n",
              "      <th>SITUACAO CANDIDATURA</th>\n",
              "      <th>TIPO AGREMIACAO</th>\n",
              "      <th>NUMERO PARTIDO</th>\n",
              "      <th>...</th>\n",
              "      <th>FAIXA ETARIA</th>\n",
              "      <th>GENERO</th>\n",
              "      <th>ESCOLARIDADE</th>\n",
              "      <th>ESTADO CIVIL</th>\n",
              "      <th>COR/RACA</th>\n",
              "      <th>OCUPACAO</th>\n",
              "      <th>DESPESA CAMPANHA</th>\n",
              "      <th>REELEICAO</th>\n",
              "      <th>INSERIDO NA URNA</th>\n",
              "      <th>PARTIDO</th>\n",
              "    </tr>\n",
              "  </thead>\n",
              "  <tbody>\n",
              "    <tr>\n",
              "      <th>18277</th>\n",
              "      <td>RIO DE JANEIRO</td>\n",
              "      <td>RJ</td>\n",
              "      <td>RIO DE JANEIRO</td>\n",
              "      <td>DEPUTADO FEDERAL</td>\n",
              "      <td>7050</td>\n",
              "      <td>A VERA</td>\n",
              "      <td>-</td>\n",
              "      <td>CADASTRADO</td>\n",
              "      <td>PARTIDO ISOLADO</td>\n",
              "      <td>70</td>\n",
              "      <td>...</td>\n",
              "      <td>60 a 64 anos</td>\n",
              "      <td>FEMININO</td>\n",
              "      <td>SUPERIOR INCOMPLETO</td>\n",
              "      <td>CASADO(A)</td>\n",
              "      <td>BRANCA</td>\n",
              "      <td>OUTROS</td>\n",
              "      <td>3176572.53</td>\n",
              "      <td>NAO</td>\n",
              "      <td>NÃO</td>\n",
              "      <td>AVANTE - AVANTE</td>\n",
              "    </tr>\n",
              "    <tr>\n",
              "      <th>10150</th>\n",
              "      <td>MATO GROSSO</td>\n",
              "      <td>MT</td>\n",
              "      <td>MATO GROSSO</td>\n",
              "      <td>DEPUTADO ESTADUAL</td>\n",
              "      <td>22100</td>\n",
              "      <td>ADAVILSO AZEVEDO</td>\n",
              "      <td>-</td>\n",
              "      <td>CADASTRADO</td>\n",
              "      <td>PARTIDO ISOLADO</td>\n",
              "      <td>22</td>\n",
              "      <td>...</td>\n",
              "      <td>40 a 44 anos</td>\n",
              "      <td>MASCULINO</td>\n",
              "      <td>ENSINO MÉDIO INCOMPLETO</td>\n",
              "      <td>CASADO(A)</td>\n",
              "      <td>BRANCA</td>\n",
              "      <td>EMPRESÁRIO</td>\n",
              "      <td>1270629.01</td>\n",
              "      <td>NAO</td>\n",
              "      <td>NÃO</td>\n",
              "      <td>PL - PARTIDO LIBERAL</td>\n",
              "    </tr>\n",
              "    <tr>\n",
              "      <th>5199</th>\n",
              "      <td>TOCANTINS</td>\n",
              "      <td>TO</td>\n",
              "      <td>TOCANTINS</td>\n",
              "      <td>DEPUTADO ESTADUAL</td>\n",
              "      <td>14222</td>\n",
              "      <td>ADONAY DIVINO</td>\n",
              "      <td>-</td>\n",
              "      <td>CADASTRADO</td>\n",
              "      <td>PARTIDO ISOLADO</td>\n",
              "      <td>14</td>\n",
              "      <td>...</td>\n",
              "      <td>40 a 44 anos</td>\n",
              "      <td>MASCULINO</td>\n",
              "      <td>ENSINO MÉDIO COMPLETO</td>\n",
              "      <td>CASADO(A)</td>\n",
              "      <td>PARDA</td>\n",
              "      <td>LOCUTOR E COMENTARISTA DE RÁDIO E TELEVISÃO E ...</td>\n",
              "      <td>1270629.01</td>\n",
              "      <td>NAO</td>\n",
              "      <td>NÃO</td>\n",
              "      <td>PTB - PARTIDO TRABALHISTA BRASILEIRO</td>\n",
              "    </tr>\n",
              "    <tr>\n",
              "      <th>19593</th>\n",
              "      <td>SANTA CATARINA</td>\n",
              "      <td>SC</td>\n",
              "      <td>SANTA CATARINA</td>\n",
              "      <td>DEPUTADO ESTADUAL</td>\n",
              "      <td>77022</td>\n",
              "      <td>AIRTONCORPOEALMA</td>\n",
              "      <td>-</td>\n",
              "      <td>CADASTRADO</td>\n",
              "      <td>PARTIDO ISOLADO</td>\n",
              "      <td>77</td>\n",
              "      <td>...</td>\n",
              "      <td>50 a 54 anos</td>\n",
              "      <td>MASCULINO</td>\n",
              "      <td>ENSINO MÉDIO INCOMPLETO</td>\n",
              "      <td>CASADO(A)</td>\n",
              "      <td>BRANCA</td>\n",
              "      <td>OUTROS</td>\n",
              "      <td>1270629.01</td>\n",
              "      <td>NAO</td>\n",
              "      <td>NÃO</td>\n",
              "      <td>SOLIDARIEDADE - SOLIDARIEDADE</td>\n",
              "    </tr>\n",
              "    <tr>\n",
              "      <th>27400</th>\n",
              "      <td>RIO DE JANEIRO</td>\n",
              "      <td>RJ</td>\n",
              "      <td>RIO DE JANEIRO</td>\n",
              "      <td>DEPUTADO ESTADUAL</td>\n",
              "      <td>35677</td>\n",
              "      <td>ANA PAULA ETA GLORIA</td>\n",
              "      <td>-</td>\n",
              "      <td>CADASTRADO</td>\n",
              "      <td>PARTIDO ISOLADO</td>\n",
              "      <td>35</td>\n",
              "      <td>...</td>\n",
              "      <td>45 a 49 anos</td>\n",
              "      <td>FEMININO</td>\n",
              "      <td>ENSINO MÉDIO COMPLETO</td>\n",
              "      <td>SOLTEIRO(A)</td>\n",
              "      <td>PARDA</td>\n",
              "      <td>EMPRESÁRIO</td>\n",
              "      <td>1270629.01</td>\n",
              "      <td>NAO</td>\n",
              "      <td>NÃO</td>\n",
              "      <td>PMB - PARTIDO DA MULHER BRASILEIRA</td>\n",
              "    </tr>\n",
              "  </tbody>\n",
              "</table>\n",
              "<p>5 rows × 26 columns</p>\n",
              "</div>\n",
              "      <button class=\"colab-df-convert\" onclick=\"convertToInteractive('df-c384350c-8b41-40d4-8191-ae868335d467')\"\n",
              "              title=\"Convert this dataframe to an interactive table.\"\n",
              "              style=\"display:none;\">\n",
              "        \n",
              "  <svg xmlns=\"http://www.w3.org/2000/svg\" height=\"24px\"viewBox=\"0 0 24 24\"\n",
              "       width=\"24px\">\n",
              "    <path d=\"M0 0h24v24H0V0z\" fill=\"none\"/>\n",
              "    <path d=\"M18.56 5.44l.94 2.06.94-2.06 2.06-.94-2.06-.94-.94-2.06-.94 2.06-2.06.94zm-11 1L8.5 8.5l.94-2.06 2.06-.94-2.06-.94L8.5 2.5l-.94 2.06-2.06.94zm10 10l.94 2.06.94-2.06 2.06-.94-2.06-.94-.94-2.06-.94 2.06-2.06.94z\"/><path d=\"M17.41 7.96l-1.37-1.37c-.4-.4-.92-.59-1.43-.59-.52 0-1.04.2-1.43.59L10.3 9.45l-7.72 7.72c-.78.78-.78 2.05 0 2.83L4 21.41c.39.39.9.59 1.41.59.51 0 1.02-.2 1.41-.59l7.78-7.78 2.81-2.81c.8-.78.8-2.07 0-2.86zM5.41 20L4 18.59l7.72-7.72 1.47 1.35L5.41 20z\"/>\n",
              "  </svg>\n",
              "      </button>\n",
              "      \n",
              "  <style>\n",
              "    .colab-df-container {\n",
              "      display:flex;\n",
              "      flex-wrap:wrap;\n",
              "      gap: 12px;\n",
              "    }\n",
              "\n",
              "    .colab-df-convert {\n",
              "      background-color: #E8F0FE;\n",
              "      border: none;\n",
              "      border-radius: 50%;\n",
              "      cursor: pointer;\n",
              "      display: none;\n",
              "      fill: #1967D2;\n",
              "      height: 32px;\n",
              "      padding: 0 0 0 0;\n",
              "      width: 32px;\n",
              "    }\n",
              "\n",
              "    .colab-df-convert:hover {\n",
              "      background-color: #E2EBFA;\n",
              "      box-shadow: 0px 1px 2px rgba(60, 64, 67, 0.3), 0px 1px 3px 1px rgba(60, 64, 67, 0.15);\n",
              "      fill: #174EA6;\n",
              "    }\n",
              "\n",
              "    [theme=dark] .colab-df-convert {\n",
              "      background-color: #3B4455;\n",
              "      fill: #D2E3FC;\n",
              "    }\n",
              "\n",
              "    [theme=dark] .colab-df-convert:hover {\n",
              "      background-color: #434B5C;\n",
              "      box-shadow: 0px 1px 3px 1px rgba(0, 0, 0, 0.15);\n",
              "      filter: drop-shadow(0px 1px 2px rgba(0, 0, 0, 0.3));\n",
              "      fill: #FFFFFF;\n",
              "    }\n",
              "  </style>\n",
              "\n",
              "      <script>\n",
              "        const buttonEl =\n",
              "          document.querySelector('#df-c384350c-8b41-40d4-8191-ae868335d467 button.colab-df-convert');\n",
              "        buttonEl.style.display =\n",
              "          google.colab.kernel.accessAllowed ? 'block' : 'none';\n",
              "\n",
              "        async function convertToInteractive(key) {\n",
              "          const element = document.querySelector('#df-c384350c-8b41-40d4-8191-ae868335d467');\n",
              "          const dataTable =\n",
              "            await google.colab.kernel.invokeFunction('convertToInteractive',\n",
              "                                                     [key], {});\n",
              "          if (!dataTable) return;\n",
              "\n",
              "          const docLinkHtml = 'Like what you see? Visit the ' +\n",
              "            '<a target=\"_blank\" href=https://colab.research.google.com/notebooks/data_table.ipynb>data table notebook</a>'\n",
              "            + ' to learn more about interactive tables.';\n",
              "          element.innerHTML = '';\n",
              "          dataTable['output_type'] = 'display_data';\n",
              "          await google.colab.output.renderOutput(dataTable, element);\n",
              "          const docLink = document.createElement('div');\n",
              "          docLink.innerHTML = docLinkHtml;\n",
              "          element.appendChild(docLink);\n",
              "        }\n",
              "      </script>\n",
              "    </div>\n",
              "  </div>\n",
              "  "
            ]
          },
          "metadata": {},
          "execution_count": 112
        }
      ]
    },
    {
      "cell_type": "markdown",
      "source": [
        "## Selecionando colunas necessárias"
      ],
      "metadata": {
        "id": "5UARPVk95kYv"
      }
    },
    {
      "cell_type": "code",
      "source": [
        "candidatos.head()"
      ],
      "metadata": {
        "colab": {
          "base_uri": "https://localhost:8080/",
          "height": 0
        },
        "id": "eR4E4awm5rAh",
        "outputId": "818e6476-359c-4217-8f08-805b8e2acc6c"
      },
      "execution_count": 113,
      "outputs": [
        {
          "output_type": "execute_result",
          "data": {
            "text/plain": [
              "                   UF SG_UE           NM_UE      CARGO ELEICAO  \\\n",
              "18277  RIO DE JANEIRO    RJ  RIO DE JANEIRO   DEPUTADO FEDERAL   \n",
              "10150     MATO GROSSO    MT     MATO GROSSO  DEPUTADO ESTADUAL   \n",
              "5199        TOCANTINS    TO       TOCANTINS  DEPUTADO ESTADUAL   \n",
              "19593  SANTA CATARINA    SC  SANTA CATARINA  DEPUTADO ESTADUAL   \n",
              "27400  RIO DE JANEIRO    RJ  RIO DE JANEIRO  DEPUTADO ESTADUAL   \n",
              "\n",
              "      NUMERO CANDIDATO NOME DO CANDIDATO NA URNA NOME SOCIAL  \\\n",
              "18277             7050                   A VERA            -   \n",
              "10150            22100          ADAVILSO AZEVEDO           -   \n",
              "5199             14222             ADONAY DIVINO           -   \n",
              "19593            77022          AIRTONCORPOEALMA           -   \n",
              "27400            35677      ANA PAULA ETA GLORIA           -   \n",
              "\n",
              "      SITUACAO CANDIDATURA  TIPO AGREMIACAO  NUMERO PARTIDO  ...  \\\n",
              "18277           CADASTRADO  PARTIDO ISOLADO              70  ...   \n",
              "10150           CADASTRADO  PARTIDO ISOLADO              22  ...   \n",
              "5199            CADASTRADO  PARTIDO ISOLADO              14  ...   \n",
              "19593           CADASTRADO  PARTIDO ISOLADO              77  ...   \n",
              "27400           CADASTRADO  PARTIDO ISOLADO              35  ...   \n",
              "\n",
              "       FAIXA ETARIA     GENERO             ESCOLARIDADE ESTADO CIVIL COR/RACA  \\\n",
              "18277  60 a 64 anos   FEMININO      SUPERIOR INCOMPLETO    CASADO(A)   BRANCA   \n",
              "10150  40 a 44 anos  MASCULINO  ENSINO MÉDIO INCOMPLETO    CASADO(A)   BRANCA   \n",
              "5199   40 a 44 anos  MASCULINO    ENSINO MÉDIO COMPLETO    CASADO(A)    PARDA   \n",
              "19593  50 a 54 anos  MASCULINO  ENSINO MÉDIO INCOMPLETO    CASADO(A)   BRANCA   \n",
              "27400  45 a 49 anos   FEMININO    ENSINO MÉDIO COMPLETO  SOLTEIRO(A)    PARDA   \n",
              "\n",
              "                                                OCUPACAO DESPESA CAMPANHA  \\\n",
              "18277                                             OUTROS       3176572.53   \n",
              "10150                                         EMPRESÁRIO       1270629.01   \n",
              "5199   LOCUTOR E COMENTARISTA DE RÁDIO E TELEVISÃO E ...       1270629.01   \n",
              "19593                                             OUTROS       1270629.01   \n",
              "27400                                         EMPRESÁRIO       1270629.01   \n",
              "\n",
              "      REELEICAO INSERIDO NA URNA                               PARTIDO  \n",
              "18277       NAO              NÃO                       AVANTE - AVANTE  \n",
              "10150       NAO              NÃO                  PL - PARTIDO LIBERAL  \n",
              "5199        NAO              NÃO  PTB - PARTIDO TRABALHISTA BRASILEIRO  \n",
              "19593       NAO              NÃO         SOLIDARIEDADE - SOLIDARIEDADE  \n",
              "27400       NAO              NÃO    PMB - PARTIDO DA MULHER BRASILEIRA  \n",
              "\n",
              "[5 rows x 26 columns]"
            ],
            "text/html": [
              "\n",
              "  <div id=\"df-c6cd70b1-974e-498e-97e5-7d68b875b9e8\">\n",
              "    <div class=\"colab-df-container\">\n",
              "      <div>\n",
              "<style scoped>\n",
              "    .dataframe tbody tr th:only-of-type {\n",
              "        vertical-align: middle;\n",
              "    }\n",
              "\n",
              "    .dataframe tbody tr th {\n",
              "        vertical-align: top;\n",
              "    }\n",
              "\n",
              "    .dataframe thead th {\n",
              "        text-align: right;\n",
              "    }\n",
              "</style>\n",
              "<table border=\"1\" class=\"dataframe\">\n",
              "  <thead>\n",
              "    <tr style=\"text-align: right;\">\n",
              "      <th></th>\n",
              "      <th>UF</th>\n",
              "      <th>SG_UE</th>\n",
              "      <th>NM_UE</th>\n",
              "      <th>CARGO ELEICAO</th>\n",
              "      <th>NUMERO CANDIDATO</th>\n",
              "      <th>NOME DO CANDIDATO NA URNA</th>\n",
              "      <th>NOME SOCIAL</th>\n",
              "      <th>SITUACAO CANDIDATURA</th>\n",
              "      <th>TIPO AGREMIACAO</th>\n",
              "      <th>NUMERO PARTIDO</th>\n",
              "      <th>...</th>\n",
              "      <th>FAIXA ETARIA</th>\n",
              "      <th>GENERO</th>\n",
              "      <th>ESCOLARIDADE</th>\n",
              "      <th>ESTADO CIVIL</th>\n",
              "      <th>COR/RACA</th>\n",
              "      <th>OCUPACAO</th>\n",
              "      <th>DESPESA CAMPANHA</th>\n",
              "      <th>REELEICAO</th>\n",
              "      <th>INSERIDO NA URNA</th>\n",
              "      <th>PARTIDO</th>\n",
              "    </tr>\n",
              "  </thead>\n",
              "  <tbody>\n",
              "    <tr>\n",
              "      <th>18277</th>\n",
              "      <td>RIO DE JANEIRO</td>\n",
              "      <td>RJ</td>\n",
              "      <td>RIO DE JANEIRO</td>\n",
              "      <td>DEPUTADO FEDERAL</td>\n",
              "      <td>7050</td>\n",
              "      <td>A VERA</td>\n",
              "      <td>-</td>\n",
              "      <td>CADASTRADO</td>\n",
              "      <td>PARTIDO ISOLADO</td>\n",
              "      <td>70</td>\n",
              "      <td>...</td>\n",
              "      <td>60 a 64 anos</td>\n",
              "      <td>FEMININO</td>\n",
              "      <td>SUPERIOR INCOMPLETO</td>\n",
              "      <td>CASADO(A)</td>\n",
              "      <td>BRANCA</td>\n",
              "      <td>OUTROS</td>\n",
              "      <td>3176572.53</td>\n",
              "      <td>NAO</td>\n",
              "      <td>NÃO</td>\n",
              "      <td>AVANTE - AVANTE</td>\n",
              "    </tr>\n",
              "    <tr>\n",
              "      <th>10150</th>\n",
              "      <td>MATO GROSSO</td>\n",
              "      <td>MT</td>\n",
              "      <td>MATO GROSSO</td>\n",
              "      <td>DEPUTADO ESTADUAL</td>\n",
              "      <td>22100</td>\n",
              "      <td>ADAVILSO AZEVEDO</td>\n",
              "      <td>-</td>\n",
              "      <td>CADASTRADO</td>\n",
              "      <td>PARTIDO ISOLADO</td>\n",
              "      <td>22</td>\n",
              "      <td>...</td>\n",
              "      <td>40 a 44 anos</td>\n",
              "      <td>MASCULINO</td>\n",
              "      <td>ENSINO MÉDIO INCOMPLETO</td>\n",
              "      <td>CASADO(A)</td>\n",
              "      <td>BRANCA</td>\n",
              "      <td>EMPRESÁRIO</td>\n",
              "      <td>1270629.01</td>\n",
              "      <td>NAO</td>\n",
              "      <td>NÃO</td>\n",
              "      <td>PL - PARTIDO LIBERAL</td>\n",
              "    </tr>\n",
              "    <tr>\n",
              "      <th>5199</th>\n",
              "      <td>TOCANTINS</td>\n",
              "      <td>TO</td>\n",
              "      <td>TOCANTINS</td>\n",
              "      <td>DEPUTADO ESTADUAL</td>\n",
              "      <td>14222</td>\n",
              "      <td>ADONAY DIVINO</td>\n",
              "      <td>-</td>\n",
              "      <td>CADASTRADO</td>\n",
              "      <td>PARTIDO ISOLADO</td>\n",
              "      <td>14</td>\n",
              "      <td>...</td>\n",
              "      <td>40 a 44 anos</td>\n",
              "      <td>MASCULINO</td>\n",
              "      <td>ENSINO MÉDIO COMPLETO</td>\n",
              "      <td>CASADO(A)</td>\n",
              "      <td>PARDA</td>\n",
              "      <td>LOCUTOR E COMENTARISTA DE RÁDIO E TELEVISÃO E ...</td>\n",
              "      <td>1270629.01</td>\n",
              "      <td>NAO</td>\n",
              "      <td>NÃO</td>\n",
              "      <td>PTB - PARTIDO TRABALHISTA BRASILEIRO</td>\n",
              "    </tr>\n",
              "    <tr>\n",
              "      <th>19593</th>\n",
              "      <td>SANTA CATARINA</td>\n",
              "      <td>SC</td>\n",
              "      <td>SANTA CATARINA</td>\n",
              "      <td>DEPUTADO ESTADUAL</td>\n",
              "      <td>77022</td>\n",
              "      <td>AIRTONCORPOEALMA</td>\n",
              "      <td>-</td>\n",
              "      <td>CADASTRADO</td>\n",
              "      <td>PARTIDO ISOLADO</td>\n",
              "      <td>77</td>\n",
              "      <td>...</td>\n",
              "      <td>50 a 54 anos</td>\n",
              "      <td>MASCULINO</td>\n",
              "      <td>ENSINO MÉDIO INCOMPLETO</td>\n",
              "      <td>CASADO(A)</td>\n",
              "      <td>BRANCA</td>\n",
              "      <td>OUTROS</td>\n",
              "      <td>1270629.01</td>\n",
              "      <td>NAO</td>\n",
              "      <td>NÃO</td>\n",
              "      <td>SOLIDARIEDADE - SOLIDARIEDADE</td>\n",
              "    </tr>\n",
              "    <tr>\n",
              "      <th>27400</th>\n",
              "      <td>RIO DE JANEIRO</td>\n",
              "      <td>RJ</td>\n",
              "      <td>RIO DE JANEIRO</td>\n",
              "      <td>DEPUTADO ESTADUAL</td>\n",
              "      <td>35677</td>\n",
              "      <td>ANA PAULA ETA GLORIA</td>\n",
              "      <td>-</td>\n",
              "      <td>CADASTRADO</td>\n",
              "      <td>PARTIDO ISOLADO</td>\n",
              "      <td>35</td>\n",
              "      <td>...</td>\n",
              "      <td>45 a 49 anos</td>\n",
              "      <td>FEMININO</td>\n",
              "      <td>ENSINO MÉDIO COMPLETO</td>\n",
              "      <td>SOLTEIRO(A)</td>\n",
              "      <td>PARDA</td>\n",
              "      <td>EMPRESÁRIO</td>\n",
              "      <td>1270629.01</td>\n",
              "      <td>NAO</td>\n",
              "      <td>NÃO</td>\n",
              "      <td>PMB - PARTIDO DA MULHER BRASILEIRA</td>\n",
              "    </tr>\n",
              "  </tbody>\n",
              "</table>\n",
              "<p>5 rows × 26 columns</p>\n",
              "</div>\n",
              "      <button class=\"colab-df-convert\" onclick=\"convertToInteractive('df-c6cd70b1-974e-498e-97e5-7d68b875b9e8')\"\n",
              "              title=\"Convert this dataframe to an interactive table.\"\n",
              "              style=\"display:none;\">\n",
              "        \n",
              "  <svg xmlns=\"http://www.w3.org/2000/svg\" height=\"24px\"viewBox=\"0 0 24 24\"\n",
              "       width=\"24px\">\n",
              "    <path d=\"M0 0h24v24H0V0z\" fill=\"none\"/>\n",
              "    <path d=\"M18.56 5.44l.94 2.06.94-2.06 2.06-.94-2.06-.94-.94-2.06-.94 2.06-2.06.94zm-11 1L8.5 8.5l.94-2.06 2.06-.94-2.06-.94L8.5 2.5l-.94 2.06-2.06.94zm10 10l.94 2.06.94-2.06 2.06-.94-2.06-.94-.94-2.06-.94 2.06-2.06.94z\"/><path d=\"M17.41 7.96l-1.37-1.37c-.4-.4-.92-.59-1.43-.59-.52 0-1.04.2-1.43.59L10.3 9.45l-7.72 7.72c-.78.78-.78 2.05 0 2.83L4 21.41c.39.39.9.59 1.41.59.51 0 1.02-.2 1.41-.59l7.78-7.78 2.81-2.81c.8-.78.8-2.07 0-2.86zM5.41 20L4 18.59l7.72-7.72 1.47 1.35L5.41 20z\"/>\n",
              "  </svg>\n",
              "      </button>\n",
              "      \n",
              "  <style>\n",
              "    .colab-df-container {\n",
              "      display:flex;\n",
              "      flex-wrap:wrap;\n",
              "      gap: 12px;\n",
              "    }\n",
              "\n",
              "    .colab-df-convert {\n",
              "      background-color: #E8F0FE;\n",
              "      border: none;\n",
              "      border-radius: 50%;\n",
              "      cursor: pointer;\n",
              "      display: none;\n",
              "      fill: #1967D2;\n",
              "      height: 32px;\n",
              "      padding: 0 0 0 0;\n",
              "      width: 32px;\n",
              "    }\n",
              "\n",
              "    .colab-df-convert:hover {\n",
              "      background-color: #E2EBFA;\n",
              "      box-shadow: 0px 1px 2px rgba(60, 64, 67, 0.3), 0px 1px 3px 1px rgba(60, 64, 67, 0.15);\n",
              "      fill: #174EA6;\n",
              "    }\n",
              "\n",
              "    [theme=dark] .colab-df-convert {\n",
              "      background-color: #3B4455;\n",
              "      fill: #D2E3FC;\n",
              "    }\n",
              "\n",
              "    [theme=dark] .colab-df-convert:hover {\n",
              "      background-color: #434B5C;\n",
              "      box-shadow: 0px 1px 3px 1px rgba(0, 0, 0, 0.15);\n",
              "      filter: drop-shadow(0px 1px 2px rgba(0, 0, 0, 0.3));\n",
              "      fill: #FFFFFF;\n",
              "    }\n",
              "  </style>\n",
              "\n",
              "      <script>\n",
              "        const buttonEl =\n",
              "          document.querySelector('#df-c6cd70b1-974e-498e-97e5-7d68b875b9e8 button.colab-df-convert');\n",
              "        buttonEl.style.display =\n",
              "          google.colab.kernel.accessAllowed ? 'block' : 'none';\n",
              "\n",
              "        async function convertToInteractive(key) {\n",
              "          const element = document.querySelector('#df-c6cd70b1-974e-498e-97e5-7d68b875b9e8');\n",
              "          const dataTable =\n",
              "            await google.colab.kernel.invokeFunction('convertToInteractive',\n",
              "                                                     [key], {});\n",
              "          if (!dataTable) return;\n",
              "\n",
              "          const docLinkHtml = 'Like what you see? Visit the ' +\n",
              "            '<a target=\"_blank\" href=https://colab.research.google.com/notebooks/data_table.ipynb>data table notebook</a>'\n",
              "            + ' to learn more about interactive tables.';\n",
              "          element.innerHTML = '';\n",
              "          dataTable['output_type'] = 'display_data';\n",
              "          await google.colab.output.renderOutput(dataTable, element);\n",
              "          const docLink = document.createElement('div');\n",
              "          docLink.innerHTML = docLinkHtml;\n",
              "          element.appendChild(docLink);\n",
              "        }\n",
              "      </script>\n",
              "    </div>\n",
              "  </div>\n",
              "  "
            ]
          },
          "metadata": {},
          "execution_count": 113
        }
      ]
    },
    {
      "cell_type": "markdown",
      "source": [
        "## Geração de DataFrame de partidos"
      ],
      "metadata": {
        "id": "UzLefvF_eET6"
      }
    },
    {
      "cell_type": "code",
      "source": [
        "partidos = candidatos.copy()\n",
        "partidos.head(3)"
      ],
      "metadata": {
        "colab": {
          "base_uri": "https://localhost:8080/",
          "height": 0
        },
        "id": "KQJbQaPNeUPF",
        "outputId": "451211c7-8c7e-4bbd-d99f-42bb77bb27ca"
      },
      "execution_count": 114,
      "outputs": [
        {
          "output_type": "execute_result",
          "data": {
            "text/plain": [
              "                   UF SG_UE           NM_UE      CARGO ELEICAO  \\\n",
              "18277  RIO DE JANEIRO    RJ  RIO DE JANEIRO   DEPUTADO FEDERAL   \n",
              "10150     MATO GROSSO    MT     MATO GROSSO  DEPUTADO ESTADUAL   \n",
              "5199        TOCANTINS    TO       TOCANTINS  DEPUTADO ESTADUAL   \n",
              "\n",
              "      NUMERO CANDIDATO NOME DO CANDIDATO NA URNA NOME SOCIAL  \\\n",
              "18277             7050                   A VERA            -   \n",
              "10150            22100          ADAVILSO AZEVEDO           -   \n",
              "5199             14222             ADONAY DIVINO           -   \n",
              "\n",
              "      SITUACAO CANDIDATURA  TIPO AGREMIACAO  NUMERO PARTIDO  ...  \\\n",
              "18277           CADASTRADO  PARTIDO ISOLADO              70  ...   \n",
              "10150           CADASTRADO  PARTIDO ISOLADO              22  ...   \n",
              "5199            CADASTRADO  PARTIDO ISOLADO              14  ...   \n",
              "\n",
              "       FAIXA ETARIA     GENERO             ESCOLARIDADE ESTADO CIVIL COR/RACA  \\\n",
              "18277  60 a 64 anos   FEMININO      SUPERIOR INCOMPLETO    CASADO(A)   BRANCA   \n",
              "10150  40 a 44 anos  MASCULINO  ENSINO MÉDIO INCOMPLETO    CASADO(A)   BRANCA   \n",
              "5199   40 a 44 anos  MASCULINO    ENSINO MÉDIO COMPLETO    CASADO(A)    PARDA   \n",
              "\n",
              "                                                OCUPACAO DESPESA CAMPANHA  \\\n",
              "18277                                             OUTROS       3176572.53   \n",
              "10150                                         EMPRESÁRIO       1270629.01   \n",
              "5199   LOCUTOR E COMENTARISTA DE RÁDIO E TELEVISÃO E ...       1270629.01   \n",
              "\n",
              "      REELEICAO INSERIDO NA URNA                               PARTIDO  \n",
              "18277       NAO              NÃO                       AVANTE - AVANTE  \n",
              "10150       NAO              NÃO                  PL - PARTIDO LIBERAL  \n",
              "5199        NAO              NÃO  PTB - PARTIDO TRABALHISTA BRASILEIRO  \n",
              "\n",
              "[3 rows x 26 columns]"
            ],
            "text/html": [
              "\n",
              "  <div id=\"df-639af75e-60a6-4122-99e7-e166b2ea9536\">\n",
              "    <div class=\"colab-df-container\">\n",
              "      <div>\n",
              "<style scoped>\n",
              "    .dataframe tbody tr th:only-of-type {\n",
              "        vertical-align: middle;\n",
              "    }\n",
              "\n",
              "    .dataframe tbody tr th {\n",
              "        vertical-align: top;\n",
              "    }\n",
              "\n",
              "    .dataframe thead th {\n",
              "        text-align: right;\n",
              "    }\n",
              "</style>\n",
              "<table border=\"1\" class=\"dataframe\">\n",
              "  <thead>\n",
              "    <tr style=\"text-align: right;\">\n",
              "      <th></th>\n",
              "      <th>UF</th>\n",
              "      <th>SG_UE</th>\n",
              "      <th>NM_UE</th>\n",
              "      <th>CARGO ELEICAO</th>\n",
              "      <th>NUMERO CANDIDATO</th>\n",
              "      <th>NOME DO CANDIDATO NA URNA</th>\n",
              "      <th>NOME SOCIAL</th>\n",
              "      <th>SITUACAO CANDIDATURA</th>\n",
              "      <th>TIPO AGREMIACAO</th>\n",
              "      <th>NUMERO PARTIDO</th>\n",
              "      <th>...</th>\n",
              "      <th>FAIXA ETARIA</th>\n",
              "      <th>GENERO</th>\n",
              "      <th>ESCOLARIDADE</th>\n",
              "      <th>ESTADO CIVIL</th>\n",
              "      <th>COR/RACA</th>\n",
              "      <th>OCUPACAO</th>\n",
              "      <th>DESPESA CAMPANHA</th>\n",
              "      <th>REELEICAO</th>\n",
              "      <th>INSERIDO NA URNA</th>\n",
              "      <th>PARTIDO</th>\n",
              "    </tr>\n",
              "  </thead>\n",
              "  <tbody>\n",
              "    <tr>\n",
              "      <th>18277</th>\n",
              "      <td>RIO DE JANEIRO</td>\n",
              "      <td>RJ</td>\n",
              "      <td>RIO DE JANEIRO</td>\n",
              "      <td>DEPUTADO FEDERAL</td>\n",
              "      <td>7050</td>\n",
              "      <td>A VERA</td>\n",
              "      <td>-</td>\n",
              "      <td>CADASTRADO</td>\n",
              "      <td>PARTIDO ISOLADO</td>\n",
              "      <td>70</td>\n",
              "      <td>...</td>\n",
              "      <td>60 a 64 anos</td>\n",
              "      <td>FEMININO</td>\n",
              "      <td>SUPERIOR INCOMPLETO</td>\n",
              "      <td>CASADO(A)</td>\n",
              "      <td>BRANCA</td>\n",
              "      <td>OUTROS</td>\n",
              "      <td>3176572.53</td>\n",
              "      <td>NAO</td>\n",
              "      <td>NÃO</td>\n",
              "      <td>AVANTE - AVANTE</td>\n",
              "    </tr>\n",
              "    <tr>\n",
              "      <th>10150</th>\n",
              "      <td>MATO GROSSO</td>\n",
              "      <td>MT</td>\n",
              "      <td>MATO GROSSO</td>\n",
              "      <td>DEPUTADO ESTADUAL</td>\n",
              "      <td>22100</td>\n",
              "      <td>ADAVILSO AZEVEDO</td>\n",
              "      <td>-</td>\n",
              "      <td>CADASTRADO</td>\n",
              "      <td>PARTIDO ISOLADO</td>\n",
              "      <td>22</td>\n",
              "      <td>...</td>\n",
              "      <td>40 a 44 anos</td>\n",
              "      <td>MASCULINO</td>\n",
              "      <td>ENSINO MÉDIO INCOMPLETO</td>\n",
              "      <td>CASADO(A)</td>\n",
              "      <td>BRANCA</td>\n",
              "      <td>EMPRESÁRIO</td>\n",
              "      <td>1270629.01</td>\n",
              "      <td>NAO</td>\n",
              "      <td>NÃO</td>\n",
              "      <td>PL - PARTIDO LIBERAL</td>\n",
              "    </tr>\n",
              "    <tr>\n",
              "      <th>5199</th>\n",
              "      <td>TOCANTINS</td>\n",
              "      <td>TO</td>\n",
              "      <td>TOCANTINS</td>\n",
              "      <td>DEPUTADO ESTADUAL</td>\n",
              "      <td>14222</td>\n",
              "      <td>ADONAY DIVINO</td>\n",
              "      <td>-</td>\n",
              "      <td>CADASTRADO</td>\n",
              "      <td>PARTIDO ISOLADO</td>\n",
              "      <td>14</td>\n",
              "      <td>...</td>\n",
              "      <td>40 a 44 anos</td>\n",
              "      <td>MASCULINO</td>\n",
              "      <td>ENSINO MÉDIO COMPLETO</td>\n",
              "      <td>CASADO(A)</td>\n",
              "      <td>PARDA</td>\n",
              "      <td>LOCUTOR E COMENTARISTA DE RÁDIO E TELEVISÃO E ...</td>\n",
              "      <td>1270629.01</td>\n",
              "      <td>NAO</td>\n",
              "      <td>NÃO</td>\n",
              "      <td>PTB - PARTIDO TRABALHISTA BRASILEIRO</td>\n",
              "    </tr>\n",
              "  </tbody>\n",
              "</table>\n",
              "<p>3 rows × 26 columns</p>\n",
              "</div>\n",
              "      <button class=\"colab-df-convert\" onclick=\"convertToInteractive('df-639af75e-60a6-4122-99e7-e166b2ea9536')\"\n",
              "              title=\"Convert this dataframe to an interactive table.\"\n",
              "              style=\"display:none;\">\n",
              "        \n",
              "  <svg xmlns=\"http://www.w3.org/2000/svg\" height=\"24px\"viewBox=\"0 0 24 24\"\n",
              "       width=\"24px\">\n",
              "    <path d=\"M0 0h24v24H0V0z\" fill=\"none\"/>\n",
              "    <path d=\"M18.56 5.44l.94 2.06.94-2.06 2.06-.94-2.06-.94-.94-2.06-.94 2.06-2.06.94zm-11 1L8.5 8.5l.94-2.06 2.06-.94-2.06-.94L8.5 2.5l-.94 2.06-2.06.94zm10 10l.94 2.06.94-2.06 2.06-.94-2.06-.94-.94-2.06-.94 2.06-2.06.94z\"/><path d=\"M17.41 7.96l-1.37-1.37c-.4-.4-.92-.59-1.43-.59-.52 0-1.04.2-1.43.59L10.3 9.45l-7.72 7.72c-.78.78-.78 2.05 0 2.83L4 21.41c.39.39.9.59 1.41.59.51 0 1.02-.2 1.41-.59l7.78-7.78 2.81-2.81c.8-.78.8-2.07 0-2.86zM5.41 20L4 18.59l7.72-7.72 1.47 1.35L5.41 20z\"/>\n",
              "  </svg>\n",
              "      </button>\n",
              "      \n",
              "  <style>\n",
              "    .colab-df-container {\n",
              "      display:flex;\n",
              "      flex-wrap:wrap;\n",
              "      gap: 12px;\n",
              "    }\n",
              "\n",
              "    .colab-df-convert {\n",
              "      background-color: #E8F0FE;\n",
              "      border: none;\n",
              "      border-radius: 50%;\n",
              "      cursor: pointer;\n",
              "      display: none;\n",
              "      fill: #1967D2;\n",
              "      height: 32px;\n",
              "      padding: 0 0 0 0;\n",
              "      width: 32px;\n",
              "    }\n",
              "\n",
              "    .colab-df-convert:hover {\n",
              "      background-color: #E2EBFA;\n",
              "      box-shadow: 0px 1px 2px rgba(60, 64, 67, 0.3), 0px 1px 3px 1px rgba(60, 64, 67, 0.15);\n",
              "      fill: #174EA6;\n",
              "    }\n",
              "\n",
              "    [theme=dark] .colab-df-convert {\n",
              "      background-color: #3B4455;\n",
              "      fill: #D2E3FC;\n",
              "    }\n",
              "\n",
              "    [theme=dark] .colab-df-convert:hover {\n",
              "      background-color: #434B5C;\n",
              "      box-shadow: 0px 1px 3px 1px rgba(0, 0, 0, 0.15);\n",
              "      filter: drop-shadow(0px 1px 2px rgba(0, 0, 0, 0.3));\n",
              "      fill: #FFFFFF;\n",
              "    }\n",
              "  </style>\n",
              "\n",
              "      <script>\n",
              "        const buttonEl =\n",
              "          document.querySelector('#df-639af75e-60a6-4122-99e7-e166b2ea9536 button.colab-df-convert');\n",
              "        buttonEl.style.display =\n",
              "          google.colab.kernel.accessAllowed ? 'block' : 'none';\n",
              "\n",
              "        async function convertToInteractive(key) {\n",
              "          const element = document.querySelector('#df-639af75e-60a6-4122-99e7-e166b2ea9536');\n",
              "          const dataTable =\n",
              "            await google.colab.kernel.invokeFunction('convertToInteractive',\n",
              "                                                     [key], {});\n",
              "          if (!dataTable) return;\n",
              "\n",
              "          const docLinkHtml = 'Like what you see? Visit the ' +\n",
              "            '<a target=\"_blank\" href=https://colab.research.google.com/notebooks/data_table.ipynb>data table notebook</a>'\n",
              "            + ' to learn more about interactive tables.';\n",
              "          element.innerHTML = '';\n",
              "          dataTable['output_type'] = 'display_data';\n",
              "          await google.colab.output.renderOutput(dataTable, element);\n",
              "          const docLink = document.createElement('div');\n",
              "          docLink.innerHTML = docLinkHtml;\n",
              "          element.appendChild(docLink);\n",
              "        }\n",
              "      </script>\n",
              "    </div>\n",
              "  </div>\n",
              "  "
            ]
          },
          "metadata": {},
          "execution_count": 114
        }
      ]
    },
    {
      "cell_type": "markdown",
      "source": [
        "### Seleção das colunas necessárias"
      ],
      "metadata": {
        "id": "1dnVFcuWgQxS"
      }
    },
    {
      "cell_type": "code",
      "source": [
        "partidos = partidos[['PARTIDO', 'NUMERO PARTIDO', 'UF', 'CARGO ELEICAO', 'NOME COLIGACAO', 'ESCOLARIDADE', 'GENERO', 'FAIXA ETARIA', 'ESTADO CIVIL', 'COR/RACA', 'REELEICAO']]\n",
        "partidos.head()"
      ],
      "metadata": {
        "colab": {
          "base_uri": "https://localhost:8080/",
          "height": 0
        },
        "id": "AH5ewt0OeaAg",
        "outputId": "9b0b408c-0b6d-4a0a-b99d-335669c76f60"
      },
      "execution_count": 115,
      "outputs": [
        {
          "output_type": "execute_result",
          "data": {
            "text/plain": [
              "                                    PARTIDO  NUMERO PARTIDO              UF  \\\n",
              "18277                       AVANTE - AVANTE              70  RIO DE JANEIRO   \n",
              "10150                  PL - PARTIDO LIBERAL              22     MATO GROSSO   \n",
              "5199   PTB - PARTIDO TRABALHISTA BRASILEIRO              14       TOCANTINS   \n",
              "19593         SOLIDARIEDADE - SOLIDARIEDADE              77  SANTA CATARINA   \n",
              "27400    PMB - PARTIDO DA MULHER BRASILEIRA              35  RIO DE JANEIRO   \n",
              "\n",
              "           CARGO ELEICAO   NOME COLIGACAO             ESCOLARIDADE     GENERO  \\\n",
              "18277   DEPUTADO FEDERAL  PARTIDO ISOLADO      SUPERIOR INCOMPLETO   FEMININO   \n",
              "10150  DEPUTADO ESTADUAL  PARTIDO ISOLADO  ENSINO MÉDIO INCOMPLETO  MASCULINO   \n",
              "5199   DEPUTADO ESTADUAL  PARTIDO ISOLADO    ENSINO MÉDIO COMPLETO  MASCULINO   \n",
              "19593  DEPUTADO ESTADUAL  PARTIDO ISOLADO  ENSINO MÉDIO INCOMPLETO  MASCULINO   \n",
              "27400  DEPUTADO ESTADUAL  PARTIDO ISOLADO    ENSINO MÉDIO COMPLETO   FEMININO   \n",
              "\n",
              "       FAIXA ETARIA ESTADO CIVIL COR/RACA REELEICAO  \n",
              "18277  60 a 64 anos    CASADO(A)   BRANCA       NAO  \n",
              "10150  40 a 44 anos    CASADO(A)   BRANCA       NAO  \n",
              "5199   40 a 44 anos    CASADO(A)    PARDA       NAO  \n",
              "19593  50 a 54 anos    CASADO(A)   BRANCA       NAO  \n",
              "27400  45 a 49 anos  SOLTEIRO(A)    PARDA       NAO  "
            ],
            "text/html": [
              "\n",
              "  <div id=\"df-49c0a5f3-8251-49e8-9b56-91d9691dd114\">\n",
              "    <div class=\"colab-df-container\">\n",
              "      <div>\n",
              "<style scoped>\n",
              "    .dataframe tbody tr th:only-of-type {\n",
              "        vertical-align: middle;\n",
              "    }\n",
              "\n",
              "    .dataframe tbody tr th {\n",
              "        vertical-align: top;\n",
              "    }\n",
              "\n",
              "    .dataframe thead th {\n",
              "        text-align: right;\n",
              "    }\n",
              "</style>\n",
              "<table border=\"1\" class=\"dataframe\">\n",
              "  <thead>\n",
              "    <tr style=\"text-align: right;\">\n",
              "      <th></th>\n",
              "      <th>PARTIDO</th>\n",
              "      <th>NUMERO PARTIDO</th>\n",
              "      <th>UF</th>\n",
              "      <th>CARGO ELEICAO</th>\n",
              "      <th>NOME COLIGACAO</th>\n",
              "      <th>ESCOLARIDADE</th>\n",
              "      <th>GENERO</th>\n",
              "      <th>FAIXA ETARIA</th>\n",
              "      <th>ESTADO CIVIL</th>\n",
              "      <th>COR/RACA</th>\n",
              "      <th>REELEICAO</th>\n",
              "    </tr>\n",
              "  </thead>\n",
              "  <tbody>\n",
              "    <tr>\n",
              "      <th>18277</th>\n",
              "      <td>AVANTE - AVANTE</td>\n",
              "      <td>70</td>\n",
              "      <td>RIO DE JANEIRO</td>\n",
              "      <td>DEPUTADO FEDERAL</td>\n",
              "      <td>PARTIDO ISOLADO</td>\n",
              "      <td>SUPERIOR INCOMPLETO</td>\n",
              "      <td>FEMININO</td>\n",
              "      <td>60 a 64 anos</td>\n",
              "      <td>CASADO(A)</td>\n",
              "      <td>BRANCA</td>\n",
              "      <td>NAO</td>\n",
              "    </tr>\n",
              "    <tr>\n",
              "      <th>10150</th>\n",
              "      <td>PL - PARTIDO LIBERAL</td>\n",
              "      <td>22</td>\n",
              "      <td>MATO GROSSO</td>\n",
              "      <td>DEPUTADO ESTADUAL</td>\n",
              "      <td>PARTIDO ISOLADO</td>\n",
              "      <td>ENSINO MÉDIO INCOMPLETO</td>\n",
              "      <td>MASCULINO</td>\n",
              "      <td>40 a 44 anos</td>\n",
              "      <td>CASADO(A)</td>\n",
              "      <td>BRANCA</td>\n",
              "      <td>NAO</td>\n",
              "    </tr>\n",
              "    <tr>\n",
              "      <th>5199</th>\n",
              "      <td>PTB - PARTIDO TRABALHISTA BRASILEIRO</td>\n",
              "      <td>14</td>\n",
              "      <td>TOCANTINS</td>\n",
              "      <td>DEPUTADO ESTADUAL</td>\n",
              "      <td>PARTIDO ISOLADO</td>\n",
              "      <td>ENSINO MÉDIO COMPLETO</td>\n",
              "      <td>MASCULINO</td>\n",
              "      <td>40 a 44 anos</td>\n",
              "      <td>CASADO(A)</td>\n",
              "      <td>PARDA</td>\n",
              "      <td>NAO</td>\n",
              "    </tr>\n",
              "    <tr>\n",
              "      <th>19593</th>\n",
              "      <td>SOLIDARIEDADE - SOLIDARIEDADE</td>\n",
              "      <td>77</td>\n",
              "      <td>SANTA CATARINA</td>\n",
              "      <td>DEPUTADO ESTADUAL</td>\n",
              "      <td>PARTIDO ISOLADO</td>\n",
              "      <td>ENSINO MÉDIO INCOMPLETO</td>\n",
              "      <td>MASCULINO</td>\n",
              "      <td>50 a 54 anos</td>\n",
              "      <td>CASADO(A)</td>\n",
              "      <td>BRANCA</td>\n",
              "      <td>NAO</td>\n",
              "    </tr>\n",
              "    <tr>\n",
              "      <th>27400</th>\n",
              "      <td>PMB - PARTIDO DA MULHER BRASILEIRA</td>\n",
              "      <td>35</td>\n",
              "      <td>RIO DE JANEIRO</td>\n",
              "      <td>DEPUTADO ESTADUAL</td>\n",
              "      <td>PARTIDO ISOLADO</td>\n",
              "      <td>ENSINO MÉDIO COMPLETO</td>\n",
              "      <td>FEMININO</td>\n",
              "      <td>45 a 49 anos</td>\n",
              "      <td>SOLTEIRO(A)</td>\n",
              "      <td>PARDA</td>\n",
              "      <td>NAO</td>\n",
              "    </tr>\n",
              "  </tbody>\n",
              "</table>\n",
              "</div>\n",
              "      <button class=\"colab-df-convert\" onclick=\"convertToInteractive('df-49c0a5f3-8251-49e8-9b56-91d9691dd114')\"\n",
              "              title=\"Convert this dataframe to an interactive table.\"\n",
              "              style=\"display:none;\">\n",
              "        \n",
              "  <svg xmlns=\"http://www.w3.org/2000/svg\" height=\"24px\"viewBox=\"0 0 24 24\"\n",
              "       width=\"24px\">\n",
              "    <path d=\"M0 0h24v24H0V0z\" fill=\"none\"/>\n",
              "    <path d=\"M18.56 5.44l.94 2.06.94-2.06 2.06-.94-2.06-.94-.94-2.06-.94 2.06-2.06.94zm-11 1L8.5 8.5l.94-2.06 2.06-.94-2.06-.94L8.5 2.5l-.94 2.06-2.06.94zm10 10l.94 2.06.94-2.06 2.06-.94-2.06-.94-.94-2.06-.94 2.06-2.06.94z\"/><path d=\"M17.41 7.96l-1.37-1.37c-.4-.4-.92-.59-1.43-.59-.52 0-1.04.2-1.43.59L10.3 9.45l-7.72 7.72c-.78.78-.78 2.05 0 2.83L4 21.41c.39.39.9.59 1.41.59.51 0 1.02-.2 1.41-.59l7.78-7.78 2.81-2.81c.8-.78.8-2.07 0-2.86zM5.41 20L4 18.59l7.72-7.72 1.47 1.35L5.41 20z\"/>\n",
              "  </svg>\n",
              "      </button>\n",
              "      \n",
              "  <style>\n",
              "    .colab-df-container {\n",
              "      display:flex;\n",
              "      flex-wrap:wrap;\n",
              "      gap: 12px;\n",
              "    }\n",
              "\n",
              "    .colab-df-convert {\n",
              "      background-color: #E8F0FE;\n",
              "      border: none;\n",
              "      border-radius: 50%;\n",
              "      cursor: pointer;\n",
              "      display: none;\n",
              "      fill: #1967D2;\n",
              "      height: 32px;\n",
              "      padding: 0 0 0 0;\n",
              "      width: 32px;\n",
              "    }\n",
              "\n",
              "    .colab-df-convert:hover {\n",
              "      background-color: #E2EBFA;\n",
              "      box-shadow: 0px 1px 2px rgba(60, 64, 67, 0.3), 0px 1px 3px 1px rgba(60, 64, 67, 0.15);\n",
              "      fill: #174EA6;\n",
              "    }\n",
              "\n",
              "    [theme=dark] .colab-df-convert {\n",
              "      background-color: #3B4455;\n",
              "      fill: #D2E3FC;\n",
              "    }\n",
              "\n",
              "    [theme=dark] .colab-df-convert:hover {\n",
              "      background-color: #434B5C;\n",
              "      box-shadow: 0px 1px 3px 1px rgba(0, 0, 0, 0.15);\n",
              "      filter: drop-shadow(0px 1px 2px rgba(0, 0, 0, 0.3));\n",
              "      fill: #FFFFFF;\n",
              "    }\n",
              "  </style>\n",
              "\n",
              "      <script>\n",
              "        const buttonEl =\n",
              "          document.querySelector('#df-49c0a5f3-8251-49e8-9b56-91d9691dd114 button.colab-df-convert');\n",
              "        buttonEl.style.display =\n",
              "          google.colab.kernel.accessAllowed ? 'block' : 'none';\n",
              "\n",
              "        async function convertToInteractive(key) {\n",
              "          const element = document.querySelector('#df-49c0a5f3-8251-49e8-9b56-91d9691dd114');\n",
              "          const dataTable =\n",
              "            await google.colab.kernel.invokeFunction('convertToInteractive',\n",
              "                                                     [key], {});\n",
              "          if (!dataTable) return;\n",
              "\n",
              "          const docLinkHtml = 'Like what you see? Visit the ' +\n",
              "            '<a target=\"_blank\" href=https://colab.research.google.com/notebooks/data_table.ipynb>data table notebook</a>'\n",
              "            + ' to learn more about interactive tables.';\n",
              "          element.innerHTML = '';\n",
              "          dataTable['output_type'] = 'display_data';\n",
              "          await google.colab.output.renderOutput(dataTable, element);\n",
              "          const docLink = document.createElement('div');\n",
              "          docLink.innerHTML = docLinkHtml;\n",
              "          element.appendChild(docLink);\n",
              "        }\n",
              "      </script>\n",
              "    </div>\n",
              "  </div>\n",
              "  "
            ]
          },
          "metadata": {},
          "execution_count": 115
        }
      ]
    },
    {
      "cell_type": "code",
      "source": [
        "partidos['NUMERO PARTIDO'] = partidos['NUMERO PARTIDO'].astype(object)"
      ],
      "metadata": {
        "id": "U5Tt3ZvNMnLK"
      },
      "execution_count": 116,
      "outputs": []
    },
    {
      "cell_type": "markdown",
      "source": [
        "## Geração de DataFrame com dados dos estados brasileiros"
      ],
      "metadata": {
        "id": "qcm0kwfOhrbO"
      }
    },
    {
      "cell_type": "code",
      "source": [
        "candidatos_por_estado = candidatos.copy()\n",
        "candidatos_por_estado.head(3)"
      ],
      "metadata": {
        "colab": {
          "base_uri": "https://localhost:8080/",
          "height": 0
        },
        "id": "Iy4y-fhvhy6C",
        "outputId": "cdc2433c-d13f-4b71-eaa6-5add92a0317c"
      },
      "execution_count": 117,
      "outputs": [
        {
          "output_type": "execute_result",
          "data": {
            "text/plain": [
              "                   UF SG_UE           NM_UE      CARGO ELEICAO  \\\n",
              "18277  RIO DE JANEIRO    RJ  RIO DE JANEIRO   DEPUTADO FEDERAL   \n",
              "10150     MATO GROSSO    MT     MATO GROSSO  DEPUTADO ESTADUAL   \n",
              "5199        TOCANTINS    TO       TOCANTINS  DEPUTADO ESTADUAL   \n",
              "\n",
              "      NUMERO CANDIDATO NOME DO CANDIDATO NA URNA NOME SOCIAL  \\\n",
              "18277             7050                   A VERA            -   \n",
              "10150            22100          ADAVILSO AZEVEDO           -   \n",
              "5199             14222             ADONAY DIVINO           -   \n",
              "\n",
              "      SITUACAO CANDIDATURA  TIPO AGREMIACAO  NUMERO PARTIDO  ...  \\\n",
              "18277           CADASTRADO  PARTIDO ISOLADO              70  ...   \n",
              "10150           CADASTRADO  PARTIDO ISOLADO              22  ...   \n",
              "5199            CADASTRADO  PARTIDO ISOLADO              14  ...   \n",
              "\n",
              "       FAIXA ETARIA     GENERO             ESCOLARIDADE ESTADO CIVIL COR/RACA  \\\n",
              "18277  60 a 64 anos   FEMININO      SUPERIOR INCOMPLETO    CASADO(A)   BRANCA   \n",
              "10150  40 a 44 anos  MASCULINO  ENSINO MÉDIO INCOMPLETO    CASADO(A)   BRANCA   \n",
              "5199   40 a 44 anos  MASCULINO    ENSINO MÉDIO COMPLETO    CASADO(A)    PARDA   \n",
              "\n",
              "                                                OCUPACAO DESPESA CAMPANHA  \\\n",
              "18277                                             OUTROS       3176572.53   \n",
              "10150                                         EMPRESÁRIO       1270629.01   \n",
              "5199   LOCUTOR E COMENTARISTA DE RÁDIO E TELEVISÃO E ...       1270629.01   \n",
              "\n",
              "      REELEICAO INSERIDO NA URNA                               PARTIDO  \n",
              "18277       NAO              NÃO                       AVANTE - AVANTE  \n",
              "10150       NAO              NÃO                  PL - PARTIDO LIBERAL  \n",
              "5199        NAO              NÃO  PTB - PARTIDO TRABALHISTA BRASILEIRO  \n",
              "\n",
              "[3 rows x 26 columns]"
            ],
            "text/html": [
              "\n",
              "  <div id=\"df-c3caca55-e5a8-4264-afed-6b368ed16997\">\n",
              "    <div class=\"colab-df-container\">\n",
              "      <div>\n",
              "<style scoped>\n",
              "    .dataframe tbody tr th:only-of-type {\n",
              "        vertical-align: middle;\n",
              "    }\n",
              "\n",
              "    .dataframe tbody tr th {\n",
              "        vertical-align: top;\n",
              "    }\n",
              "\n",
              "    .dataframe thead th {\n",
              "        text-align: right;\n",
              "    }\n",
              "</style>\n",
              "<table border=\"1\" class=\"dataframe\">\n",
              "  <thead>\n",
              "    <tr style=\"text-align: right;\">\n",
              "      <th></th>\n",
              "      <th>UF</th>\n",
              "      <th>SG_UE</th>\n",
              "      <th>NM_UE</th>\n",
              "      <th>CARGO ELEICAO</th>\n",
              "      <th>NUMERO CANDIDATO</th>\n",
              "      <th>NOME DO CANDIDATO NA URNA</th>\n",
              "      <th>NOME SOCIAL</th>\n",
              "      <th>SITUACAO CANDIDATURA</th>\n",
              "      <th>TIPO AGREMIACAO</th>\n",
              "      <th>NUMERO PARTIDO</th>\n",
              "      <th>...</th>\n",
              "      <th>FAIXA ETARIA</th>\n",
              "      <th>GENERO</th>\n",
              "      <th>ESCOLARIDADE</th>\n",
              "      <th>ESTADO CIVIL</th>\n",
              "      <th>COR/RACA</th>\n",
              "      <th>OCUPACAO</th>\n",
              "      <th>DESPESA CAMPANHA</th>\n",
              "      <th>REELEICAO</th>\n",
              "      <th>INSERIDO NA URNA</th>\n",
              "      <th>PARTIDO</th>\n",
              "    </tr>\n",
              "  </thead>\n",
              "  <tbody>\n",
              "    <tr>\n",
              "      <th>18277</th>\n",
              "      <td>RIO DE JANEIRO</td>\n",
              "      <td>RJ</td>\n",
              "      <td>RIO DE JANEIRO</td>\n",
              "      <td>DEPUTADO FEDERAL</td>\n",
              "      <td>7050</td>\n",
              "      <td>A VERA</td>\n",
              "      <td>-</td>\n",
              "      <td>CADASTRADO</td>\n",
              "      <td>PARTIDO ISOLADO</td>\n",
              "      <td>70</td>\n",
              "      <td>...</td>\n",
              "      <td>60 a 64 anos</td>\n",
              "      <td>FEMININO</td>\n",
              "      <td>SUPERIOR INCOMPLETO</td>\n",
              "      <td>CASADO(A)</td>\n",
              "      <td>BRANCA</td>\n",
              "      <td>OUTROS</td>\n",
              "      <td>3176572.53</td>\n",
              "      <td>NAO</td>\n",
              "      <td>NÃO</td>\n",
              "      <td>AVANTE - AVANTE</td>\n",
              "    </tr>\n",
              "    <tr>\n",
              "      <th>10150</th>\n",
              "      <td>MATO GROSSO</td>\n",
              "      <td>MT</td>\n",
              "      <td>MATO GROSSO</td>\n",
              "      <td>DEPUTADO ESTADUAL</td>\n",
              "      <td>22100</td>\n",
              "      <td>ADAVILSO AZEVEDO</td>\n",
              "      <td>-</td>\n",
              "      <td>CADASTRADO</td>\n",
              "      <td>PARTIDO ISOLADO</td>\n",
              "      <td>22</td>\n",
              "      <td>...</td>\n",
              "      <td>40 a 44 anos</td>\n",
              "      <td>MASCULINO</td>\n",
              "      <td>ENSINO MÉDIO INCOMPLETO</td>\n",
              "      <td>CASADO(A)</td>\n",
              "      <td>BRANCA</td>\n",
              "      <td>EMPRESÁRIO</td>\n",
              "      <td>1270629.01</td>\n",
              "      <td>NAO</td>\n",
              "      <td>NÃO</td>\n",
              "      <td>PL - PARTIDO LIBERAL</td>\n",
              "    </tr>\n",
              "    <tr>\n",
              "      <th>5199</th>\n",
              "      <td>TOCANTINS</td>\n",
              "      <td>TO</td>\n",
              "      <td>TOCANTINS</td>\n",
              "      <td>DEPUTADO ESTADUAL</td>\n",
              "      <td>14222</td>\n",
              "      <td>ADONAY DIVINO</td>\n",
              "      <td>-</td>\n",
              "      <td>CADASTRADO</td>\n",
              "      <td>PARTIDO ISOLADO</td>\n",
              "      <td>14</td>\n",
              "      <td>...</td>\n",
              "      <td>40 a 44 anos</td>\n",
              "      <td>MASCULINO</td>\n",
              "      <td>ENSINO MÉDIO COMPLETO</td>\n",
              "      <td>CASADO(A)</td>\n",
              "      <td>PARDA</td>\n",
              "      <td>LOCUTOR E COMENTARISTA DE RÁDIO E TELEVISÃO E ...</td>\n",
              "      <td>1270629.01</td>\n",
              "      <td>NAO</td>\n",
              "      <td>NÃO</td>\n",
              "      <td>PTB - PARTIDO TRABALHISTA BRASILEIRO</td>\n",
              "    </tr>\n",
              "  </tbody>\n",
              "</table>\n",
              "<p>3 rows × 26 columns</p>\n",
              "</div>\n",
              "      <button class=\"colab-df-convert\" onclick=\"convertToInteractive('df-c3caca55-e5a8-4264-afed-6b368ed16997')\"\n",
              "              title=\"Convert this dataframe to an interactive table.\"\n",
              "              style=\"display:none;\">\n",
              "        \n",
              "  <svg xmlns=\"http://www.w3.org/2000/svg\" height=\"24px\"viewBox=\"0 0 24 24\"\n",
              "       width=\"24px\">\n",
              "    <path d=\"M0 0h24v24H0V0z\" fill=\"none\"/>\n",
              "    <path d=\"M18.56 5.44l.94 2.06.94-2.06 2.06-.94-2.06-.94-.94-2.06-.94 2.06-2.06.94zm-11 1L8.5 8.5l.94-2.06 2.06-.94-2.06-.94L8.5 2.5l-.94 2.06-2.06.94zm10 10l.94 2.06.94-2.06 2.06-.94-2.06-.94-.94-2.06-.94 2.06-2.06.94z\"/><path d=\"M17.41 7.96l-1.37-1.37c-.4-.4-.92-.59-1.43-.59-.52 0-1.04.2-1.43.59L10.3 9.45l-7.72 7.72c-.78.78-.78 2.05 0 2.83L4 21.41c.39.39.9.59 1.41.59.51 0 1.02-.2 1.41-.59l7.78-7.78 2.81-2.81c.8-.78.8-2.07 0-2.86zM5.41 20L4 18.59l7.72-7.72 1.47 1.35L5.41 20z\"/>\n",
              "  </svg>\n",
              "      </button>\n",
              "      \n",
              "  <style>\n",
              "    .colab-df-container {\n",
              "      display:flex;\n",
              "      flex-wrap:wrap;\n",
              "      gap: 12px;\n",
              "    }\n",
              "\n",
              "    .colab-df-convert {\n",
              "      background-color: #E8F0FE;\n",
              "      border: none;\n",
              "      border-radius: 50%;\n",
              "      cursor: pointer;\n",
              "      display: none;\n",
              "      fill: #1967D2;\n",
              "      height: 32px;\n",
              "      padding: 0 0 0 0;\n",
              "      width: 32px;\n",
              "    }\n",
              "\n",
              "    .colab-df-convert:hover {\n",
              "      background-color: #E2EBFA;\n",
              "      box-shadow: 0px 1px 2px rgba(60, 64, 67, 0.3), 0px 1px 3px 1px rgba(60, 64, 67, 0.15);\n",
              "      fill: #174EA6;\n",
              "    }\n",
              "\n",
              "    [theme=dark] .colab-df-convert {\n",
              "      background-color: #3B4455;\n",
              "      fill: #D2E3FC;\n",
              "    }\n",
              "\n",
              "    [theme=dark] .colab-df-convert:hover {\n",
              "      background-color: #434B5C;\n",
              "      box-shadow: 0px 1px 3px 1px rgba(0, 0, 0, 0.15);\n",
              "      filter: drop-shadow(0px 1px 2px rgba(0, 0, 0, 0.3));\n",
              "      fill: #FFFFFF;\n",
              "    }\n",
              "  </style>\n",
              "\n",
              "      <script>\n",
              "        const buttonEl =\n",
              "          document.querySelector('#df-c3caca55-e5a8-4264-afed-6b368ed16997 button.colab-df-convert');\n",
              "        buttonEl.style.display =\n",
              "          google.colab.kernel.accessAllowed ? 'block' : 'none';\n",
              "\n",
              "        async function convertToInteractive(key) {\n",
              "          const element = document.querySelector('#df-c3caca55-e5a8-4264-afed-6b368ed16997');\n",
              "          const dataTable =\n",
              "            await google.colab.kernel.invokeFunction('convertToInteractive',\n",
              "                                                     [key], {});\n",
              "          if (!dataTable) return;\n",
              "\n",
              "          const docLinkHtml = 'Like what you see? Visit the ' +\n",
              "            '<a target=\"_blank\" href=https://colab.research.google.com/notebooks/data_table.ipynb>data table notebook</a>'\n",
              "            + ' to learn more about interactive tables.';\n",
              "          element.innerHTML = '';\n",
              "          dataTable['output_type'] = 'display_data';\n",
              "          await google.colab.output.renderOutput(dataTable, element);\n",
              "          const docLink = document.createElement('div');\n",
              "          docLink.innerHTML = docLinkHtml;\n",
              "          element.appendChild(docLink);\n",
              "        }\n",
              "      </script>\n",
              "    </div>\n",
              "  </div>\n",
              "  "
            ]
          },
          "metadata": {},
          "execution_count": 117
        }
      ]
    },
    {
      "cell_type": "code",
      "source": [
        "candidatos_por_estado = candidatos_por_estado[['UF', 'GENERO', 'ESCOLARIDADE', 'FAIXA ETARIA', 'ESTADO CIVIL', 'COR/RACA']]\n",
        "candidatos_por_estado.head()"
      ],
      "metadata": {
        "colab": {
          "base_uri": "https://localhost:8080/",
          "height": 0
        },
        "id": "293MUttjh-m6",
        "outputId": "7cd2e42f-86aa-4a2a-d201-98225e760074"
      },
      "execution_count": 118,
      "outputs": [
        {
          "output_type": "execute_result",
          "data": {
            "text/plain": [
              "                   UF     GENERO             ESCOLARIDADE  FAIXA ETARIA  \\\n",
              "18277  RIO DE JANEIRO   FEMININO      SUPERIOR INCOMPLETO  60 a 64 anos   \n",
              "10150     MATO GROSSO  MASCULINO  ENSINO MÉDIO INCOMPLETO  40 a 44 anos   \n",
              "5199        TOCANTINS  MASCULINO    ENSINO MÉDIO COMPLETO  40 a 44 anos   \n",
              "19593  SANTA CATARINA  MASCULINO  ENSINO MÉDIO INCOMPLETO  50 a 54 anos   \n",
              "27400  RIO DE JANEIRO   FEMININO    ENSINO MÉDIO COMPLETO  45 a 49 anos   \n",
              "\n",
              "      ESTADO CIVIL COR/RACA  \n",
              "18277    CASADO(A)   BRANCA  \n",
              "10150    CASADO(A)   BRANCA  \n",
              "5199     CASADO(A)    PARDA  \n",
              "19593    CASADO(A)   BRANCA  \n",
              "27400  SOLTEIRO(A)    PARDA  "
            ],
            "text/html": [
              "\n",
              "  <div id=\"df-2cc02626-14f9-4c3e-bedf-830547ea162b\">\n",
              "    <div class=\"colab-df-container\">\n",
              "      <div>\n",
              "<style scoped>\n",
              "    .dataframe tbody tr th:only-of-type {\n",
              "        vertical-align: middle;\n",
              "    }\n",
              "\n",
              "    .dataframe tbody tr th {\n",
              "        vertical-align: top;\n",
              "    }\n",
              "\n",
              "    .dataframe thead th {\n",
              "        text-align: right;\n",
              "    }\n",
              "</style>\n",
              "<table border=\"1\" class=\"dataframe\">\n",
              "  <thead>\n",
              "    <tr style=\"text-align: right;\">\n",
              "      <th></th>\n",
              "      <th>UF</th>\n",
              "      <th>GENERO</th>\n",
              "      <th>ESCOLARIDADE</th>\n",
              "      <th>FAIXA ETARIA</th>\n",
              "      <th>ESTADO CIVIL</th>\n",
              "      <th>COR/RACA</th>\n",
              "    </tr>\n",
              "  </thead>\n",
              "  <tbody>\n",
              "    <tr>\n",
              "      <th>18277</th>\n",
              "      <td>RIO DE JANEIRO</td>\n",
              "      <td>FEMININO</td>\n",
              "      <td>SUPERIOR INCOMPLETO</td>\n",
              "      <td>60 a 64 anos</td>\n",
              "      <td>CASADO(A)</td>\n",
              "      <td>BRANCA</td>\n",
              "    </tr>\n",
              "    <tr>\n",
              "      <th>10150</th>\n",
              "      <td>MATO GROSSO</td>\n",
              "      <td>MASCULINO</td>\n",
              "      <td>ENSINO MÉDIO INCOMPLETO</td>\n",
              "      <td>40 a 44 anos</td>\n",
              "      <td>CASADO(A)</td>\n",
              "      <td>BRANCA</td>\n",
              "    </tr>\n",
              "    <tr>\n",
              "      <th>5199</th>\n",
              "      <td>TOCANTINS</td>\n",
              "      <td>MASCULINO</td>\n",
              "      <td>ENSINO MÉDIO COMPLETO</td>\n",
              "      <td>40 a 44 anos</td>\n",
              "      <td>CASADO(A)</td>\n",
              "      <td>PARDA</td>\n",
              "    </tr>\n",
              "    <tr>\n",
              "      <th>19593</th>\n",
              "      <td>SANTA CATARINA</td>\n",
              "      <td>MASCULINO</td>\n",
              "      <td>ENSINO MÉDIO INCOMPLETO</td>\n",
              "      <td>50 a 54 anos</td>\n",
              "      <td>CASADO(A)</td>\n",
              "      <td>BRANCA</td>\n",
              "    </tr>\n",
              "    <tr>\n",
              "      <th>27400</th>\n",
              "      <td>RIO DE JANEIRO</td>\n",
              "      <td>FEMININO</td>\n",
              "      <td>ENSINO MÉDIO COMPLETO</td>\n",
              "      <td>45 a 49 anos</td>\n",
              "      <td>SOLTEIRO(A)</td>\n",
              "      <td>PARDA</td>\n",
              "    </tr>\n",
              "  </tbody>\n",
              "</table>\n",
              "</div>\n",
              "      <button class=\"colab-df-convert\" onclick=\"convertToInteractive('df-2cc02626-14f9-4c3e-bedf-830547ea162b')\"\n",
              "              title=\"Convert this dataframe to an interactive table.\"\n",
              "              style=\"display:none;\">\n",
              "        \n",
              "  <svg xmlns=\"http://www.w3.org/2000/svg\" height=\"24px\"viewBox=\"0 0 24 24\"\n",
              "       width=\"24px\">\n",
              "    <path d=\"M0 0h24v24H0V0z\" fill=\"none\"/>\n",
              "    <path d=\"M18.56 5.44l.94 2.06.94-2.06 2.06-.94-2.06-.94-.94-2.06-.94 2.06-2.06.94zm-11 1L8.5 8.5l.94-2.06 2.06-.94-2.06-.94L8.5 2.5l-.94 2.06-2.06.94zm10 10l.94 2.06.94-2.06 2.06-.94-2.06-.94-.94-2.06-.94 2.06-2.06.94z\"/><path d=\"M17.41 7.96l-1.37-1.37c-.4-.4-.92-.59-1.43-.59-.52 0-1.04.2-1.43.59L10.3 9.45l-7.72 7.72c-.78.78-.78 2.05 0 2.83L4 21.41c.39.39.9.59 1.41.59.51 0 1.02-.2 1.41-.59l7.78-7.78 2.81-2.81c.8-.78.8-2.07 0-2.86zM5.41 20L4 18.59l7.72-7.72 1.47 1.35L5.41 20z\"/>\n",
              "  </svg>\n",
              "      </button>\n",
              "      \n",
              "  <style>\n",
              "    .colab-df-container {\n",
              "      display:flex;\n",
              "      flex-wrap:wrap;\n",
              "      gap: 12px;\n",
              "    }\n",
              "\n",
              "    .colab-df-convert {\n",
              "      background-color: #E8F0FE;\n",
              "      border: none;\n",
              "      border-radius: 50%;\n",
              "      cursor: pointer;\n",
              "      display: none;\n",
              "      fill: #1967D2;\n",
              "      height: 32px;\n",
              "      padding: 0 0 0 0;\n",
              "      width: 32px;\n",
              "    }\n",
              "\n",
              "    .colab-df-convert:hover {\n",
              "      background-color: #E2EBFA;\n",
              "      box-shadow: 0px 1px 2px rgba(60, 64, 67, 0.3), 0px 1px 3px 1px rgba(60, 64, 67, 0.15);\n",
              "      fill: #174EA6;\n",
              "    }\n",
              "\n",
              "    [theme=dark] .colab-df-convert {\n",
              "      background-color: #3B4455;\n",
              "      fill: #D2E3FC;\n",
              "    }\n",
              "\n",
              "    [theme=dark] .colab-df-convert:hover {\n",
              "      background-color: #434B5C;\n",
              "      box-shadow: 0px 1px 3px 1px rgba(0, 0, 0, 0.15);\n",
              "      filter: drop-shadow(0px 1px 2px rgba(0, 0, 0, 0.3));\n",
              "      fill: #FFFFFF;\n",
              "    }\n",
              "  </style>\n",
              "\n",
              "      <script>\n",
              "        const buttonEl =\n",
              "          document.querySelector('#df-2cc02626-14f9-4c3e-bedf-830547ea162b button.colab-df-convert');\n",
              "        buttonEl.style.display =\n",
              "          google.colab.kernel.accessAllowed ? 'block' : 'none';\n",
              "\n",
              "        async function convertToInteractive(key) {\n",
              "          const element = document.querySelector('#df-2cc02626-14f9-4c3e-bedf-830547ea162b');\n",
              "          const dataTable =\n",
              "            await google.colab.kernel.invokeFunction('convertToInteractive',\n",
              "                                                     [key], {});\n",
              "          if (!dataTable) return;\n",
              "\n",
              "          const docLinkHtml = 'Like what you see? Visit the ' +\n",
              "            '<a target=\"_blank\" href=https://colab.research.google.com/notebooks/data_table.ipynb>data table notebook</a>'\n",
              "            + ' to learn more about interactive tables.';\n",
              "          element.innerHTML = '';\n",
              "          dataTable['output_type'] = 'display_data';\n",
              "          await google.colab.output.renderOutput(dataTable, element);\n",
              "          const docLink = document.createElement('div');\n",
              "          docLink.innerHTML = docLinkHtml;\n",
              "          element.appendChild(docLink);\n",
              "        }\n",
              "      </script>\n",
              "    </div>\n",
              "  </div>\n",
              "  "
            ]
          },
          "metadata": {},
          "execution_count": 118
        }
      ]
    },
    {
      "cell_type": "markdown",
      "source": [
        "## Renomeação das colunas de todos os DataFrames gerados"
      ],
      "metadata": {
        "id": "gek08x8W8PtY"
      }
    },
    {
      "cell_type": "code",
      "source": [
        "candidatos = candidatos[['NOME DO CANDIDATO NA URNA', 'CARGO ELEICAO', 'PARTIDO', 'NACIONALIDADE', 'OCUPACAO', 'GENERO', 'NUMERO CANDIDATO', 'SITUACAO CANDIDATURA', 'ESCOLARIDADE', 'FAIXA ETARIA', 'ESTADO CIVIL']]"
      ],
      "metadata": {
        "id": "Zg6WP9Io8Utn"
      },
      "execution_count": 119,
      "outputs": []
    },
    {
      "cell_type": "code",
      "source": [
        "candidatos.columns = ['nome', 'cargo_eleicao', 'partido', 'nacionalidade', 'ocupacao', 'genero', 'numero_candidato', 'situacao_candidatura', 'escolaridade', 'faixa_etaria', 'estado_civil']"
      ],
      "metadata": {
        "id": "dbL-Csxv8Whk"
      },
      "execution_count": 120,
      "outputs": []
    },
    {
      "cell_type": "code",
      "source": [
        "partidos.columns = ['nome', 'numero', 'uf', 'cargo_eleicao', 'coligacao', 'escolaridade', 'genero', 'faixa_etaria', 'estado_civil', 'cor_raca', 'reeleicao']"
      ],
      "metadata": {
        "id": "2YPwWzpj8lxP"
      },
      "execution_count": 121,
      "outputs": []
    },
    {
      "cell_type": "code",
      "source": [
        "candidatos_por_estado.columns = ['uf', 'genero', 'escolaridade', 'faixa_etaria', 'estado_civil', 'cor_raca']"
      ],
      "metadata": {
        "id": "CQND-Dq3835E"
      },
      "execution_count": 122,
      "outputs": []
    },
    {
      "cell_type": "markdown",
      "source": [
        "# Geração dos arquivos csv"
      ],
      "metadata": {
        "id": "UE9A_TkKbc9U"
      }
    },
    {
      "cell_type": "code",
      "source": [
        "candidatos.to_csv('/content/drive/MyDrive/candidatos-preprocessados.csv', index=False)"
      ],
      "metadata": {
        "id": "kg0-m3fn0weN"
      },
      "execution_count": 123,
      "outputs": []
    },
    {
      "cell_type": "code",
      "source": [
        "# Gerar um csv para analisar partidos\n",
        "partidos.to_csv('/content/drive/MyDrive/partidos.csv', index=False)"
      ],
      "metadata": {
        "id": "U8gOAJhLd-i2"
      },
      "execution_count": 124,
      "outputs": []
    },
    {
      "cell_type": "code",
      "source": [
        "# Gerar um csv com informações dos estados brasileiros\n",
        "candidatos_por_estado.to_csv('/content/drive/MyDrive/candidatos_por_estado.csv', index=False)"
      ],
      "metadata": {
        "id": "-POezcPghiRH"
      },
      "execution_count": 125,
      "outputs": []
    }
  ]
}